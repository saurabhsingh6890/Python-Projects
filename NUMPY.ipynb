{
 "cells": [
  {
   "cell_type": "markdown",
   "id": "9829b1d1",
   "metadata": {},
   "source": [
    "## NUMPY start:"
   ]
  },
  {
   "cell_type": "markdown",
   "id": "36a8c150",
   "metadata": {},
   "source": [
    "- python for numbers"
   ]
  },
  {
   "cell_type": "markdown",
   "id": "9368c1f4",
   "metadata": {},
   "source": [
    "- numpy is a collection of functions related to numbers in python."
   ]
  },
  {
   "cell_type": "markdown",
   "id": "1e5c1b51",
   "metadata": {},
   "source": [
    "## array: \n",
    "\n",
    "- array is a data structure which consist of similar kind of datatype in multiple dimention"
   ]
  },
  {
   "cell_type": "code",
   "execution_count": 3,
   "id": "d1d85b37",
   "metadata": {},
   "outputs": [],
   "source": [
    "import numpy as np"
   ]
  },
  {
   "cell_type": "code",
   "execution_count": 21,
   "id": "aec791d2",
   "metadata": {},
   "outputs": [],
   "source": [
    "ar1 = np.random.randint(1 ,5, 7)\n"
   ]
  },
  {
   "cell_type": "code",
   "execution_count": 22,
   "id": "aeb00714",
   "metadata": {},
   "outputs": [
    {
     "data": {
      "text/plain": [
       "array([3, 1, 2, 1, 2, 1, 3])"
      ]
     },
     "execution_count": 22,
     "metadata": {},
     "output_type": "execute_result"
    }
   ],
   "source": [
    "ar1"
   ]
  },
  {
   "cell_type": "code",
   "execution_count": 27,
   "id": "898d3081",
   "metadata": {},
   "outputs": [
    {
     "data": {
      "text/plain": [
       "dtype('int32')"
      ]
     },
     "execution_count": 27,
     "metadata": {},
     "output_type": "execute_result"
    }
   ],
   "source": [
    "ar1.dtype  ##element datatype"
   ]
  },
  {
   "cell_type": "code",
   "execution_count": 28,
   "id": "0da5aae3",
   "metadata": {},
   "outputs": [
    {
     "data": {
      "text/plain": [
       "numpy.ndarray"
      ]
     },
     "execution_count": 28,
     "metadata": {},
     "output_type": "execute_result"
    }
   ],
   "source": [
    "type(ar1) ##structure"
   ]
  },
  {
   "cell_type": "code",
   "execution_count": 29,
   "id": "849225ad",
   "metadata": {},
   "outputs": [
    {
     "data": {
      "text/plain": [
       "1"
      ]
     },
     "execution_count": 29,
     "metadata": {},
     "output_type": "execute_result"
    }
   ],
   "source": [
    "np.ndim(ar1)  ##dimention of array"
   ]
  },
  {
   "cell_type": "code",
   "execution_count": 30,
   "id": "d4c28a2e",
   "metadata": {},
   "outputs": [],
   "source": [
    "ar2 = np.random.randint(1 ,10, (5,5))"
   ]
  },
  {
   "cell_type": "code",
   "execution_count": 32,
   "id": "24b58a3c",
   "metadata": {},
   "outputs": [
    {
     "data": {
      "text/plain": [
       "array([[4, 1, 6, 4, 5],\n",
       "       [6, 5, 7, 4, 5],\n",
       "       [5, 4, 8, 9, 5],\n",
       "       [9, 6, 1, 2, 7],\n",
       "       [2, 2, 1, 1, 6]])"
      ]
     },
     "execution_count": 32,
     "metadata": {},
     "output_type": "execute_result"
    }
   ],
   "source": [
    "ar2"
   ]
  },
  {
   "cell_type": "code",
   "execution_count": 33,
   "id": "c4b48225",
   "metadata": {},
   "outputs": [
    {
     "data": {
      "text/plain": [
       "2"
      ]
     },
     "execution_count": 33,
     "metadata": {},
     "output_type": "execute_result"
    }
   ],
   "source": [
    "np.ndim(ar2) ##dimention"
   ]
  },
  {
   "cell_type": "code",
   "execution_count": 35,
   "id": "310afd08",
   "metadata": {},
   "outputs": [
    {
     "data": {
      "text/plain": [
       "(5, 5)"
      ]
     },
     "execution_count": 35,
     "metadata": {},
     "output_type": "execute_result"
    }
   ],
   "source": [
    "ar2.shape ##row,column"
   ]
  },
  {
   "cell_type": "code",
   "execution_count": 38,
   "id": "42598c74",
   "metadata": {},
   "outputs": [],
   "source": [
    "ar3 = np.random.randint(1 ,8, (4,5))"
   ]
  },
  {
   "cell_type": "code",
   "execution_count": 39,
   "id": "686d724d",
   "metadata": {},
   "outputs": [
    {
     "data": {
      "text/plain": [
       "(4, 5)"
      ]
     },
     "execution_count": 39,
     "metadata": {},
     "output_type": "execute_result"
    }
   ],
   "source": [
    "ar3.shape"
   ]
  },
  {
   "cell_type": "code",
   "execution_count": 40,
   "id": "0fd3e107",
   "metadata": {},
   "outputs": [
    {
     "data": {
      "text/plain": [
       "array([[1, 1, 3, 3, 7],\n",
       "       [6, 1, 1, 7, 2],\n",
       "       [1, 6, 5, 1, 6],\n",
       "       [6, 7, 5, 3, 3]])"
      ]
     },
     "execution_count": 40,
     "metadata": {},
     "output_type": "execute_result"
    }
   ],
   "source": [
    "ar3"
   ]
  },
  {
   "cell_type": "code",
   "execution_count": 7,
   "id": "5fd41f55",
   "metadata": {},
   "outputs": [],
   "source": [
    "ar4 = np.arange(1,10)"
   ]
  },
  {
   "cell_type": "code",
   "execution_count": 45,
   "id": "04ea9090",
   "metadata": {},
   "outputs": [
    {
     "data": {
      "text/plain": [
       "array([[1, 2, 3],\n",
       "       [4, 5, 6],\n",
       "       [7, 8, 9]])"
      ]
     },
     "execution_count": 45,
     "metadata": {},
     "output_type": "execute_result"
    }
   ],
   "source": [
    "np.arange(1,10).reshape(3,3)"
   ]
  },
  {
   "cell_type": "code",
   "execution_count": 8,
   "id": "9f8c7180",
   "metadata": {},
   "outputs": [
    {
     "data": {
      "text/plain": [
       "array([[1, 2, 3],\n",
       "       [4, 5, 6],\n",
       "       [7, 8, 9]])"
      ]
     },
     "execution_count": 8,
     "metadata": {},
     "output_type": "execute_result"
    }
   ],
   "source": [
    "ar4.reshape(3,3)"
   ]
  },
  {
   "cell_type": "code",
   "execution_count": 9,
   "id": "b6071e70",
   "metadata": {},
   "outputs": [
    {
     "data": {
      "text/plain": [
       "(9,)"
      ]
     },
     "execution_count": 9,
     "metadata": {},
     "output_type": "execute_result"
    }
   ],
   "source": [
    "ar4.shape"
   ]
  },
  {
   "cell_type": "code",
   "execution_count": 5,
   "id": "49619983",
   "metadata": {},
   "outputs": [
    {
     "data": {
      "text/plain": [
       "array([ 1,  2,  3,  4,  5,  6,  7,  8,  9, 10])"
      ]
     },
     "execution_count": 5,
     "metadata": {},
     "output_type": "execute_result"
    }
   ],
   "source": [
    "np.arange(1,11)"
   ]
  },
  {
   "cell_type": "code",
   "execution_count": 10,
   "id": "b07d8016",
   "metadata": {},
   "outputs": [],
   "source": [
    "ar5 = np.arange(51,100).reshape(7,7)"
   ]
  },
  {
   "cell_type": "code",
   "execution_count": 11,
   "id": "7cd4fb8a",
   "metadata": {},
   "outputs": [
    {
     "data": {
      "text/plain": [
       "array([[51, 52, 53, 54, 55, 56, 57],\n",
       "       [58, 59, 60, 61, 62, 63, 64],\n",
       "       [65, 66, 67, 68, 69, 70, 71],\n",
       "       [72, 73, 74, 75, 76, 77, 78],\n",
       "       [79, 80, 81, 82, 83, 84, 85],\n",
       "       [86, 87, 88, 89, 90, 91, 92],\n",
       "       [93, 94, 95, 96, 97, 98, 99]])"
      ]
     },
     "execution_count": 11,
     "metadata": {},
     "output_type": "execute_result"
    }
   ],
   "source": [
    "ar5"
   ]
  },
  {
   "cell_type": "code",
   "execution_count": 12,
   "id": "28a82443",
   "metadata": {},
   "outputs": [
    {
     "data": {
      "text/plain": [
       "array([[58, 59, 60, 61, 62, 63, 64],\n",
       "       [65, 66, 67, 68, 69, 70, 71],\n",
       "       [72, 73, 74, 75, 76, 77, 78],\n",
       "       [79, 80, 81, 82, 83, 84, 85],\n",
       "       [86, 87, 88, 89, 90, 91, 92]])"
      ]
     },
     "execution_count": 12,
     "metadata": {},
     "output_type": "execute_result"
    }
   ],
   "source": [
    "ar5[1:6]"
   ]
  },
  {
   "cell_type": "code",
   "execution_count": 14,
   "id": "361db5bd",
   "metadata": {},
   "outputs": [
    {
     "data": {
      "text/plain": [
       "array([[65, 66, 67, 68, 69, 70, 71],\n",
       "       [72, 73, 74, 75, 76, 77, 78],\n",
       "       [79, 80, 81, 82, 83, 84, 85]])"
      ]
     },
     "execution_count": 14,
     "metadata": {},
     "output_type": "execute_result"
    }
   ],
   "source": [
    "#   [65, 66, 67, 68, 69, 70, 71]\n",
    "#    [72, 73, 74, 75, 76, 77, 78]\n",
    "#   [79, 80, 81, 82, 83, 84, 85]\n",
    "ar5[2:5]"
   ]
  },
  {
   "cell_type": "code",
   "execution_count": 15,
   "id": "38eaa052",
   "metadata": {},
   "outputs": [
    {
     "data": {
      "text/plain": [
       "array([[86, 87, 88, 89, 90, 91, 92],\n",
       "       [93, 94, 95, 96, 97, 98, 99]])"
      ]
     },
     "execution_count": 15,
     "metadata": {},
     "output_type": "execute_result"
    }
   ],
   "source": [
    "# [86, 87, 88, 89, 90, 91, 92]\n",
    "# [93, 94, 95, 96, 97, 98, 99]\n",
    "ar5[5:]"
   ]
  },
  {
   "cell_type": "code",
   "execution_count": 17,
   "id": "b2ac3fc7",
   "metadata": {},
   "outputs": [
    {
     "data": {
      "text/plain": [
       "array([[51, 52, 53, 54, 55, 56, 57],\n",
       "       [58, 59, 60, 61, 62, 63, 64]])"
      ]
     },
     "execution_count": 17,
     "metadata": {},
     "output_type": "execute_result"
    }
   ],
   "source": [
    "ar5[:2]"
   ]
  },
  {
   "cell_type": "code",
   "execution_count": 18,
   "id": "25af0ba9",
   "metadata": {},
   "outputs": [
    {
     "data": {
      "text/plain": [
       "array([[51, 52, 53, 54, 55, 56, 57],\n",
       "       [58, 59, 60, 61, 62, 63, 64],\n",
       "       [65, 66, 67, 68, 69, 70, 71],\n",
       "       [72, 73, 74, 75, 76, 77, 78],\n",
       "       [79, 80, 81, 82, 83, 84, 85],\n",
       "       [86, 87, 88, 89, 90, 91, 92],\n",
       "       [93, 94, 95, 96, 97, 98, 99]])"
      ]
     },
     "execution_count": 18,
     "metadata": {},
     "output_type": "execute_result"
    }
   ],
   "source": [
    "ar5"
   ]
  },
  {
   "cell_type": "code",
   "execution_count": 20,
   "id": "74da6ccb",
   "metadata": {},
   "outputs": [
    {
     "data": {
      "text/plain": [
       "array([[52, 53, 54, 55],\n",
       "       [59, 60, 61, 62],\n",
       "       [66, 67, 68, 69],\n",
       "       [73, 74, 75, 76],\n",
       "       [80, 81, 82, 83],\n",
       "       [87, 88, 89, 90],\n",
       "       [94, 95, 96, 97]])"
      ]
     },
     "execution_count": 20,
     "metadata": {},
     "output_type": "execute_result"
    }
   ],
   "source": [
    "# column:\n",
    "# 2nd, 3rd, 4th, 5th column\n",
    "ar5[:,1:5]"
   ]
  },
  {
   "cell_type": "code",
   "execution_count": 21,
   "id": "fad08cfe",
   "metadata": {},
   "outputs": [
    {
     "data": {
      "text/plain": [
       "array([[51, 52],\n",
       "       [58, 59],\n",
       "       [65, 66],\n",
       "       [72, 73],\n",
       "       [79, 80],\n",
       "       [86, 87],\n",
       "       [93, 94]])"
      ]
     },
     "execution_count": 21,
     "metadata": {},
     "output_type": "execute_result"
    }
   ],
   "source": [
    "ar5[:,:2]"
   ]
  },
  {
   "cell_type": "code",
   "execution_count": 23,
   "id": "b6e5d599",
   "metadata": {},
   "outputs": [
    {
     "data": {
      "text/plain": [
       "array([[55, 56, 57],\n",
       "       [62, 63, 64],\n",
       "       [69, 70, 71],\n",
       "       [76, 77, 78],\n",
       "       [83, 84, 85],\n",
       "       [90, 91, 92],\n",
       "       [97, 98, 99]])"
      ]
     },
     "execution_count": 23,
     "metadata": {},
     "output_type": "execute_result"
    }
   ],
   "source": [
    "ar5[:,4:7]"
   ]
  },
  {
   "cell_type": "code",
   "execution_count": 3,
   "id": "3238bc1a",
   "metadata": {},
   "outputs": [
    {
     "ename": "NameError",
     "evalue": "name 'np' is not defined",
     "output_type": "error",
     "traceback": [
      "\u001b[1;31m---------------------------------------------------------------------------\u001b[0m",
      "\u001b[1;31mNameError\u001b[0m                                 Traceback (most recent call last)",
      "\u001b[1;32m~\\AppData\\Local\\Temp\\ipykernel_14140\\4111494835.py\u001b[0m in \u001b[0;36m<module>\u001b[1;34m\u001b[0m\n\u001b[1;32m----> 1\u001b[1;33m \u001b[0mar4\u001b[0m \u001b[1;33m=\u001b[0m \u001b[0mnp\u001b[0m\u001b[1;33m.\u001b[0m\u001b[0marange\u001b[0m\u001b[1;33m(\u001b[0m\u001b[1;36m1\u001b[0m\u001b[1;33m,\u001b[0m\u001b[1;36m101\u001b[0m\u001b[1;33m)\u001b[0m\u001b[1;33m.\u001b[0m\u001b[0mreshape\u001b[0m\u001b[1;33m(\u001b[0m\u001b[1;36m10\u001b[0m\u001b[1;33m,\u001b[0m\u001b[1;36m10\u001b[0m\u001b[1;33m)\u001b[0m\u001b[1;33m\u001b[0m\u001b[1;33m\u001b[0m\u001b[0m\n\u001b[0m\u001b[0;32m      2\u001b[0m \u001b[0mar4\u001b[0m\u001b[1;33m\u001b[0m\u001b[1;33m\u001b[0m\u001b[0m\n",
      "\u001b[1;31mNameError\u001b[0m: name 'np' is not defined"
     ]
    }
   ],
   "source": [
    "ar4 = np.arange(1,101).reshape(10,10)\n",
    "ar4"
   ]
  },
  {
   "cell_type": "code",
   "execution_count": 26,
   "id": "a6939745",
   "metadata": {},
   "outputs": [
    {
     "data": {
      "text/plain": [
       "array([[21, 22, 23, 24, 25, 26, 27, 28, 29, 30],\n",
       "       [31, 32, 33, 34, 35, 36, 37, 38, 39, 40],\n",
       "       [41, 42, 43, 44, 45, 46, 47, 48, 49, 50],\n",
       "       [51, 52, 53, 54, 55, 56, 57, 58, 59, 60],\n",
       "       [61, 62, 63, 64, 65, 66, 67, 68, 69, 70],\n",
       "       [71, 72, 73, 74, 75, 76, 77, 78, 79, 80]])"
      ]
     },
     "execution_count": 26,
     "metadata": {},
     "output_type": "execute_result"
    }
   ],
   "source": [
    "# 3rd to 8th row\n",
    "\n",
    "ar4[2:8]\n",
    "#(0,1,2 index)"
   ]
  },
  {
   "cell_type": "code",
   "execution_count": 28,
   "id": "ae214461",
   "metadata": {},
   "outputs": [
    {
     "data": {
      "text/plain": [
       "array([[ 3,  4,  5,  6,  7,  8],\n",
       "       [13, 14, 15, 16, 17, 18],\n",
       "       [23, 24, 25, 26, 27, 28],\n",
       "       [33, 34, 35, 36, 37, 38],\n",
       "       [43, 44, 45, 46, 47, 48],\n",
       "       [53, 54, 55, 56, 57, 58],\n",
       "       [63, 64, 65, 66, 67, 68],\n",
       "       [73, 74, 75, 76, 77, 78],\n",
       "       [83, 84, 85, 86, 87, 88],\n",
       "       [93, 94, 95, 96, 97, 98]])"
      ]
     },
     "execution_count": 28,
     "metadata": {},
     "output_type": "execute_result"
    }
   ],
   "source": [
    "# 3rd to 8th column\n",
    "\n",
    "ar4[:, 2:8]"
   ]
  },
  {
   "cell_type": "code",
   "execution_count": 29,
   "id": "2298d38a",
   "metadata": {},
   "outputs": [
    {
     "data": {
      "text/plain": [
       "array([[23, 24, 25, 26, 27, 28],\n",
       "       [33, 34, 35, 36, 37, 38],\n",
       "       [43, 44, 45, 46, 47, 48],\n",
       "       [53, 54, 55, 56, 57, 58],\n",
       "       [63, 64, 65, 66, 67, 68],\n",
       "       [73, 74, 75, 76, 77, 78]])"
      ]
     },
     "execution_count": 29,
     "metadata": {},
     "output_type": "execute_result"
    }
   ],
   "source": [
    "# [23, 24, 25, 26, 27, 28]\n",
    "# [33, 34, 35, 36, 37, 38]\n",
    "# [43, 44, 45, 46, 47, 48]\n",
    "# [53, 54, 55, 56, 57, 58]\n",
    "# [63, 64, 65, 66, 67, 68]\n",
    "# [73, 74, 75, 76, 77, 78]\n",
    "\n",
    "ar4[2:8, 2:8]"
   ]
  },
  {
   "cell_type": "code",
   "execution_count": 30,
   "id": "0c5d167c",
   "metadata": {},
   "outputs": [
    {
     "data": {
      "text/plain": [
       "array([[90, 91, 92],\n",
       "       [97, 98, 99]])"
      ]
     },
     "execution_count": 30,
     "metadata": {},
     "output_type": "execute_result"
    }
   ],
   "source": [
    "  # [55, 56, 57],\n",
    "   #    [62, 63, 64],\n",
    "   #    [69, 70, 71],\n",
    "    #   [76, 77, 78]\n",
    "ar5[5:8, 4:8] "
   ]
  },
  {
   "cell_type": "code",
   "execution_count": 34,
   "id": "1fbe0658",
   "metadata": {},
   "outputs": [
    {
     "data": {
      "text/plain": [
       "array([[55, 56, 57],\n",
       "       [62, 63, 64],\n",
       "       [69, 70, 71],\n",
       "       [76, 77, 78]])"
      ]
     },
     "execution_count": 34,
     "metadata": {},
     "output_type": "execute_result"
    }
   ],
   "source": [
    "ar5[0:4, 4:8]"
   ]
  },
  {
   "cell_type": "code",
   "execution_count": null,
   "id": "eeac44dd",
   "metadata": {},
   "outputs": [],
   "source": [
    "# 42,  43,  44,  45,  46,  47\n",
    "# 52,  53,  54,  55,  56,  57\n",
    "#  62,  63,  64,  65,  66,  67,  68,  69,  70],\n",
    "#  72,  73,  74,  75,  76,  77,  78,  79,  80],\n",
    "# 82,  83,  84,  85,  86,  87,]\n",
    "    \n"
   ]
  },
  {
   "cell_type": "code",
   "execution_count": 38,
   "id": "2f622066",
   "metadata": {},
   "outputs": [
    {
     "data": {
      "text/plain": [
       "array([[53, 54, 55],\n",
       "       [63, 64, 65],\n",
       "       [73, 74, 75]])"
      ]
     },
     "execution_count": 38,
     "metadata": {},
     "output_type": "execute_result"
    }
   ],
   "source": [
    "ar4[5:8, 2:5]"
   ]
  },
  {
   "cell_type": "code",
   "execution_count": 41,
   "id": "1fe08a37",
   "metadata": {},
   "outputs": [
    {
     "data": {
      "text/plain": [
       "array([[ 4,  6,  8],\n",
       "       [14, 16, 18],\n",
       "       [24, 26, 28],\n",
       "       [34, 36, 38],\n",
       "       [44, 46, 48],\n",
       "       [54, 56, 58],\n",
       "       [64, 66, 68],\n",
       "       [74, 76, 78],\n",
       "       [84, 86, 88],\n",
       "       [94, 96, 98]])"
      ]
     },
     "execution_count": 41,
     "metadata": {},
     "output_type": "execute_result"
    }
   ],
   "source": [
    "# 4th 6th and 8th row\n",
    "ar4[:,3:8:2]"
   ]
  },
  {
   "cell_type": "code",
   "execution_count": 42,
   "id": "0f945a4a",
   "metadata": {},
   "outputs": [
    {
     "data": {
      "text/plain": [
       "array([[ 4,  6,  8],\n",
       "       [14, 16, 18],\n",
       "       [24, 26, 28],\n",
       "       [34, 36, 38],\n",
       "       [44, 46, 48],\n",
       "       [54, 56, 58],\n",
       "       [64, 66, 68],\n",
       "       [74, 76, 78],\n",
       "       [84, 86, 88],\n",
       "       [94, 96, 98]])"
      ]
     },
     "execution_count": 42,
     "metadata": {},
     "output_type": "execute_result"
    }
   ],
   "source": [
    "# 4th 6th and 8th column:\n",
    "\n",
    "ar4[:, 3:8:2]"
   ]
  },
  {
   "cell_type": "code",
   "execution_count": 46,
   "id": "352c21fd",
   "metadata": {},
   "outputs": [
    {
     "data": {
      "text/plain": [
       "array([[14, 16, 18],\n",
       "       [24, 26, 28],\n",
       "       [34, 36, 38],\n",
       "       [44, 46, 48],\n",
       "       [54, 56, 58]])"
      ]
     },
     "execution_count": 46,
     "metadata": {},
     "output_type": "execute_result"
    }
   ],
   "source": [
    "# [14, 16, 18],\n",
    "# [24, 26, 28],\n",
    "# [34, 36, 38],\n",
    "#[44, 46, 48],\n",
    "#[54, 56, 58],\n",
    "# [64, 66, 68],\n",
    "\n",
    "ar4[1:6, 3:8:2]"
   ]
  },
  {
   "cell_type": "raw",
   "id": "72e877df",
   "metadata": {},
   "source": []
  },
  {
   "cell_type": "raw",
   "id": "2f2cdabd",
   "metadata": {},
   "source": []
  },
  {
   "cell_type": "code",
   "execution_count": 2,
   "id": "fcd67fa3",
   "metadata": {},
   "outputs": [
    {
     "ename": "NameError",
     "evalue": "name 'ar4' is not defined",
     "output_type": "error",
     "traceback": [
      "\u001b[1;31m---------------------------------------------------------------------------\u001b[0m",
      "\u001b[1;31mNameError\u001b[0m                                 Traceback (most recent call last)",
      "\u001b[1;32m~\\AppData\\Local\\Temp\\ipykernel_14140\\183359056.py\u001b[0m in \u001b[0;36m<module>\u001b[1;34m\u001b[0m\n\u001b[1;32m----> 1\u001b[1;33m \u001b[0mar4\u001b[0m\u001b[1;33m\u001b[0m\u001b[1;33m\u001b[0m\u001b[0m\n\u001b[0m",
      "\u001b[1;31mNameError\u001b[0m: name 'ar4' is not defined"
     ]
    }
   ],
   "source": [
    "ar4"
   ]
  },
  {
   "cell_type": "code",
   "execution_count": 50,
   "id": "f01977c6",
   "metadata": {},
   "outputs": [
    {
     "data": {
      "text/plain": [
       "array([[14, 16, 18],\n",
       "       [34, 36, 38],\n",
       "       [54, 56, 58]])"
      ]
     },
     "execution_count": 50,
     "metadata": {},
     "output_type": "execute_result"
    }
   ],
   "source": [
    "# [14, 16, 18], \n",
    "# [34, 36, 38],\n",
    "# [54, 56, 58],\n",
    "\n",
    "ar4[1:6:2, 3:8:2]\n"
   ]
  },
  {
   "cell_type": "code",
   "execution_count": 51,
   "id": "f7e944d0",
   "metadata": {},
   "outputs": [
    {
     "data": {
      "text/plain": [
       "array([[36, 38],\n",
       "       [56, 58]])"
      ]
     },
     "execution_count": 51,
     "metadata": {},
     "output_type": "execute_result"
    }
   ],
   "source": [
    "#36,  38, \n",
    "# 56, 58,\n",
    "\n",
    "ar4[3:6:2, 5:8:2]"
   ]
  },
  {
   "cell_type": "code",
   "execution_count": 52,
   "id": "5be968fe",
   "metadata": {},
   "outputs": [
    {
     "data": {
      "text/plain": [
       "array([[11, 12, 13, 14, 15, 16, 17, 18, 19, 20],\n",
       "       [61, 62, 63, 64, 65, 66, 67, 68, 69, 70]])"
      ]
     },
     "execution_count": 52,
     "metadata": {},
     "output_type": "execute_result"
    }
   ],
   "source": [
    "# 2nd row and 7th row\n",
    "\n",
    "ar4[1:8:5]"
   ]
  },
  {
   "cell_type": "code",
   "execution_count": 53,
   "id": "87eab8d3",
   "metadata": {},
   "outputs": [
    {
     "data": {
      "text/plain": [
       "array([[11, 12, 13, 14, 15, 16, 17, 18, 19, 20],\n",
       "       [61, 62, 63, 64, 65, 66, 67, 68, 69, 70]])"
      ]
     },
     "execution_count": 53,
     "metadata": {},
     "output_type": "execute_result"
    }
   ],
   "source": [
    "ar4[[1,6]]\n",
    "\n",
    "## second method"
   ]
  },
  {
   "cell_type": "code",
   "execution_count": 55,
   "id": "b7dac6ad",
   "metadata": {},
   "outputs": [
    {
     "data": {
      "text/plain": [
       "array([[ 6,  9],\n",
       "       [16, 19],\n",
       "       [26, 29],\n",
       "       [36, 39],\n",
       "       [46, 49],\n",
       "       [56, 59],\n",
       "       [66, 69],\n",
       "       [76, 79],\n",
       "       [86, 89],\n",
       "       [96, 99]])"
      ]
     },
     "execution_count": 55,
     "metadata": {},
     "output_type": "execute_result"
    }
   ],
   "source": [
    "# 5th column and 9th column\n",
    "\n",
    "ar4[:, [5,8]]"
   ]
  },
  {
   "cell_type": "markdown",
   "id": "e9d5ee55",
   "metadata": {},
   "source": [
    "# 7 FEB 2023"
   ]
  },
  {
   "cell_type": "code",
   "execution_count": 9,
   "id": "429a6fbe",
   "metadata": {},
   "outputs": [
    {
     "data": {
      "text/plain": [
       "array([[101, 102, 103, 104, 105, 106],\n",
       "       [107, 108, 109, 110, 111, 112],\n",
       "       [113, 114, 115, 116, 117, 118],\n",
       "       [119, 120, 121, 122, 123, 124],\n",
       "       [125, 126, 127, 128, 129, 130]])"
      ]
     },
     "execution_count": 9,
     "metadata": {},
     "output_type": "execute_result"
    }
   ],
   "source": [
    "#array 5*6 starting from 101 - 136.\n",
    "ar1 = np.arange(101,131).reshape(5,6)\n",
    "ar1"
   ]
  },
  {
   "cell_type": "code",
   "execution_count": 10,
   "id": "62b5724b",
   "metadata": {},
   "outputs": [
    {
     "data": {
      "text/plain": [
       "array([[107, 108, 109, 110, 111, 112],\n",
       "       [113, 114, 115, 116, 117, 118],\n",
       "       [119, 120, 121, 122, 123, 124]])"
      ]
     },
     "execution_count": 10,
     "metadata": {},
     "output_type": "execute_result"
    }
   ],
   "source": [
    "# 107, 108, 109, 110, 111, 112],\n",
    "#[113, 114, 115, 116, 117, 118],\n",
    "#[119, 120, 121, 122, 123, 124],\n",
    "\n",
    "ar1[1:4]"
   ]
  },
  {
   "cell_type": "code",
   "execution_count": 11,
   "id": "ec35a6c1",
   "metadata": {},
   "outputs": [
    {
     "data": {
      "text/plain": [
       "array([[107, 108, 109, 110, 111, 112],\n",
       "       [119, 120, 121, 122, 123, 124]])"
      ]
     },
     "execution_count": 11,
     "metadata": {},
     "output_type": "execute_result"
    }
   ],
   "source": [
    "# 107, 108, 109, 110, 111, 112],\n",
    "#[119, 120, 121, 122, 123, 124],\n",
    "\n",
    "ar1[1:4:2]"
   ]
  },
  {
   "cell_type": "code",
   "execution_count": 13,
   "id": "188bf25e",
   "metadata": {},
   "outputs": [
    {
     "data": {
      "text/plain": [
       "array([[103, 104, 105, 106],\n",
       "       [109, 110, 111, 112],\n",
       "       [115, 116, 117, 118],\n",
       "       [121, 122, 123, 124],\n",
       "       [127, 128, 129, 130]])"
      ]
     },
     "execution_count": 13,
     "metadata": {},
     "output_type": "execute_result"
    }
   ],
   "source": [
    "#103, 104, 105, 106],\n",
    "#109, 110, 111, 112],\n",
    "#115, 116, 117, 118],\n",
    "#121, 122, 123, 124],\n",
    "ar1[:, 2:6]"
   ]
  },
  {
   "cell_type": "code",
   "execution_count": 14,
   "id": "aefb216c",
   "metadata": {},
   "outputs": [
    {
     "data": {
      "text/plain": [
       "array([[103, 105],\n",
       "       [121, 123]])"
      ]
     },
     "execution_count": 14,
     "metadata": {},
     "output_type": "execute_result"
    }
   ],
   "source": [
    "# 103, 105\n",
    "#121, 123\n",
    "ar1[:4:3, 2:6:2]"
   ]
  },
  {
   "cell_type": "code",
   "execution_count": 15,
   "id": "143820be",
   "metadata": {},
   "outputs": [
    {
     "data": {
      "text/plain": [
       "array([[101, 102, 103, 104, 105, 106],\n",
       "       [107, 108, 109, 110, 111, 112],\n",
       "       [113, 114, 115, 116, 117, 118],\n",
       "       [119, 120, 121, 122, 123, 124],\n",
       "       [125, 126, 127, 128, 129, 130]])"
      ]
     },
     "execution_count": 15,
     "metadata": {},
     "output_type": "execute_result"
    }
   ],
   "source": [
    "ar1"
   ]
  },
  {
   "cell_type": "code",
   "execution_count": 16,
   "id": "78533d55",
   "metadata": {},
   "outputs": [
    {
     "data": {
      "text/plain": [
       "array([[201, 202, 203, 204, 205, 206],\n",
       "       [207, 208, 209, 210, 211, 212],\n",
       "       [213, 214, 215, 216, 217, 218],\n",
       "       [219, 220, 221, 222, 223, 224],\n",
       "       [225, 226, 227, 228, 229, 230]])"
      ]
     },
     "execution_count": 16,
     "metadata": {},
     "output_type": "execute_result"
    }
   ],
   "source": [
    "ar1+100"
   ]
  },
  {
   "cell_type": "code",
   "execution_count": 17,
   "id": "ad0a3cea",
   "metadata": {},
   "outputs": [
    {
     "data": {
      "text/plain": [
       "array([[1010, 1020, 1030, 1040, 1050, 1060],\n",
       "       [1070, 1080, 1090, 1100, 1110, 1120],\n",
       "       [1130, 1140, 1150, 1160, 1170, 1180],\n",
       "       [1190, 1200, 1210, 1220, 1230, 1240],\n",
       "       [1250, 1260, 1270, 1280, 1290, 1300]])"
      ]
     },
     "execution_count": 17,
     "metadata": {},
     "output_type": "execute_result"
    }
   ],
   "source": [
    "ar1*10"
   ]
  },
  {
   "cell_type": "code",
   "execution_count": 18,
   "id": "79153ef1",
   "metadata": {},
   "outputs": [
    {
     "data": {
      "text/plain": [
       "(5, 6)"
      ]
     },
     "execution_count": 18,
     "metadata": {},
     "output_type": "execute_result"
    }
   ],
   "source": [
    "ar1.shape"
   ]
  },
  {
   "cell_type": "code",
   "execution_count": 19,
   "id": "05251854",
   "metadata": {},
   "outputs": [],
   "source": [
    "ar2 = np.arange(1, 26).reshape(5,5)"
   ]
  },
  {
   "cell_type": "code",
   "execution_count": 20,
   "id": "5e20a3ae",
   "metadata": {},
   "outputs": [
    {
     "data": {
      "text/plain": [
       "array([[ 1,  2,  3,  4,  5],\n",
       "       [ 6,  7,  8,  9, 10],\n",
       "       [11, 12, 13, 14, 15],\n",
       "       [16, 17, 18, 19, 20],\n",
       "       [21, 22, 23, 24, 25]])"
      ]
     },
     "execution_count": 20,
     "metadata": {},
     "output_type": "execute_result"
    }
   ],
   "source": [
    "ar2"
   ]
  },
  {
   "cell_type": "code",
   "execution_count": 21,
   "id": "1fc73f9d",
   "metadata": {},
   "outputs": [
    {
     "data": {
      "text/plain": [
       "array([[ 215,  230,  245,  260,  275],\n",
       "       [ 490,  530,  570,  610,  650],\n",
       "       [ 765,  830,  895,  960, 1025],\n",
       "       [1040, 1130, 1220, 1310, 1400],\n",
       "       [1315, 1430, 1545, 1660, 1775]])"
      ]
     },
     "execution_count": 21,
     "metadata": {},
     "output_type": "execute_result"
    }
   ],
   "source": [
    "np.dot(ar2, ar2)"
   ]
  },
  {
   "cell_type": "code",
   "execution_count": 23,
   "id": "9541cc8d",
   "metadata": {},
   "outputs": [
    {
     "data": {
      "text/plain": [
       "array([[ 215,  230,  245,  260,  275],\n",
       "       [ 490,  530,  570,  610,  650],\n",
       "       [ 765,  830,  895,  960, 1025],\n",
       "       [1040, 1130, 1220, 1310, 1400],\n",
       "       [1315, 1430, 1545, 1660, 1775]])"
      ]
     },
     "execution_count": 23,
     "metadata": {},
     "output_type": "execute_result"
    }
   ],
   "source": [
    "ar2@ar2"
   ]
  },
  {
   "cell_type": "code",
   "execution_count": 25,
   "id": "e31ac333",
   "metadata": {},
   "outputs": [
    {
     "data": {
      "text/plain": [
       "array([[ 2,  4,  6,  8, 10],\n",
       "       [12, 14, 16, 18, 20],\n",
       "       [22, 24, 26, 28, 30],\n",
       "       [32, 34, 36, 38, 40],\n",
       "       [42, 44, 46, 48, 50]])"
      ]
     },
     "execution_count": 25,
     "metadata": {},
     "output_type": "execute_result"
    }
   ],
   "source": [
    "ar2+ar2"
   ]
  },
  {
   "cell_type": "code",
   "execution_count": 26,
   "id": "4f9fba33",
   "metadata": {},
   "outputs": [
    {
     "data": {
      "text/plain": [
       "array([[1., 0., 0., 0., 0.],\n",
       "       [0., 1., 0., 0., 0.],\n",
       "       [0., 0., 1., 0., 0.],\n",
       "       [0., 0., 0., 1., 0.],\n",
       "       [0., 0., 0., 0., 1.]])"
      ]
     },
     "execution_count": 26,
     "metadata": {},
     "output_type": "execute_result"
    }
   ],
   "source": [
    "np.eye(5,5) ## identical matrix"
   ]
  },
  {
   "cell_type": "code",
   "execution_count": 28,
   "id": "22c8a5fd",
   "metadata": {},
   "outputs": [
    {
     "data": {
      "text/plain": [
       "array([[ 1,  6, 11, 16, 21],\n",
       "       [ 2,  7, 12, 17, 22],\n",
       "       [ 3,  8, 13, 18, 23],\n",
       "       [ 4,  9, 14, 19, 24],\n",
       "       [ 5, 10, 15, 20, 25]])"
      ]
     },
     "execution_count": 28,
     "metadata": {},
     "output_type": "execute_result"
    }
   ],
   "source": [
    "ar2.T"
   ]
  },
  {
   "cell_type": "markdown",
   "id": "5e819e27",
   "metadata": {},
   "source": [
    "# Pandas:"
   ]
  },
  {
   "cell_type": "code",
   "execution_count": 2,
   "id": "9c61f27d",
   "metadata": {},
   "outputs": [],
   "source": [
    "import pandas as pd"
   ]
  },
  {
   "cell_type": "code",
   "execution_count": 34,
   "id": "0d44e198",
   "metadata": {},
   "outputs": [
    {
     "data": {
      "text/plain": [
       "0     23\n",
       "1     45\n",
       "2     65\n",
       "3     75\n",
       "4     75\n",
       "5     57\n",
       "6     76\n",
       "7     45\n",
       "8     75\n",
       "9      7\n",
       "10    56\n",
       "dtype: int64"
      ]
     },
     "execution_count": 34,
     "metadata": {},
     "output_type": "execute_result"
    }
   ],
   "source": [
    "pd.Series([23,45,65,75,75,57,76,45,75,7,56])"
   ]
  },
  {
   "cell_type": "markdown",
   "id": "9a07136d",
   "metadata": {},
   "source": [
    "diff between series and list:\n",
    " sereis is a data structure which contains diff types of datatypes in one dimention \n",
    " and in series index and associated with by default each element\n",
    "    "
   ]
  },
  {
   "cell_type": "code",
   "execution_count": 36,
   "id": "939ff8cb",
   "metadata": {},
   "outputs": [],
   "source": [
    "l1 = [32,43,45,43,3,2,233]"
   ]
  },
  {
   "cell_type": "code",
   "execution_count": 38,
   "id": "3e83da51",
   "metadata": {},
   "outputs": [
    {
     "data": {
      "text/plain": [
       "0    [32, 43, 45, 43, 3, 2, 233]\n",
       "dtype: object"
      ]
     },
     "execution_count": 38,
     "metadata": {},
     "output_type": "execute_result"
    }
   ],
   "source": [
    "pd.Series([l1])"
   ]
  },
  {
   "cell_type": "code",
   "execution_count": 40,
   "id": "6ac67950",
   "metadata": {},
   "outputs": [
    {
     "data": {
      "text/plain": [
       "0     32\n",
       "1     43\n",
       "2     45\n",
       "3     43\n",
       "4      3\n",
       "5      2\n",
       "6    233\n",
       "dtype: int64"
      ]
     },
     "execution_count": 40,
     "metadata": {},
     "output_type": "execute_result"
    }
   ],
   "source": [
    "pd.Series(l1)"
   ]
  },
  {
   "cell_type": "code",
   "execution_count": 43,
   "id": "f318bcbe",
   "metadata": {},
   "outputs": [
    {
     "data": {
      "text/plain": [
       "0    94\n",
       "1    77\n",
       "2    84\n",
       "3    19\n",
       "4    22\n",
       "5    23\n",
       "6    16\n",
       "7    42\n",
       "8    89\n",
       "9    84\n",
       "dtype: int32"
      ]
     },
     "execution_count": 43,
     "metadata": {},
     "output_type": "execute_result"
    }
   ],
   "source": [
    "## 10 random numbers:\n",
    "pd.Series(np.random.randint(10,100,10))\n"
   ]
  },
  {
   "cell_type": "code",
   "execution_count": 47,
   "id": "bf56b020",
   "metadata": {},
   "outputs": [],
   "source": [
    "s1= pd.Series([10,20,30.40,50,60,70,80,90,100])"
   ]
  },
  {
   "cell_type": "code",
   "execution_count": 49,
   "id": "413f67ae",
   "metadata": {},
   "outputs": [
    {
     "data": {
      "text/plain": [
       "(9,)"
      ]
     },
     "execution_count": 49,
     "metadata": {},
     "output_type": "execute_result"
    }
   ],
   "source": [
    "s1.shape"
   ]
  },
  {
   "cell_type": "code",
   "execution_count": 50,
   "id": "235cc0d5",
   "metadata": {},
   "outputs": [
    {
     "data": {
      "text/plain": [
       "pandas.core.series.Series"
      ]
     },
     "execution_count": 50,
     "metadata": {},
     "output_type": "execute_result"
    }
   ],
   "source": [
    "type(s1)"
   ]
  },
  {
   "cell_type": "code",
   "execution_count": 51,
   "id": "9bcba9e2",
   "metadata": {},
   "outputs": [
    {
     "data": {
      "text/plain": [
       "dtype('float64')"
      ]
     },
     "execution_count": 51,
     "metadata": {},
     "output_type": "execute_result"
    }
   ],
   "source": [
    "s1.dtype"
   ]
  },
  {
   "cell_type": "code",
   "execution_count": 52,
   "id": "302778b9",
   "metadata": {},
   "outputs": [],
   "source": [
    "s1= pd.Series([10,20,30.40,50,60,70,80,90,100],\n",
    "              index=['A','B','c','D','E','F','G','I','J'])"
   ]
  },
  {
   "cell_type": "code",
   "execution_count": 54,
   "id": "817d5813",
   "metadata": {
    "scrolled": true
   },
   "outputs": [
    {
     "data": {
      "text/plain": [
       "A     10.0\n",
       "B     20.0\n",
       "c     30.4\n",
       "D     50.0\n",
       "E     60.0\n",
       "F     70.0\n",
       "G     80.0\n",
       "I     90.0\n",
       "J    100.0\n",
       "dtype: float64"
      ]
     },
     "execution_count": 54,
     "metadata": {},
     "output_type": "execute_result"
    }
   ],
   "source": [
    "s1"
   ]
  },
  {
   "cell_type": "code",
   "execution_count": 58,
   "id": "626707d9",
   "metadata": {},
   "outputs": [
    {
     "data": {
      "text/plain": [
       "A        23\n",
       "B        43\n",
       "C     34.33\n",
       "D    324.23\n",
       "E    PYTHON\n",
       "F     TANUJ\n",
       "G      True\n",
       "H     False\n",
       "dtype: object"
      ]
     },
     "execution_count": 58,
     "metadata": {},
     "output_type": "execute_result"
    }
   ],
   "source": [
    "pd.Series([23, 43, 34.33, 324.23, 'PYTHON', 'TANUJ', True, False], \n",
    "          index = list('ABCDEFGH'))\n",
    "\n",
    "## we can strore differnt datatypoes in series"
   ]
  },
  {
   "cell_type": "code",
   "execution_count": 59,
   "id": "27309916",
   "metadata": {},
   "outputs": [
    {
     "data": {
      "text/plain": [
       "23            23\n",
       "43            43\n",
       "34.33      34.33\n",
       "324.23    324.23\n",
       "PYTHON    PYTHON\n",
       "TANUJ      TANUJ\n",
       "True        True\n",
       "False      False\n",
       "dtype: object"
      ]
     },
     "execution_count": 59,
     "metadata": {},
     "output_type": "execute_result"
    }
   ],
   "source": [
    "pd.Series([23, 43, 34.33, 324.23, 'PYTHON', 'TANUJ', True, False], \n",
    "          index = [23, 43, 34.33, 324.23, 'PYTHON', 'TANUJ', True, False])"
   ]
  },
  {
   "cell_type": "code",
   "execution_count": 62,
   "id": "a5d3b31d",
   "metadata": {},
   "outputs": [],
   "source": [
    "s2 = pd.Series({\"Apple\":250, \"Banana\":30,\"Kiwi\":25,\"orange\":10,\"Grapes\":200})"
   ]
  },
  {
   "cell_type": "code",
   "execution_count": 63,
   "id": "29d76d1b",
   "metadata": {},
   "outputs": [
    {
     "data": {
      "text/plain": [
       "Apple     250\n",
       "Banana     30\n",
       "Kiwi       25\n",
       "orange     10\n",
       "Grapes    200\n",
       "dtype: int64"
      ]
     },
     "execution_count": 63,
     "metadata": {},
     "output_type": "execute_result"
    }
   ],
   "source": [
    "s2"
   ]
  },
  {
   "cell_type": "code",
   "execution_count": 70,
   "id": "b236e0ea",
   "metadata": {},
   "outputs": [],
   "source": [
    "s2 = pd.Series(np.arange(11,21), list('abcdefghij'))"
   ]
  },
  {
   "cell_type": "code",
   "execution_count": 71,
   "id": "62833113",
   "metadata": {},
   "outputs": [
    {
     "data": {
      "text/plain": [
       "a    11\n",
       "b    12\n",
       "c    13\n",
       "d    14\n",
       "e    15\n",
       "f    16\n",
       "g    17\n",
       "h    18\n",
       "i    19\n",
       "j    20\n",
       "dtype: int32"
      ]
     },
     "execution_count": 71,
     "metadata": {},
     "output_type": "execute_result"
    }
   ],
   "source": [
    "s2"
   ]
  },
  {
   "cell_type": "code",
   "execution_count": 72,
   "id": "b6cce5b4",
   "metadata": {},
   "outputs": [
    {
     "data": {
      "text/plain": [
       "c    13\n",
       "d    14\n",
       "e    15\n",
       "f    16\n",
       "g    17\n",
       "h    18\n",
       "dtype: int32"
      ]
     },
     "execution_count": 72,
     "metadata": {},
     "output_type": "execute_result"
    }
   ],
   "source": [
    "# 13--18\n",
    "\n",
    "s2[2:8]\n"
   ]
  },
  {
   "cell_type": "code",
   "execution_count": 73,
   "id": "7c003a1f",
   "metadata": {},
   "outputs": [
    {
     "data": {
      "text/plain": [
       "e    15\n",
       "f    16\n",
       "g    17\n",
       "h    18\n",
       "i    19\n",
       "j    20\n",
       "dtype: int32"
      ]
     },
     "execution_count": 73,
     "metadata": {},
     "output_type": "execute_result"
    }
   ],
   "source": [
    "# e--y\n",
    "s2['e':'y']"
   ]
  },
  {
   "cell_type": "code",
   "execution_count": 74,
   "id": "9feb053c",
   "metadata": {},
   "outputs": [
    {
     "data": {
      "text/plain": [
       "i    19\n",
       "j    20\n",
       "dtype: int32"
      ]
     },
     "execution_count": 74,
     "metadata": {},
     "output_type": "execute_result"
    }
   ],
   "source": [
    "s2['i':]"
   ]
  },
  {
   "cell_type": "code",
   "execution_count": 79,
   "id": "37aeaac7",
   "metadata": {},
   "outputs": [
    {
     "data": {
      "text/plain": [
       "a    11\n",
       "b    12\n",
       "c    13\n",
       "d    14\n",
       "e    15\n",
       "f    16\n",
       "g    17\n",
       "h    18\n",
       "i    19\n",
       "j    20\n",
       "dtype: int32"
      ]
     },
     "execution_count": 79,
     "metadata": {},
     "output_type": "execute_result"
    }
   ],
   "source": [
    "s2"
   ]
  },
  {
   "cell_type": "code",
   "execution_count": 80,
   "id": "d46c599c",
   "metadata": {},
   "outputs": [
    {
     "data": {
      "text/plain": [
       "a    False\n",
       "b    False\n",
       "c    False\n",
       "d    False\n",
       "e    False\n",
       "f     True\n",
       "g     True\n",
       "h     True\n",
       "i     True\n",
       "j     True\n",
       "dtype: bool"
      ]
     },
     "execution_count": 80,
     "metadata": {},
     "output_type": "execute_result"
    }
   ],
   "source": [
    "s2>15"
   ]
  },
  {
   "cell_type": "code",
   "execution_count": 81,
   "id": "7e05c57a",
   "metadata": {},
   "outputs": [
    {
     "data": {
      "text/plain": [
       "f    16\n",
       "g    17\n",
       "h    18\n",
       "i    19\n",
       "j    20\n",
       "dtype: int32"
      ]
     },
     "execution_count": 81,
     "metadata": {},
     "output_type": "execute_result"
    }
   ],
   "source": [
    "s2[s2>15]"
   ]
  },
  {
   "cell_type": "code",
   "execution_count": 82,
   "id": "76c93af4",
   "metadata": {},
   "outputs": [
    {
     "data": {
      "text/plain": [
       "a     True\n",
       "b     True\n",
       "c     True\n",
       "d     True\n",
       "e     True\n",
       "f    False\n",
       "g    False\n",
       "h    False\n",
       "i    False\n",
       "j    False\n",
       "dtype: bool"
      ]
     },
     "execution_count": 82,
     "metadata": {},
     "output_type": "execute_result"
    }
   ],
   "source": [
    "s2<16"
   ]
  },
  {
   "cell_type": "code",
   "execution_count": 84,
   "id": "54ada3cd",
   "metadata": {},
   "outputs": [
    {
     "data": {
      "text/plain": [
       "a    11\n",
       "b    12\n",
       "c    13\n",
       "d    14\n",
       "e    15\n",
       "dtype: int32"
      ]
     },
     "execution_count": 84,
     "metadata": {},
     "output_type": "execute_result"
    }
   ],
   "source": [
    "s2[s2<16]"
   ]
  },
  {
   "cell_type": "code",
   "execution_count": 85,
   "id": "011c54ab",
   "metadata": {},
   "outputs": [
    {
     "data": {
      "text/plain": [
       "a    111\n",
       "b    112\n",
       "c    113\n",
       "d    114\n",
       "e    115\n",
       "f    116\n",
       "g    117\n",
       "h    118\n",
       "i    119\n",
       "j    120\n",
       "dtype: int32"
      ]
     },
     "execution_count": 85,
     "metadata": {},
     "output_type": "execute_result"
    }
   ],
   "source": [
    "s2+100"
   ]
  },
  {
   "cell_type": "code",
   "execution_count": 86,
   "id": "91de5a7d",
   "metadata": {},
   "outputs": [
    {
     "data": {
      "text/plain": [
       "a    110\n",
       "b    120\n",
       "c    130\n",
       "d    140\n",
       "e    150\n",
       "f    160\n",
       "g    170\n",
       "h    180\n",
       "i    190\n",
       "j    200\n",
       "dtype: int32"
      ]
     },
     "execution_count": 86,
     "metadata": {},
     "output_type": "execute_result"
    }
   ],
   "source": [
    "s2*10"
   ]
  },
  {
   "cell_type": "code",
   "execution_count": 87,
   "id": "09e5dbc8",
   "metadata": {},
   "outputs": [
    {
     "data": {
      "text/plain": [
       "a    1.1\n",
       "b    1.2\n",
       "c    1.3\n",
       "d    1.4\n",
       "e    1.5\n",
       "f    1.6\n",
       "g    1.7\n",
       "h    1.8\n",
       "i    1.9\n",
       "j    2.0\n",
       "dtype: float64"
      ]
     },
     "execution_count": 87,
     "metadata": {},
     "output_type": "execute_result"
    }
   ],
   "source": [
    "s2/10"
   ]
  },
  {
   "cell_type": "code",
   "execution_count": 93,
   "id": "abcc27f8",
   "metadata": {},
   "outputs": [
    {
     "data": {
      "text/plain": [
       "nan"
      ]
     },
     "execution_count": 93,
     "metadata": {},
     "output_type": "execute_result"
    }
   ],
   "source": [
    "np.nan"
   ]
  },
  {
   "cell_type": "markdown",
   "id": "443ba884",
   "metadata": {},
   "source": [
    "# 08 feb 2023¶"
   ]
  },
  {
   "cell_type": "code",
   "execution_count": 120,
   "id": "b6e823b6",
   "metadata": {},
   "outputs": [],
   "source": [
    "s3 = pd.Series([10, 20, np.nan, 53, np.nan, np.nan, 54, 100, np.nan])"
   ]
  },
  {
   "cell_type": "code",
   "execution_count": 121,
   "id": "fca49375",
   "metadata": {},
   "outputs": [
    {
     "data": {
      "text/plain": [
       "0     10.0\n",
       "1     20.0\n",
       "2      NaN\n",
       "3     53.0\n",
       "4      NaN\n",
       "5      NaN\n",
       "6     54.0\n",
       "7    100.0\n",
       "8      NaN\n",
       "dtype: float64"
      ]
     },
     "execution_count": 121,
     "metadata": {},
     "output_type": "execute_result"
    }
   ],
   "source": [
    "s3"
   ]
  },
  {
   "cell_type": "code",
   "execution_count": 97,
   "id": "1e512c49",
   "metadata": {
    "scrolled": true
   },
   "outputs": [
    {
     "data": {
      "text/plain": [
       "0    False\n",
       "1    False\n",
       "2     True\n",
       "3    False\n",
       "4     True\n",
       "5     True\n",
       "6    False\n",
       "7    False\n",
       "8     True\n",
       "dtype: bool"
      ]
     },
     "execution_count": 97,
     "metadata": {},
     "output_type": "execute_result"
    }
   ],
   "source": [
    "s3.isnull()"
   ]
  },
  {
   "cell_type": "code",
   "execution_count": 98,
   "id": "5851e29b",
   "metadata": {},
   "outputs": [
    {
     "data": {
      "text/plain": [
       "0     True\n",
       "1     True\n",
       "2    False\n",
       "3     True\n",
       "4    False\n",
       "5    False\n",
       "6     True\n",
       "7     True\n",
       "8    False\n",
       "dtype: bool"
      ]
     },
     "execution_count": 98,
     "metadata": {},
     "output_type": "execute_result"
    }
   ],
   "source": [
    "s3.notnull()"
   ]
  },
  {
   "cell_type": "code",
   "execution_count": 104,
   "id": "6432f9f6",
   "metadata": {},
   "outputs": [
    {
     "data": {
      "text/plain": [
       "5"
      ]
     },
     "execution_count": 104,
     "metadata": {},
     "output_type": "execute_result"
    }
   ],
   "source": [
    "s3.notnull().sum()  ## filled values."
   ]
  },
  {
   "cell_type": "code",
   "execution_count": 105,
   "id": "7d742637",
   "metadata": {},
   "outputs": [
    {
     "data": {
      "text/plain": [
       "4"
      ]
     },
     "execution_count": 105,
     "metadata": {},
     "output_type": "execute_result"
    }
   ],
   "source": [
    "s3.isnull().sum()  ## missing values."
   ]
  },
  {
   "cell_type": "code",
   "execution_count": 106,
   "id": "32f3b4d4",
   "metadata": {},
   "outputs": [
    {
     "data": {
      "text/plain": [
       "0     10.0\n",
       "1     20.0\n",
       "2      0.0\n",
       "3     53.0\n",
       "4      0.0\n",
       "5      0.0\n",
       "6     54.0\n",
       "7    100.0\n",
       "8      0.0\n",
       "dtype: float64"
      ]
     },
     "execution_count": 106,
     "metadata": {},
     "output_type": "execute_result"
    }
   ],
   "source": [
    "s3.fillna(0)"
   ]
  },
  {
   "cell_type": "code",
   "execution_count": 107,
   "id": "8c309dc7",
   "metadata": {},
   "outputs": [
    {
     "data": {
      "text/plain": [
       "47.4"
      ]
     },
     "execution_count": 107,
     "metadata": {},
     "output_type": "execute_result"
    }
   ],
   "source": [
    "s3.mean()"
   ]
  },
  {
   "cell_type": "code",
   "execution_count": 108,
   "id": "ea1f25fd",
   "metadata": {},
   "outputs": [
    {
     "data": {
      "text/plain": [
       "0     10.0\n",
       "1     20.0\n",
       "2     47.4\n",
       "3     53.0\n",
       "4     47.4\n",
       "5     47.4\n",
       "6     54.0\n",
       "7    100.0\n",
       "8     47.4\n",
       "dtype: float64"
      ]
     },
     "execution_count": 108,
     "metadata": {},
     "output_type": "execute_result"
    }
   ],
   "source": [
    "s3.fillna(s3.mean())"
   ]
  },
  {
   "cell_type": "code",
   "execution_count": 110,
   "id": "09198af0",
   "metadata": {},
   "outputs": [
    {
     "data": {
      "text/plain": [
       "2    0.0\n",
       "dtype: float64"
      ]
     },
     "execution_count": 110,
     "metadata": {},
     "output_type": "execute_result"
    }
   ],
   "source": [
    "s3[[2]].fillna(0)"
   ]
  },
  {
   "cell_type": "code",
   "execution_count": 127,
   "id": "23b8c7bf",
   "metadata": {},
   "outputs": [],
   "source": [
    "s3[2] = s3[[2]].fillna(0)"
   ]
  },
  {
   "cell_type": "code",
   "execution_count": 128,
   "id": "a0062e2c",
   "metadata": {},
   "outputs": [
    {
     "data": {
      "text/plain": [
       "0     10.0\n",
       "1     20.0\n",
       "2      0.0\n",
       "3     53.0\n",
       "4      NaN\n",
       "5      NaN\n",
       "6     54.0\n",
       "7    100.0\n",
       "8      NaN\n",
       "dtype: float64"
      ]
     },
     "execution_count": 128,
     "metadata": {},
     "output_type": "execute_result"
    }
   ],
   "source": [
    "s3"
   ]
  },
  {
   "cell_type": "code",
   "execution_count": 130,
   "id": "7de6999a",
   "metadata": {},
   "outputs": [
    {
     "data": {
      "text/plain": [
       "0     10.0\n",
       "1     20.0\n",
       "2      0.0\n",
       "3     53.0\n",
       "4     53.0\n",
       "5     53.0\n",
       "6     54.0\n",
       "7    100.0\n",
       "8    100.0\n",
       "dtype: float64"
      ]
     },
     "execution_count": 130,
     "metadata": {},
     "output_type": "execute_result"
    }
   ],
   "source": [
    "s3.fillna(method = 'ffill')   ## forwordfill"
   ]
  },
  {
   "cell_type": "code",
   "execution_count": 132,
   "id": "2b5bdd0b",
   "metadata": {},
   "outputs": [
    {
     "data": {
      "text/plain": [
       "0     10.0\n",
       "1     20.0\n",
       "2      0.0\n",
       "3     53.0\n",
       "4     54.0\n",
       "5     54.0\n",
       "6     54.0\n",
       "7    100.0\n",
       "8      NaN\n",
       "dtype: float64"
      ]
     },
     "execution_count": 132,
     "metadata": {},
     "output_type": "execute_result"
    }
   ],
   "source": [
    "s3.fillna(method = 'bfill')  ##backword fill"
   ]
  },
  {
   "cell_type": "code",
   "execution_count": 134,
   "id": "a56f123f",
   "metadata": {},
   "outputs": [],
   "source": [
    "s4 = pd.Series(['k3g','pathan','tiger','inception'], index = [2,5,8,10])"
   ]
  },
  {
   "cell_type": "code",
   "execution_count": 135,
   "id": "24127185",
   "metadata": {},
   "outputs": [
    {
     "data": {
      "text/plain": [
       "2           k3g\n",
       "5        pathan\n",
       "8         tiger\n",
       "10    inception\n",
       "dtype: object"
      ]
     },
     "execution_count": 135,
     "metadata": {},
     "output_type": "execute_result"
    }
   ],
   "source": [
    "s4"
   ]
  },
  {
   "cell_type": "code",
   "execution_count": 138,
   "id": "9aa0ada1",
   "metadata": {},
   "outputs": [
    {
     "data": {
      "text/plain": [
       "0           k3g\n",
       "1           k3g\n",
       "2           k3g\n",
       "3        pathan\n",
       "4        pathan\n",
       "5        pathan\n",
       "6         tiger\n",
       "7         tiger\n",
       "8         tiger\n",
       "9     inception\n",
       "10    inception\n",
       "11          NaN\n",
       "12          NaN\n",
       "13          NaN\n",
       "14          NaN\n",
       "dtype: object"
      ]
     },
     "execution_count": 138,
     "metadata": {},
     "output_type": "execute_result"
    }
   ],
   "source": [
    "s4.reindex(range(15), method = 'bfill')"
   ]
  },
  {
   "cell_type": "code",
   "execution_count": 139,
   "id": "24c8e880",
   "metadata": {},
   "outputs": [
    {
     "data": {
      "text/plain": [
       "0           NaN\n",
       "1           NaN\n",
       "2           k3g\n",
       "3           k3g\n",
       "4           k3g\n",
       "5        pathan\n",
       "6        pathan\n",
       "7        pathan\n",
       "8         tiger\n",
       "9         tiger\n",
       "10    inception\n",
       "11    inception\n",
       "12    inception\n",
       "13    inception\n",
       "14    inception\n",
       "dtype: object"
      ]
     },
     "execution_count": 139,
     "metadata": {},
     "output_type": "execute_result"
    }
   ],
   "source": [
    "s4.reindex(range(15), method = 'ffill')"
   ]
  },
  {
   "cell_type": "markdown",
   "id": "e16104d2",
   "metadata": {},
   "source": [
    "###  data frames: \n",
    "data frames are the data structure which collects different kind of data or diff type of data in respectives rows and column combinations. that is 2 dimentional.. it is mostly tabular form data."
   ]
  },
  {
   "cell_type": "code",
   "execution_count": null,
   "id": "fa7e13d4",
   "metadata": {},
   "outputs": [],
   "source": []
  },
  {
   "cell_type": "code",
   "execution_count": 142,
   "id": "75d0edca",
   "metadata": {},
   "outputs": [],
   "source": [
    "df = pd.DataFrame(np.arange(1,26).reshape(5,5))"
   ]
  },
  {
   "cell_type": "code",
   "execution_count": 143,
   "id": "a3f3a433",
   "metadata": {},
   "outputs": [
    {
     "data": {
      "text/html": [
       "<div>\n",
       "<style scoped>\n",
       "    .dataframe tbody tr th:only-of-type {\n",
       "        vertical-align: middle;\n",
       "    }\n",
       "\n",
       "    .dataframe tbody tr th {\n",
       "        vertical-align: top;\n",
       "    }\n",
       "\n",
       "    .dataframe thead th {\n",
       "        text-align: right;\n",
       "    }\n",
       "</style>\n",
       "<table border=\"1\" class=\"dataframe\">\n",
       "  <thead>\n",
       "    <tr style=\"text-align: right;\">\n",
       "      <th></th>\n",
       "      <th>0</th>\n",
       "      <th>1</th>\n",
       "      <th>2</th>\n",
       "      <th>3</th>\n",
       "      <th>4</th>\n",
       "    </tr>\n",
       "  </thead>\n",
       "  <tbody>\n",
       "    <tr>\n",
       "      <th>0</th>\n",
       "      <td>1</td>\n",
       "      <td>2</td>\n",
       "      <td>3</td>\n",
       "      <td>4</td>\n",
       "      <td>5</td>\n",
       "    </tr>\n",
       "    <tr>\n",
       "      <th>1</th>\n",
       "      <td>6</td>\n",
       "      <td>7</td>\n",
       "      <td>8</td>\n",
       "      <td>9</td>\n",
       "      <td>10</td>\n",
       "    </tr>\n",
       "    <tr>\n",
       "      <th>2</th>\n",
       "      <td>11</td>\n",
       "      <td>12</td>\n",
       "      <td>13</td>\n",
       "      <td>14</td>\n",
       "      <td>15</td>\n",
       "    </tr>\n",
       "    <tr>\n",
       "      <th>3</th>\n",
       "      <td>16</td>\n",
       "      <td>17</td>\n",
       "      <td>18</td>\n",
       "      <td>19</td>\n",
       "      <td>20</td>\n",
       "    </tr>\n",
       "    <tr>\n",
       "      <th>4</th>\n",
       "      <td>21</td>\n",
       "      <td>22</td>\n",
       "      <td>23</td>\n",
       "      <td>24</td>\n",
       "      <td>25</td>\n",
       "    </tr>\n",
       "  </tbody>\n",
       "</table>\n",
       "</div>"
      ],
      "text/plain": [
       "    0   1   2   3   4\n",
       "0   1   2   3   4   5\n",
       "1   6   7   8   9  10\n",
       "2  11  12  13  14  15\n",
       "3  16  17  18  19  20\n",
       "4  21  22  23  24  25"
      ]
     },
     "execution_count": 143,
     "metadata": {},
     "output_type": "execute_result"
    }
   ],
   "source": [
    "df"
   ]
  },
  {
   "cell_type": "code",
   "execution_count": 144,
   "id": "0c15ea75",
   "metadata": {},
   "outputs": [
    {
     "data": {
      "text/plain": [
       "(5, 5)"
      ]
     },
     "execution_count": 144,
     "metadata": {},
     "output_type": "execute_result"
    }
   ],
   "source": [
    "df.shape"
   ]
  },
  {
   "cell_type": "code",
   "execution_count": 145,
   "id": "05de8fa4",
   "metadata": {},
   "outputs": [
    {
     "data": {
      "text/plain": [
       "pandas.core.frame.DataFrame"
      ]
     },
     "execution_count": 145,
     "metadata": {},
     "output_type": "execute_result"
    }
   ],
   "source": [
    "type(df)"
   ]
  },
  {
   "cell_type": "code",
   "execution_count": 147,
   "id": "21025e0f",
   "metadata": {},
   "outputs": [],
   "source": [
    "df = pd.DataFrame(np.arange(1,26).reshape(5,5), index = list(\"ABCDE\"))"
   ]
  },
  {
   "cell_type": "code",
   "execution_count": 148,
   "id": "5d9c1597",
   "metadata": {},
   "outputs": [
    {
     "data": {
      "text/html": [
       "<div>\n",
       "<style scoped>\n",
       "    .dataframe tbody tr th:only-of-type {\n",
       "        vertical-align: middle;\n",
       "    }\n",
       "\n",
       "    .dataframe tbody tr th {\n",
       "        vertical-align: top;\n",
       "    }\n",
       "\n",
       "    .dataframe thead th {\n",
       "        text-align: right;\n",
       "    }\n",
       "</style>\n",
       "<table border=\"1\" class=\"dataframe\">\n",
       "  <thead>\n",
       "    <tr style=\"text-align: right;\">\n",
       "      <th></th>\n",
       "      <th>0</th>\n",
       "      <th>1</th>\n",
       "      <th>2</th>\n",
       "      <th>3</th>\n",
       "      <th>4</th>\n",
       "    </tr>\n",
       "  </thead>\n",
       "  <tbody>\n",
       "    <tr>\n",
       "      <th>A</th>\n",
       "      <td>1</td>\n",
       "      <td>2</td>\n",
       "      <td>3</td>\n",
       "      <td>4</td>\n",
       "      <td>5</td>\n",
       "    </tr>\n",
       "    <tr>\n",
       "      <th>B</th>\n",
       "      <td>6</td>\n",
       "      <td>7</td>\n",
       "      <td>8</td>\n",
       "      <td>9</td>\n",
       "      <td>10</td>\n",
       "    </tr>\n",
       "    <tr>\n",
       "      <th>C</th>\n",
       "      <td>11</td>\n",
       "      <td>12</td>\n",
       "      <td>13</td>\n",
       "      <td>14</td>\n",
       "      <td>15</td>\n",
       "    </tr>\n",
       "    <tr>\n",
       "      <th>D</th>\n",
       "      <td>16</td>\n",
       "      <td>17</td>\n",
       "      <td>18</td>\n",
       "      <td>19</td>\n",
       "      <td>20</td>\n",
       "    </tr>\n",
       "    <tr>\n",
       "      <th>E</th>\n",
       "      <td>21</td>\n",
       "      <td>22</td>\n",
       "      <td>23</td>\n",
       "      <td>24</td>\n",
       "      <td>25</td>\n",
       "    </tr>\n",
       "  </tbody>\n",
       "</table>\n",
       "</div>"
      ],
      "text/plain": [
       "    0   1   2   3   4\n",
       "A   1   2   3   4   5\n",
       "B   6   7   8   9  10\n",
       "C  11  12  13  14  15\n",
       "D  16  17  18  19  20\n",
       "E  21  22  23  24  25"
      ]
     },
     "execution_count": 148,
     "metadata": {},
     "output_type": "execute_result"
    }
   ],
   "source": [
    "df"
   ]
  },
  {
   "cell_type": "code",
   "execution_count": 150,
   "id": "b205d11c",
   "metadata": {},
   "outputs": [],
   "source": [
    "df = pd.DataFrame(np.arange(1,26).reshape(5,5), \n",
    "                  index = list(\"ABCDE\"), columns = list(\"PQRST\"))"
   ]
  },
  {
   "cell_type": "code",
   "execution_count": 151,
   "id": "39616411",
   "metadata": {},
   "outputs": [
    {
     "data": {
      "text/html": [
       "<div>\n",
       "<style scoped>\n",
       "    .dataframe tbody tr th:only-of-type {\n",
       "        vertical-align: middle;\n",
       "    }\n",
       "\n",
       "    .dataframe tbody tr th {\n",
       "        vertical-align: top;\n",
       "    }\n",
       "\n",
       "    .dataframe thead th {\n",
       "        text-align: right;\n",
       "    }\n",
       "</style>\n",
       "<table border=\"1\" class=\"dataframe\">\n",
       "  <thead>\n",
       "    <tr style=\"text-align: right;\">\n",
       "      <th></th>\n",
       "      <th>P</th>\n",
       "      <th>Q</th>\n",
       "      <th>R</th>\n",
       "      <th>S</th>\n",
       "      <th>T</th>\n",
       "    </tr>\n",
       "  </thead>\n",
       "  <tbody>\n",
       "    <tr>\n",
       "      <th>A</th>\n",
       "      <td>1</td>\n",
       "      <td>2</td>\n",
       "      <td>3</td>\n",
       "      <td>4</td>\n",
       "      <td>5</td>\n",
       "    </tr>\n",
       "    <tr>\n",
       "      <th>B</th>\n",
       "      <td>6</td>\n",
       "      <td>7</td>\n",
       "      <td>8</td>\n",
       "      <td>9</td>\n",
       "      <td>10</td>\n",
       "    </tr>\n",
       "    <tr>\n",
       "      <th>C</th>\n",
       "      <td>11</td>\n",
       "      <td>12</td>\n",
       "      <td>13</td>\n",
       "      <td>14</td>\n",
       "      <td>15</td>\n",
       "    </tr>\n",
       "    <tr>\n",
       "      <th>D</th>\n",
       "      <td>16</td>\n",
       "      <td>17</td>\n",
       "      <td>18</td>\n",
       "      <td>19</td>\n",
       "      <td>20</td>\n",
       "    </tr>\n",
       "    <tr>\n",
       "      <th>E</th>\n",
       "      <td>21</td>\n",
       "      <td>22</td>\n",
       "      <td>23</td>\n",
       "      <td>24</td>\n",
       "      <td>25</td>\n",
       "    </tr>\n",
       "  </tbody>\n",
       "</table>\n",
       "</div>"
      ],
      "text/plain": [
       "    P   Q   R   S   T\n",
       "A   1   2   3   4   5\n",
       "B   6   7   8   9  10\n",
       "C  11  12  13  14  15\n",
       "D  16  17  18  19  20\n",
       "E  21  22  23  24  25"
      ]
     },
     "execution_count": 151,
     "metadata": {},
     "output_type": "execute_result"
    }
   ],
   "source": [
    "df"
   ]
  },
  {
   "cell_type": "code",
   "execution_count": 15,
   "id": "78b867e7",
   "metadata": {},
   "outputs": [],
   "source": [
    "ar = np.arange(101,201).reshape(10,10)\n",
    "index = ['A','B','C','D','E','F','G','H','I','J']\n",
    "column = list(\"PQRSTUVWXY\")\n",
    "\n",
    "ab = pd.DataFrame(ar,index = index, columns = column)"
   ]
  },
  {
   "cell_type": "code",
   "execution_count": 16,
   "id": "78180ba7",
   "metadata": {
    "scrolled": true
   },
   "outputs": [
    {
     "data": {
      "text/html": [
       "<div>\n",
       "<style scoped>\n",
       "    .dataframe tbody tr th:only-of-type {\n",
       "        vertical-align: middle;\n",
       "    }\n",
       "\n",
       "    .dataframe tbody tr th {\n",
       "        vertical-align: top;\n",
       "    }\n",
       "\n",
       "    .dataframe thead th {\n",
       "        text-align: right;\n",
       "    }\n",
       "</style>\n",
       "<table border=\"1\" class=\"dataframe\">\n",
       "  <thead>\n",
       "    <tr style=\"text-align: right;\">\n",
       "      <th></th>\n",
       "      <th>P</th>\n",
       "      <th>Q</th>\n",
       "      <th>R</th>\n",
       "      <th>S</th>\n",
       "      <th>T</th>\n",
       "      <th>U</th>\n",
       "      <th>V</th>\n",
       "      <th>W</th>\n",
       "      <th>X</th>\n",
       "      <th>Y</th>\n",
       "    </tr>\n",
       "  </thead>\n",
       "  <tbody>\n",
       "    <tr>\n",
       "      <th>A</th>\n",
       "      <td>101</td>\n",
       "      <td>102</td>\n",
       "      <td>103</td>\n",
       "      <td>104</td>\n",
       "      <td>105</td>\n",
       "      <td>106</td>\n",
       "      <td>107</td>\n",
       "      <td>108</td>\n",
       "      <td>109</td>\n",
       "      <td>110</td>\n",
       "    </tr>\n",
       "    <tr>\n",
       "      <th>B</th>\n",
       "      <td>111</td>\n",
       "      <td>112</td>\n",
       "      <td>113</td>\n",
       "      <td>114</td>\n",
       "      <td>115</td>\n",
       "      <td>116</td>\n",
       "      <td>117</td>\n",
       "      <td>118</td>\n",
       "      <td>119</td>\n",
       "      <td>120</td>\n",
       "    </tr>\n",
       "    <tr>\n",
       "      <th>C</th>\n",
       "      <td>121</td>\n",
       "      <td>122</td>\n",
       "      <td>123</td>\n",
       "      <td>124</td>\n",
       "      <td>125</td>\n",
       "      <td>126</td>\n",
       "      <td>127</td>\n",
       "      <td>128</td>\n",
       "      <td>129</td>\n",
       "      <td>130</td>\n",
       "    </tr>\n",
       "    <tr>\n",
       "      <th>D</th>\n",
       "      <td>131</td>\n",
       "      <td>132</td>\n",
       "      <td>133</td>\n",
       "      <td>134</td>\n",
       "      <td>135</td>\n",
       "      <td>136</td>\n",
       "      <td>137</td>\n",
       "      <td>138</td>\n",
       "      <td>139</td>\n",
       "      <td>140</td>\n",
       "    </tr>\n",
       "    <tr>\n",
       "      <th>E</th>\n",
       "      <td>141</td>\n",
       "      <td>142</td>\n",
       "      <td>143</td>\n",
       "      <td>144</td>\n",
       "      <td>145</td>\n",
       "      <td>146</td>\n",
       "      <td>147</td>\n",
       "      <td>148</td>\n",
       "      <td>149</td>\n",
       "      <td>150</td>\n",
       "    </tr>\n",
       "    <tr>\n",
       "      <th>F</th>\n",
       "      <td>151</td>\n",
       "      <td>152</td>\n",
       "      <td>153</td>\n",
       "      <td>154</td>\n",
       "      <td>155</td>\n",
       "      <td>156</td>\n",
       "      <td>157</td>\n",
       "      <td>158</td>\n",
       "      <td>159</td>\n",
       "      <td>160</td>\n",
       "    </tr>\n",
       "    <tr>\n",
       "      <th>G</th>\n",
       "      <td>161</td>\n",
       "      <td>162</td>\n",
       "      <td>163</td>\n",
       "      <td>164</td>\n",
       "      <td>165</td>\n",
       "      <td>166</td>\n",
       "      <td>167</td>\n",
       "      <td>168</td>\n",
       "      <td>169</td>\n",
       "      <td>170</td>\n",
       "    </tr>\n",
       "    <tr>\n",
       "      <th>H</th>\n",
       "      <td>171</td>\n",
       "      <td>172</td>\n",
       "      <td>173</td>\n",
       "      <td>174</td>\n",
       "      <td>175</td>\n",
       "      <td>176</td>\n",
       "      <td>177</td>\n",
       "      <td>178</td>\n",
       "      <td>179</td>\n",
       "      <td>180</td>\n",
       "    </tr>\n",
       "    <tr>\n",
       "      <th>I</th>\n",
       "      <td>181</td>\n",
       "      <td>182</td>\n",
       "      <td>183</td>\n",
       "      <td>184</td>\n",
       "      <td>185</td>\n",
       "      <td>186</td>\n",
       "      <td>187</td>\n",
       "      <td>188</td>\n",
       "      <td>189</td>\n",
       "      <td>190</td>\n",
       "    </tr>\n",
       "    <tr>\n",
       "      <th>J</th>\n",
       "      <td>191</td>\n",
       "      <td>192</td>\n",
       "      <td>193</td>\n",
       "      <td>194</td>\n",
       "      <td>195</td>\n",
       "      <td>196</td>\n",
       "      <td>197</td>\n",
       "      <td>198</td>\n",
       "      <td>199</td>\n",
       "      <td>200</td>\n",
       "    </tr>\n",
       "  </tbody>\n",
       "</table>\n",
       "</div>"
      ],
      "text/plain": [
       "     P    Q    R    S    T    U    V    W    X    Y\n",
       "A  101  102  103  104  105  106  107  108  109  110\n",
       "B  111  112  113  114  115  116  117  118  119  120\n",
       "C  121  122  123  124  125  126  127  128  129  130\n",
       "D  131  132  133  134  135  136  137  138  139  140\n",
       "E  141  142  143  144  145  146  147  148  149  150\n",
       "F  151  152  153  154  155  156  157  158  159  160\n",
       "G  161  162  163  164  165  166  167  168  169  170\n",
       "H  171  172  173  174  175  176  177  178  179  180\n",
       "I  181  182  183  184  185  186  187  188  189  190\n",
       "J  191  192  193  194  195  196  197  198  199  200"
      ]
     },
     "execution_count": 16,
     "metadata": {},
     "output_type": "execute_result"
    }
   ],
   "source": [
    "ab"
   ]
  },
  {
   "cell_type": "code",
   "execution_count": 19,
   "id": "110683bb",
   "metadata": {},
   "outputs": [
    {
     "data": {
      "text/html": [
       "<div>\n",
       "<style scoped>\n",
       "    .dataframe tbody tr th:only-of-type {\n",
       "        vertical-align: middle;\n",
       "    }\n",
       "\n",
       "    .dataframe tbody tr th {\n",
       "        vertical-align: top;\n",
       "    }\n",
       "\n",
       "    .dataframe thead th {\n",
       "        text-align: right;\n",
       "    }\n",
       "</style>\n",
       "<table border=\"1\" class=\"dataframe\">\n",
       "  <thead>\n",
       "    <tr style=\"text-align: right;\">\n",
       "      <th></th>\n",
       "      <th>P</th>\n",
       "      <th>Q</th>\n",
       "      <th>R</th>\n",
       "      <th>S</th>\n",
       "      <th>T</th>\n",
       "      <th>U</th>\n",
       "      <th>V</th>\n",
       "      <th>W</th>\n",
       "      <th>X</th>\n",
       "      <th>Y</th>\n",
       "    </tr>\n",
       "  </thead>\n",
       "  <tbody>\n",
       "    <tr>\n",
       "      <th>B</th>\n",
       "      <td>111</td>\n",
       "      <td>112</td>\n",
       "      <td>113</td>\n",
       "      <td>114</td>\n",
       "      <td>115</td>\n",
       "      <td>116</td>\n",
       "      <td>117</td>\n",
       "      <td>118</td>\n",
       "      <td>119</td>\n",
       "      <td>120</td>\n",
       "    </tr>\n",
       "    <tr>\n",
       "      <th>C</th>\n",
       "      <td>121</td>\n",
       "      <td>122</td>\n",
       "      <td>123</td>\n",
       "      <td>124</td>\n",
       "      <td>125</td>\n",
       "      <td>126</td>\n",
       "      <td>127</td>\n",
       "      <td>128</td>\n",
       "      <td>129</td>\n",
       "      <td>130</td>\n",
       "    </tr>\n",
       "    <tr>\n",
       "      <th>D</th>\n",
       "      <td>131</td>\n",
       "      <td>132</td>\n",
       "      <td>133</td>\n",
       "      <td>134</td>\n",
       "      <td>135</td>\n",
       "      <td>136</td>\n",
       "      <td>137</td>\n",
       "      <td>138</td>\n",
       "      <td>139</td>\n",
       "      <td>140</td>\n",
       "    </tr>\n",
       "    <tr>\n",
       "      <th>E</th>\n",
       "      <td>141</td>\n",
       "      <td>142</td>\n",
       "      <td>143</td>\n",
       "      <td>144</td>\n",
       "      <td>145</td>\n",
       "      <td>146</td>\n",
       "      <td>147</td>\n",
       "      <td>148</td>\n",
       "      <td>149</td>\n",
       "      <td>150</td>\n",
       "    </tr>\n",
       "    <tr>\n",
       "      <th>F</th>\n",
       "      <td>151</td>\n",
       "      <td>152</td>\n",
       "      <td>153</td>\n",
       "      <td>154</td>\n",
       "      <td>155</td>\n",
       "      <td>156</td>\n",
       "      <td>157</td>\n",
       "      <td>158</td>\n",
       "      <td>159</td>\n",
       "      <td>160</td>\n",
       "    </tr>\n",
       "  </tbody>\n",
       "</table>\n",
       "</div>"
      ],
      "text/plain": [
       "     P    Q    R    S    T    U    V    W    X    Y\n",
       "B  111  112  113  114  115  116  117  118  119  120\n",
       "C  121  122  123  124  125  126  127  128  129  130\n",
       "D  131  132  133  134  135  136  137  138  139  140\n",
       "E  141  142  143  144  145  146  147  148  149  150\n",
       "F  151  152  153  154  155  156  157  158  159  160"
      ]
     },
     "execution_count": 19,
     "metadata": {},
     "output_type": "execute_result"
    }
   ],
   "source": [
    "# 2nd to 6th row:\n",
    "\n",
    "ab['B':'F']"
   ]
  },
  {
   "cell_type": "code",
   "execution_count": 23,
   "id": "ced182e4",
   "metadata": {},
   "outputs": [
    {
     "data": {
      "text/html": [
       "<div>\n",
       "<style scoped>\n",
       "    .dataframe tbody tr th:only-of-type {\n",
       "        vertical-align: middle;\n",
       "    }\n",
       "\n",
       "    .dataframe tbody tr th {\n",
       "        vertical-align: top;\n",
       "    }\n",
       "\n",
       "    .dataframe thead th {\n",
       "        text-align: right;\n",
       "    }\n",
       "</style>\n",
       "<table border=\"1\" class=\"dataframe\">\n",
       "  <thead>\n",
       "    <tr style=\"text-align: right;\">\n",
       "      <th></th>\n",
       "      <th>Q</th>\n",
       "      <th>R</th>\n",
       "    </tr>\n",
       "  </thead>\n",
       "  <tbody>\n",
       "    <tr>\n",
       "      <th>A</th>\n",
       "      <td>102</td>\n",
       "      <td>103</td>\n",
       "    </tr>\n",
       "    <tr>\n",
       "      <th>B</th>\n",
       "      <td>112</td>\n",
       "      <td>113</td>\n",
       "    </tr>\n",
       "    <tr>\n",
       "      <th>C</th>\n",
       "      <td>122</td>\n",
       "      <td>123</td>\n",
       "    </tr>\n",
       "    <tr>\n",
       "      <th>D</th>\n",
       "      <td>132</td>\n",
       "      <td>133</td>\n",
       "    </tr>\n",
       "    <tr>\n",
       "      <th>E</th>\n",
       "      <td>142</td>\n",
       "      <td>143</td>\n",
       "    </tr>\n",
       "    <tr>\n",
       "      <th>F</th>\n",
       "      <td>152</td>\n",
       "      <td>153</td>\n",
       "    </tr>\n",
       "    <tr>\n",
       "      <th>G</th>\n",
       "      <td>162</td>\n",
       "      <td>163</td>\n",
       "    </tr>\n",
       "    <tr>\n",
       "      <th>H</th>\n",
       "      <td>172</td>\n",
       "      <td>173</td>\n",
       "    </tr>\n",
       "    <tr>\n",
       "      <th>I</th>\n",
       "      <td>182</td>\n",
       "      <td>183</td>\n",
       "    </tr>\n",
       "    <tr>\n",
       "      <th>J</th>\n",
       "      <td>192</td>\n",
       "      <td>193</td>\n",
       "    </tr>\n",
       "  </tbody>\n",
       "</table>\n",
       "</div>"
      ],
      "text/plain": [
       "     Q    R\n",
       "A  102  103\n",
       "B  112  113\n",
       "C  122  123\n",
       "D  132  133\n",
       "E  142  143\n",
       "F  152  153\n",
       "G  162  163\n",
       "H  172  173\n",
       "I  182  183\n",
       "J  192  193"
      ]
     },
     "execution_count": 23,
     "metadata": {},
     "output_type": "execute_result"
    }
   ],
   "source": [
    "ab[['Q','R']]"
   ]
  },
  {
   "cell_type": "code",
   "execution_count": 24,
   "id": "f162f19e",
   "metadata": {},
   "outputs": [
    {
     "name": "stdout",
     "output_type": "stream",
     "text": [
      "<class 'pandas.core.frame.DataFrame'>\n",
      "Index: 10 entries, A to J\n",
      "Data columns (total 10 columns):\n",
      " #   Column  Non-Null Count  Dtype\n",
      "---  ------  --------------  -----\n",
      " 0   P       10 non-null     int32\n",
      " 1   Q       10 non-null     int32\n",
      " 2   R       10 non-null     int32\n",
      " 3   S       10 non-null     int32\n",
      " 4   T       10 non-null     int32\n",
      " 5   U       10 non-null     int32\n",
      " 6   V       10 non-null     int32\n",
      " 7   W       10 non-null     int32\n",
      " 8   X       10 non-null     int32\n",
      " 9   Y       10 non-null     int32\n",
      "dtypes: int32(10)\n",
      "memory usage: 780.0+ bytes\n"
     ]
    }
   ],
   "source": [
    "ab.info()"
   ]
  },
  {
   "cell_type": "code",
   "execution_count": 25,
   "id": "b3b77d77",
   "metadata": {},
   "outputs": [
    {
     "data": {
      "text/html": [
       "<div>\n",
       "<style scoped>\n",
       "    .dataframe tbody tr th:only-of-type {\n",
       "        vertical-align: middle;\n",
       "    }\n",
       "\n",
       "    .dataframe tbody tr th {\n",
       "        vertical-align: top;\n",
       "    }\n",
       "\n",
       "    .dataframe thead th {\n",
       "        text-align: right;\n",
       "    }\n",
       "</style>\n",
       "<table border=\"1\" class=\"dataframe\">\n",
       "  <thead>\n",
       "    <tr style=\"text-align: right;\">\n",
       "      <th></th>\n",
       "      <th>P</th>\n",
       "      <th>Q</th>\n",
       "      <th>R</th>\n",
       "      <th>S</th>\n",
       "      <th>T</th>\n",
       "      <th>U</th>\n",
       "      <th>V</th>\n",
       "      <th>W</th>\n",
       "      <th>X</th>\n",
       "      <th>Y</th>\n",
       "    </tr>\n",
       "  </thead>\n",
       "  <tbody>\n",
       "    <tr>\n",
       "      <th>count</th>\n",
       "      <td>10.000000</td>\n",
       "      <td>10.000000</td>\n",
       "      <td>10.000000</td>\n",
       "      <td>10.000000</td>\n",
       "      <td>10.000000</td>\n",
       "      <td>10.000000</td>\n",
       "      <td>10.000000</td>\n",
       "      <td>10.000000</td>\n",
       "      <td>10.000000</td>\n",
       "      <td>10.000000</td>\n",
       "    </tr>\n",
       "    <tr>\n",
       "      <th>mean</th>\n",
       "      <td>146.000000</td>\n",
       "      <td>147.000000</td>\n",
       "      <td>148.000000</td>\n",
       "      <td>149.000000</td>\n",
       "      <td>150.000000</td>\n",
       "      <td>151.000000</td>\n",
       "      <td>152.000000</td>\n",
       "      <td>153.000000</td>\n",
       "      <td>154.000000</td>\n",
       "      <td>155.000000</td>\n",
       "    </tr>\n",
       "    <tr>\n",
       "      <th>std</th>\n",
       "      <td>30.276504</td>\n",
       "      <td>30.276504</td>\n",
       "      <td>30.276504</td>\n",
       "      <td>30.276504</td>\n",
       "      <td>30.276504</td>\n",
       "      <td>30.276504</td>\n",
       "      <td>30.276504</td>\n",
       "      <td>30.276504</td>\n",
       "      <td>30.276504</td>\n",
       "      <td>30.276504</td>\n",
       "    </tr>\n",
       "    <tr>\n",
       "      <th>min</th>\n",
       "      <td>101.000000</td>\n",
       "      <td>102.000000</td>\n",
       "      <td>103.000000</td>\n",
       "      <td>104.000000</td>\n",
       "      <td>105.000000</td>\n",
       "      <td>106.000000</td>\n",
       "      <td>107.000000</td>\n",
       "      <td>108.000000</td>\n",
       "      <td>109.000000</td>\n",
       "      <td>110.000000</td>\n",
       "    </tr>\n",
       "    <tr>\n",
       "      <th>25%</th>\n",
       "      <td>123.500000</td>\n",
       "      <td>124.500000</td>\n",
       "      <td>125.500000</td>\n",
       "      <td>126.500000</td>\n",
       "      <td>127.500000</td>\n",
       "      <td>128.500000</td>\n",
       "      <td>129.500000</td>\n",
       "      <td>130.500000</td>\n",
       "      <td>131.500000</td>\n",
       "      <td>132.500000</td>\n",
       "    </tr>\n",
       "    <tr>\n",
       "      <th>50%</th>\n",
       "      <td>146.000000</td>\n",
       "      <td>147.000000</td>\n",
       "      <td>148.000000</td>\n",
       "      <td>149.000000</td>\n",
       "      <td>150.000000</td>\n",
       "      <td>151.000000</td>\n",
       "      <td>152.000000</td>\n",
       "      <td>153.000000</td>\n",
       "      <td>154.000000</td>\n",
       "      <td>155.000000</td>\n",
       "    </tr>\n",
       "    <tr>\n",
       "      <th>75%</th>\n",
       "      <td>168.500000</td>\n",
       "      <td>169.500000</td>\n",
       "      <td>170.500000</td>\n",
       "      <td>171.500000</td>\n",
       "      <td>172.500000</td>\n",
       "      <td>173.500000</td>\n",
       "      <td>174.500000</td>\n",
       "      <td>175.500000</td>\n",
       "      <td>176.500000</td>\n",
       "      <td>177.500000</td>\n",
       "    </tr>\n",
       "    <tr>\n",
       "      <th>max</th>\n",
       "      <td>191.000000</td>\n",
       "      <td>192.000000</td>\n",
       "      <td>193.000000</td>\n",
       "      <td>194.000000</td>\n",
       "      <td>195.000000</td>\n",
       "      <td>196.000000</td>\n",
       "      <td>197.000000</td>\n",
       "      <td>198.000000</td>\n",
       "      <td>199.000000</td>\n",
       "      <td>200.000000</td>\n",
       "    </tr>\n",
       "  </tbody>\n",
       "</table>\n",
       "</div>"
      ],
      "text/plain": [
       "                P           Q           R           S           T           U  \\\n",
       "count   10.000000   10.000000   10.000000   10.000000   10.000000   10.000000   \n",
       "mean   146.000000  147.000000  148.000000  149.000000  150.000000  151.000000   \n",
       "std     30.276504   30.276504   30.276504   30.276504   30.276504   30.276504   \n",
       "min    101.000000  102.000000  103.000000  104.000000  105.000000  106.000000   \n",
       "25%    123.500000  124.500000  125.500000  126.500000  127.500000  128.500000   \n",
       "50%    146.000000  147.000000  148.000000  149.000000  150.000000  151.000000   \n",
       "75%    168.500000  169.500000  170.500000  171.500000  172.500000  173.500000   \n",
       "max    191.000000  192.000000  193.000000  194.000000  195.000000  196.000000   \n",
       "\n",
       "                V           W           X           Y  \n",
       "count   10.000000   10.000000   10.000000   10.000000  \n",
       "mean   152.000000  153.000000  154.000000  155.000000  \n",
       "std     30.276504   30.276504   30.276504   30.276504  \n",
       "min    107.000000  108.000000  109.000000  110.000000  \n",
       "25%    129.500000  130.500000  131.500000  132.500000  \n",
       "50%    152.000000  153.000000  154.000000  155.000000  \n",
       "75%    174.500000  175.500000  176.500000  177.500000  \n",
       "max    197.000000  198.000000  199.000000  200.000000  "
      ]
     },
     "execution_count": 25,
     "metadata": {},
     "output_type": "execute_result"
    }
   ],
   "source": [
    "ab.describe()"
   ]
  },
  {
   "cell_type": "code",
   "execution_count": 27,
   "id": "96a00372",
   "metadata": {},
   "outputs": [
    {
     "data": {
      "text/plain": [
       "P    0\n",
       "Q    0\n",
       "R    0\n",
       "S    0\n",
       "T    0\n",
       "U    0\n",
       "V    0\n",
       "W    0\n",
       "X    0\n",
       "Y    0\n",
       "dtype: int64"
      ]
     },
     "execution_count": 27,
     "metadata": {},
     "output_type": "execute_result"
    }
   ],
   "source": [
    "ab.isnull().sum()"
   ]
  },
  {
   "cell_type": "code",
   "execution_count": 29,
   "id": "0c1a5a11",
   "metadata": {},
   "outputs": [],
   "source": [
    "d1 = { \"fruits\": [\"apple\",\"banana\",\"kiwi\",\"mango\",\"orange\",\"guava\"],\n",
    "     \"price\":[100,20,230,46,37,250]}\n"
   ]
  },
  {
   "cell_type": "code",
   "execution_count": 30,
   "id": "d6315aaa",
   "metadata": {},
   "outputs": [],
   "source": [
    "df1 = pd.DataFrame(d1)"
   ]
  },
  {
   "cell_type": "code",
   "execution_count": 31,
   "id": "d5c98428",
   "metadata": {},
   "outputs": [
    {
     "data": {
      "text/html": [
       "<div>\n",
       "<style scoped>\n",
       "    .dataframe tbody tr th:only-of-type {\n",
       "        vertical-align: middle;\n",
       "    }\n",
       "\n",
       "    .dataframe tbody tr th {\n",
       "        vertical-align: top;\n",
       "    }\n",
       "\n",
       "    .dataframe thead th {\n",
       "        text-align: right;\n",
       "    }\n",
       "</style>\n",
       "<table border=\"1\" class=\"dataframe\">\n",
       "  <thead>\n",
       "    <tr style=\"text-align: right;\">\n",
       "      <th></th>\n",
       "      <th>fruits</th>\n",
       "      <th>price</th>\n",
       "    </tr>\n",
       "  </thead>\n",
       "  <tbody>\n",
       "    <tr>\n",
       "      <th>0</th>\n",
       "      <td>apple</td>\n",
       "      <td>100</td>\n",
       "    </tr>\n",
       "    <tr>\n",
       "      <th>1</th>\n",
       "      <td>banana</td>\n",
       "      <td>20</td>\n",
       "    </tr>\n",
       "    <tr>\n",
       "      <th>2</th>\n",
       "      <td>kiwi</td>\n",
       "      <td>230</td>\n",
       "    </tr>\n",
       "    <tr>\n",
       "      <th>3</th>\n",
       "      <td>mango</td>\n",
       "      <td>46</td>\n",
       "    </tr>\n",
       "    <tr>\n",
       "      <th>4</th>\n",
       "      <td>orange</td>\n",
       "      <td>37</td>\n",
       "    </tr>\n",
       "    <tr>\n",
       "      <th>5</th>\n",
       "      <td>guava</td>\n",
       "      <td>250</td>\n",
       "    </tr>\n",
       "  </tbody>\n",
       "</table>\n",
       "</div>"
      ],
      "text/plain": [
       "   fruits  price\n",
       "0   apple    100\n",
       "1  banana     20\n",
       "2    kiwi    230\n",
       "3   mango     46\n",
       "4  orange     37\n",
       "5   guava    250"
      ]
     },
     "execution_count": 31,
     "metadata": {},
     "output_type": "execute_result"
    }
   ],
   "source": [
    "df1"
   ]
  },
  {
   "cell_type": "code",
   "execution_count": 32,
   "id": "3ef1163a",
   "metadata": {},
   "outputs": [],
   "source": [
    "Q = [10,20,30,40,43,53]"
   ]
  },
  {
   "cell_type": "code",
   "execution_count": 35,
   "id": "a08675d5",
   "metadata": {},
   "outputs": [],
   "source": [
    "df1['Quantity'] = Q"
   ]
  },
  {
   "cell_type": "code",
   "execution_count": 40,
   "id": "a751b9e9",
   "metadata": {},
   "outputs": [
    {
     "data": {
      "text/html": [
       "<div>\n",
       "<style scoped>\n",
       "    .dataframe tbody tr th:only-of-type {\n",
       "        vertical-align: middle;\n",
       "    }\n",
       "\n",
       "    .dataframe tbody tr th {\n",
       "        vertical-align: top;\n",
       "    }\n",
       "\n",
       "    .dataframe thead th {\n",
       "        text-align: right;\n",
       "    }\n",
       "</style>\n",
       "<table border=\"1\" class=\"dataframe\">\n",
       "  <thead>\n",
       "    <tr style=\"text-align: right;\">\n",
       "      <th></th>\n",
       "      <th>fruits</th>\n",
       "      <th>price</th>\n",
       "      <th>quantity</th>\n",
       "      <th>Quantity</th>\n",
       "    </tr>\n",
       "  </thead>\n",
       "  <tbody>\n",
       "    <tr>\n",
       "      <th>0</th>\n",
       "      <td>apple</td>\n",
       "      <td>100</td>\n",
       "      <td>10</td>\n",
       "      <td>10</td>\n",
       "    </tr>\n",
       "    <tr>\n",
       "      <th>1</th>\n",
       "      <td>banana</td>\n",
       "      <td>20</td>\n",
       "      <td>20</td>\n",
       "      <td>20</td>\n",
       "    </tr>\n",
       "    <tr>\n",
       "      <th>2</th>\n",
       "      <td>kiwi</td>\n",
       "      <td>230</td>\n",
       "      <td>30</td>\n",
       "      <td>30</td>\n",
       "    </tr>\n",
       "    <tr>\n",
       "      <th>3</th>\n",
       "      <td>mango</td>\n",
       "      <td>46</td>\n",
       "      <td>40</td>\n",
       "      <td>40</td>\n",
       "    </tr>\n",
       "    <tr>\n",
       "      <th>4</th>\n",
       "      <td>orange</td>\n",
       "      <td>37</td>\n",
       "      <td>43</td>\n",
       "      <td>43</td>\n",
       "    </tr>\n",
       "    <tr>\n",
       "      <th>5</th>\n",
       "      <td>guava</td>\n",
       "      <td>250</td>\n",
       "      <td>53</td>\n",
       "      <td>53</td>\n",
       "    </tr>\n",
       "  </tbody>\n",
       "</table>\n",
       "</div>"
      ],
      "text/plain": [
       "   fruits  price  quantity  Quantity\n",
       "0   apple    100        10        10\n",
       "1  banana     20        20        20\n",
       "2    kiwi    230        30        30\n",
       "3   mango     46        40        40\n",
       "4  orange     37        43        43\n",
       "5   guava    250        53        53"
      ]
     },
     "execution_count": 40,
     "metadata": {},
     "output_type": "execute_result"
    }
   ],
   "source": [
    "df1"
   ]
  },
  {
   "cell_type": "code",
   "execution_count": 41,
   "id": "e7eae00d",
   "metadata": {},
   "outputs": [],
   "source": [
    "df1['Total price'] = df1['price'] * df1['Quantity']"
   ]
  },
  {
   "cell_type": "code",
   "execution_count": 42,
   "id": "ca7482a8",
   "metadata": {},
   "outputs": [
    {
     "data": {
      "text/html": [
       "<div>\n",
       "<style scoped>\n",
       "    .dataframe tbody tr th:only-of-type {\n",
       "        vertical-align: middle;\n",
       "    }\n",
       "\n",
       "    .dataframe tbody tr th {\n",
       "        vertical-align: top;\n",
       "    }\n",
       "\n",
       "    .dataframe thead th {\n",
       "        text-align: right;\n",
       "    }\n",
       "</style>\n",
       "<table border=\"1\" class=\"dataframe\">\n",
       "  <thead>\n",
       "    <tr style=\"text-align: right;\">\n",
       "      <th></th>\n",
       "      <th>fruits</th>\n",
       "      <th>price</th>\n",
       "      <th>quantity</th>\n",
       "      <th>Quantity</th>\n",
       "      <th>Total price</th>\n",
       "    </tr>\n",
       "  </thead>\n",
       "  <tbody>\n",
       "    <tr>\n",
       "      <th>0</th>\n",
       "      <td>apple</td>\n",
       "      <td>100</td>\n",
       "      <td>10</td>\n",
       "      <td>10</td>\n",
       "      <td>1000</td>\n",
       "    </tr>\n",
       "    <tr>\n",
       "      <th>1</th>\n",
       "      <td>banana</td>\n",
       "      <td>20</td>\n",
       "      <td>20</td>\n",
       "      <td>20</td>\n",
       "      <td>400</td>\n",
       "    </tr>\n",
       "    <tr>\n",
       "      <th>2</th>\n",
       "      <td>kiwi</td>\n",
       "      <td>230</td>\n",
       "      <td>30</td>\n",
       "      <td>30</td>\n",
       "      <td>6900</td>\n",
       "    </tr>\n",
       "    <tr>\n",
       "      <th>3</th>\n",
       "      <td>mango</td>\n",
       "      <td>46</td>\n",
       "      <td>40</td>\n",
       "      <td>40</td>\n",
       "      <td>1840</td>\n",
       "    </tr>\n",
       "    <tr>\n",
       "      <th>4</th>\n",
       "      <td>orange</td>\n",
       "      <td>37</td>\n",
       "      <td>43</td>\n",
       "      <td>43</td>\n",
       "      <td>1591</td>\n",
       "    </tr>\n",
       "    <tr>\n",
       "      <th>5</th>\n",
       "      <td>guava</td>\n",
       "      <td>250</td>\n",
       "      <td>53</td>\n",
       "      <td>53</td>\n",
       "      <td>13250</td>\n",
       "    </tr>\n",
       "  </tbody>\n",
       "</table>\n",
       "</div>"
      ],
      "text/plain": [
       "   fruits  price  quantity  Quantity  Total price\n",
       "0   apple    100        10        10         1000\n",
       "1  banana     20        20        20          400\n",
       "2    kiwi    230        30        30         6900\n",
       "3   mango     46        40        40         1840\n",
       "4  orange     37        43        43         1591\n",
       "5   guava    250        53        53        13250"
      ]
     },
     "execution_count": 42,
     "metadata": {},
     "output_type": "execute_result"
    }
   ],
   "source": [
    "df1"
   ]
  },
  {
   "cell_type": "code",
   "execution_count": 44,
   "id": "ec4b4894",
   "metadata": {},
   "outputs": [],
   "source": [
    "df1['Discount'] = [10,20,5,50,30,25]"
   ]
  },
  {
   "cell_type": "code",
   "execution_count": 45,
   "id": "88934cb6",
   "metadata": {},
   "outputs": [
    {
     "data": {
      "text/html": [
       "<div>\n",
       "<style scoped>\n",
       "    .dataframe tbody tr th:only-of-type {\n",
       "        vertical-align: middle;\n",
       "    }\n",
       "\n",
       "    .dataframe tbody tr th {\n",
       "        vertical-align: top;\n",
       "    }\n",
       "\n",
       "    .dataframe thead th {\n",
       "        text-align: right;\n",
       "    }\n",
       "</style>\n",
       "<table border=\"1\" class=\"dataframe\">\n",
       "  <thead>\n",
       "    <tr style=\"text-align: right;\">\n",
       "      <th></th>\n",
       "      <th>fruits</th>\n",
       "      <th>price</th>\n",
       "      <th>quantity</th>\n",
       "      <th>Quantity</th>\n",
       "      <th>Total price</th>\n",
       "      <th>Discount</th>\n",
       "    </tr>\n",
       "  </thead>\n",
       "  <tbody>\n",
       "    <tr>\n",
       "      <th>0</th>\n",
       "      <td>apple</td>\n",
       "      <td>100</td>\n",
       "      <td>10</td>\n",
       "      <td>10</td>\n",
       "      <td>1000</td>\n",
       "      <td>10</td>\n",
       "    </tr>\n",
       "    <tr>\n",
       "      <th>1</th>\n",
       "      <td>banana</td>\n",
       "      <td>20</td>\n",
       "      <td>20</td>\n",
       "      <td>20</td>\n",
       "      <td>400</td>\n",
       "      <td>20</td>\n",
       "    </tr>\n",
       "    <tr>\n",
       "      <th>2</th>\n",
       "      <td>kiwi</td>\n",
       "      <td>230</td>\n",
       "      <td>30</td>\n",
       "      <td>30</td>\n",
       "      <td>6900</td>\n",
       "      <td>5</td>\n",
       "    </tr>\n",
       "    <tr>\n",
       "      <th>3</th>\n",
       "      <td>mango</td>\n",
       "      <td>46</td>\n",
       "      <td>40</td>\n",
       "      <td>40</td>\n",
       "      <td>1840</td>\n",
       "      <td>50</td>\n",
       "    </tr>\n",
       "    <tr>\n",
       "      <th>4</th>\n",
       "      <td>orange</td>\n",
       "      <td>37</td>\n",
       "      <td>43</td>\n",
       "      <td>43</td>\n",
       "      <td>1591</td>\n",
       "      <td>30</td>\n",
       "    </tr>\n",
       "    <tr>\n",
       "      <th>5</th>\n",
       "      <td>guava</td>\n",
       "      <td>250</td>\n",
       "      <td>53</td>\n",
       "      <td>53</td>\n",
       "      <td>13250</td>\n",
       "      <td>25</td>\n",
       "    </tr>\n",
       "  </tbody>\n",
       "</table>\n",
       "</div>"
      ],
      "text/plain": [
       "   fruits  price  quantity  Quantity  Total price  Discount\n",
       "0   apple    100        10        10         1000        10\n",
       "1  banana     20        20        20          400        20\n",
       "2    kiwi    230        30        30         6900         5\n",
       "3   mango     46        40        40         1840        50\n",
       "4  orange     37        43        43         1591        30\n",
       "5   guava    250        53        53        13250        25"
      ]
     },
     "execution_count": 45,
     "metadata": {},
     "output_type": "execute_result"
    }
   ],
   "source": [
    "df1 "
   ]
  },
  {
   "cell_type": "code",
   "execution_count": 47,
   "id": "b238de53",
   "metadata": {},
   "outputs": [],
   "source": [
    "df1['Final price'] = df1['Total price'] - ((df1['Total price'] * df1['Discount'])/100)"
   ]
  },
  {
   "cell_type": "code",
   "execution_count": 48,
   "id": "96506c56",
   "metadata": {},
   "outputs": [
    {
     "data": {
      "text/html": [
       "<div>\n",
       "<style scoped>\n",
       "    .dataframe tbody tr th:only-of-type {\n",
       "        vertical-align: middle;\n",
       "    }\n",
       "\n",
       "    .dataframe tbody tr th {\n",
       "        vertical-align: top;\n",
       "    }\n",
       "\n",
       "    .dataframe thead th {\n",
       "        text-align: right;\n",
       "    }\n",
       "</style>\n",
       "<table border=\"1\" class=\"dataframe\">\n",
       "  <thead>\n",
       "    <tr style=\"text-align: right;\">\n",
       "      <th></th>\n",
       "      <th>fruits</th>\n",
       "      <th>price</th>\n",
       "      <th>quantity</th>\n",
       "      <th>Quantity</th>\n",
       "      <th>Total price</th>\n",
       "      <th>Discount</th>\n",
       "      <th>Final price</th>\n",
       "    </tr>\n",
       "  </thead>\n",
       "  <tbody>\n",
       "    <tr>\n",
       "      <th>0</th>\n",
       "      <td>apple</td>\n",
       "      <td>100</td>\n",
       "      <td>10</td>\n",
       "      <td>10</td>\n",
       "      <td>1000</td>\n",
       "      <td>10</td>\n",
       "      <td>900.0</td>\n",
       "    </tr>\n",
       "    <tr>\n",
       "      <th>1</th>\n",
       "      <td>banana</td>\n",
       "      <td>20</td>\n",
       "      <td>20</td>\n",
       "      <td>20</td>\n",
       "      <td>400</td>\n",
       "      <td>20</td>\n",
       "      <td>320.0</td>\n",
       "    </tr>\n",
       "    <tr>\n",
       "      <th>2</th>\n",
       "      <td>kiwi</td>\n",
       "      <td>230</td>\n",
       "      <td>30</td>\n",
       "      <td>30</td>\n",
       "      <td>6900</td>\n",
       "      <td>5</td>\n",
       "      <td>6555.0</td>\n",
       "    </tr>\n",
       "    <tr>\n",
       "      <th>3</th>\n",
       "      <td>mango</td>\n",
       "      <td>46</td>\n",
       "      <td>40</td>\n",
       "      <td>40</td>\n",
       "      <td>1840</td>\n",
       "      <td>50</td>\n",
       "      <td>920.0</td>\n",
       "    </tr>\n",
       "    <tr>\n",
       "      <th>4</th>\n",
       "      <td>orange</td>\n",
       "      <td>37</td>\n",
       "      <td>43</td>\n",
       "      <td>43</td>\n",
       "      <td>1591</td>\n",
       "      <td>30</td>\n",
       "      <td>1113.7</td>\n",
       "    </tr>\n",
       "    <tr>\n",
       "      <th>5</th>\n",
       "      <td>guava</td>\n",
       "      <td>250</td>\n",
       "      <td>53</td>\n",
       "      <td>53</td>\n",
       "      <td>13250</td>\n",
       "      <td>25</td>\n",
       "      <td>9937.5</td>\n",
       "    </tr>\n",
       "  </tbody>\n",
       "</table>\n",
       "</div>"
      ],
      "text/plain": [
       "   fruits  price  quantity  Quantity  Total price  Discount  Final price\n",
       "0   apple    100        10        10         1000        10        900.0\n",
       "1  banana     20        20        20          400        20        320.0\n",
       "2    kiwi    230        30        30         6900         5       6555.0\n",
       "3   mango     46        40        40         1840        50        920.0\n",
       "4  orange     37        43        43         1591        30       1113.7\n",
       "5   guava    250        53        53        13250        25       9937.5"
      ]
     },
     "execution_count": 48,
     "metadata": {},
     "output_type": "execute_result"
    }
   ],
   "source": [
    "df1"
   ]
  },
  {
   "cell_type": "markdown",
   "id": "0462ea51",
   "metadata": {},
   "source": [
    "## 9 feb thrusday"
   ]
  },
  {
   "cell_type": "code",
   "execution_count": 53,
   "id": "f61feb71",
   "metadata": {},
   "outputs": [],
   "source": [
    "import pandas as pd"
   ]
  },
  {
   "cell_type": "code",
   "execution_count": 32,
   "id": "20a82e6d",
   "metadata": {},
   "outputs": [],
   "source": [
    "tn = pd.DataFrame({'Company':[], 'stockprices':[]})"
   ]
  },
  {
   "cell_type": "code",
   "execution_count": 33,
   "id": "7bbfeec5",
   "metadata": {},
   "outputs": [
    {
     "data": {
      "text/html": [
       "<div>\n",
       "<style scoped>\n",
       "    .dataframe tbody tr th:only-of-type {\n",
       "        vertical-align: middle;\n",
       "    }\n",
       "\n",
       "    .dataframe tbody tr th {\n",
       "        vertical-align: top;\n",
       "    }\n",
       "\n",
       "    .dataframe thead th {\n",
       "        text-align: right;\n",
       "    }\n",
       "</style>\n",
       "<table border=\"1\" class=\"dataframe\">\n",
       "  <thead>\n",
       "    <tr style=\"text-align: right;\">\n",
       "      <th></th>\n",
       "      <th>Company</th>\n",
       "      <th>stockprices</th>\n",
       "    </tr>\n",
       "  </thead>\n",
       "  <tbody>\n",
       "  </tbody>\n",
       "</table>\n",
       "</div>"
      ],
      "text/plain": [
       "Empty DataFrame\n",
       "Columns: [Company, stockprices]\n",
       "Index: []"
      ]
     },
     "execution_count": 33,
     "metadata": {},
     "output_type": "execute_result"
    }
   ],
   "source": [
    "tn"
   ]
  },
  {
   "cell_type": "code",
   "execution_count": 34,
   "id": "814aaee3",
   "metadata": {},
   "outputs": [],
   "source": [
    "company = ['TCS','Reliance','Wipro','Zomato','Nyka','Airtel']\n",
    "sp = [1200, 2000, 212, 50, 154, 1544]"
   ]
  },
  {
   "cell_type": "code",
   "execution_count": 35,
   "id": "9bc8066d",
   "metadata": {},
   "outputs": [],
   "source": [
    "tn['Company'] = company"
   ]
  },
  {
   "cell_type": "code",
   "execution_count": 36,
   "id": "33832780",
   "metadata": {},
   "outputs": [],
   "source": [
    "tn['stockprices'] = sp"
   ]
  },
  {
   "cell_type": "code",
   "execution_count": 37,
   "id": "5f07e0a1",
   "metadata": {},
   "outputs": [
    {
     "data": {
      "text/html": [
       "<div>\n",
       "<style scoped>\n",
       "    .dataframe tbody tr th:only-of-type {\n",
       "        vertical-align: middle;\n",
       "    }\n",
       "\n",
       "    .dataframe tbody tr th {\n",
       "        vertical-align: top;\n",
       "    }\n",
       "\n",
       "    .dataframe thead th {\n",
       "        text-align: right;\n",
       "    }\n",
       "</style>\n",
       "<table border=\"1\" class=\"dataframe\">\n",
       "  <thead>\n",
       "    <tr style=\"text-align: right;\">\n",
       "      <th></th>\n",
       "      <th>Company</th>\n",
       "      <th>stockprices</th>\n",
       "    </tr>\n",
       "  </thead>\n",
       "  <tbody>\n",
       "    <tr>\n",
       "      <th>0</th>\n",
       "      <td>TCS</td>\n",
       "      <td>1200</td>\n",
       "    </tr>\n",
       "    <tr>\n",
       "      <th>1</th>\n",
       "      <td>Reliance</td>\n",
       "      <td>2000</td>\n",
       "    </tr>\n",
       "    <tr>\n",
       "      <th>2</th>\n",
       "      <td>Wipro</td>\n",
       "      <td>212</td>\n",
       "    </tr>\n",
       "    <tr>\n",
       "      <th>3</th>\n",
       "      <td>Zomato</td>\n",
       "      <td>50</td>\n",
       "    </tr>\n",
       "    <tr>\n",
       "      <th>4</th>\n",
       "      <td>Nyka</td>\n",
       "      <td>154</td>\n",
       "    </tr>\n",
       "    <tr>\n",
       "      <th>5</th>\n",
       "      <td>Airtel</td>\n",
       "      <td>1544</td>\n",
       "    </tr>\n",
       "  </tbody>\n",
       "</table>\n",
       "</div>"
      ],
      "text/plain": [
       "    Company  stockprices\n",
       "0       TCS         1200\n",
       "1  Reliance         2000\n",
       "2     Wipro          212\n",
       "3    Zomato           50\n",
       "4      Nyka          154\n",
       "5    Airtel         1544"
      ]
     },
     "execution_count": 37,
     "metadata": {},
     "output_type": "execute_result"
    }
   ],
   "source": [
    "tn"
   ]
  },
  {
   "cell_type": "code",
   "execution_count": 38,
   "id": "635f7f33",
   "metadata": {},
   "outputs": [],
   "source": [
    "tn['stock count'] = [187,515,6164,24,644,464]"
   ]
  },
  {
   "cell_type": "code",
   "execution_count": 41,
   "id": "e68b4fcb",
   "metadata": {},
   "outputs": [],
   "source": [
    "tn['Total value'] = tn['stockprices']*tn['stock count']"
   ]
  },
  {
   "cell_type": "code",
   "execution_count": 42,
   "id": "1c4f2a40",
   "metadata": {},
   "outputs": [
    {
     "data": {
      "text/html": [
       "<div>\n",
       "<style scoped>\n",
       "    .dataframe tbody tr th:only-of-type {\n",
       "        vertical-align: middle;\n",
       "    }\n",
       "\n",
       "    .dataframe tbody tr th {\n",
       "        vertical-align: top;\n",
       "    }\n",
       "\n",
       "    .dataframe thead th {\n",
       "        text-align: right;\n",
       "    }\n",
       "</style>\n",
       "<table border=\"1\" class=\"dataframe\">\n",
       "  <thead>\n",
       "    <tr style=\"text-align: right;\">\n",
       "      <th></th>\n",
       "      <th>Company</th>\n",
       "      <th>stockprices</th>\n",
       "      <th>stock count</th>\n",
       "      <th>Total value</th>\n",
       "    </tr>\n",
       "  </thead>\n",
       "  <tbody>\n",
       "    <tr>\n",
       "      <th>0</th>\n",
       "      <td>TCS</td>\n",
       "      <td>1200</td>\n",
       "      <td>187</td>\n",
       "      <td>224400</td>\n",
       "    </tr>\n",
       "    <tr>\n",
       "      <th>1</th>\n",
       "      <td>Reliance</td>\n",
       "      <td>2000</td>\n",
       "      <td>515</td>\n",
       "      <td>1030000</td>\n",
       "    </tr>\n",
       "    <tr>\n",
       "      <th>2</th>\n",
       "      <td>Wipro</td>\n",
       "      <td>212</td>\n",
       "      <td>6164</td>\n",
       "      <td>1306768</td>\n",
       "    </tr>\n",
       "    <tr>\n",
       "      <th>3</th>\n",
       "      <td>Zomato</td>\n",
       "      <td>50</td>\n",
       "      <td>24</td>\n",
       "      <td>1200</td>\n",
       "    </tr>\n",
       "    <tr>\n",
       "      <th>4</th>\n",
       "      <td>Nyka</td>\n",
       "      <td>154</td>\n",
       "      <td>644</td>\n",
       "      <td>99176</td>\n",
       "    </tr>\n",
       "    <tr>\n",
       "      <th>5</th>\n",
       "      <td>Airtel</td>\n",
       "      <td>1544</td>\n",
       "      <td>464</td>\n",
       "      <td>716416</td>\n",
       "    </tr>\n",
       "  </tbody>\n",
       "</table>\n",
       "</div>"
      ],
      "text/plain": [
       "    Company  stockprices  stock count  Total value\n",
       "0       TCS         1200          187       224400\n",
       "1  Reliance         2000          515      1030000\n",
       "2     Wipro          212         6164      1306768\n",
       "3    Zomato           50           24         1200\n",
       "4      Nyka          154          644        99176\n",
       "5    Airtel         1544          464       716416"
      ]
     },
     "execution_count": 42,
     "metadata": {},
     "output_type": "execute_result"
    }
   ],
   "source": [
    "tn"
   ]
  },
  {
   "cell_type": "code",
   "execution_count": 44,
   "id": "3147c286",
   "metadata": {},
   "outputs": [],
   "source": [
    "import numpy as np"
   ]
  },
  {
   "cell_type": "code",
   "execution_count": 57,
   "id": "8cf30f80",
   "metadata": {},
   "outputs": [],
   "source": [
    "from pandas import DataFrame as dff"
   ]
  },
  {
   "cell_type": "code",
   "execution_count": 68,
   "id": "f542a427",
   "metadata": {},
   "outputs": [],
   "source": [
    "df = dff({'product':['Tea', 'coffee', np.nan, 'Rice', 'Beans', 'Almond', np.nan, 'facewash', 'Shampoo', 'Sugar'],\n",
    "       'price':[100, 200, np.nan, np.nan, 450, np.nan, 700, 300, np.nan, 200],\n",
    "       'quantity':[10, 20, np.nan, np.nan, np.nan, 10, 5, np.nan, 60, 30]})\n"
   ]
  },
  {
   "cell_type": "code",
   "execution_count": 69,
   "id": "a3b939e5",
   "metadata": {
    "scrolled": true
   },
   "outputs": [
    {
     "data": {
      "text/html": [
       "<div>\n",
       "<style scoped>\n",
       "    .dataframe tbody tr th:only-of-type {\n",
       "        vertical-align: middle;\n",
       "    }\n",
       "\n",
       "    .dataframe tbody tr th {\n",
       "        vertical-align: top;\n",
       "    }\n",
       "\n",
       "    .dataframe thead th {\n",
       "        text-align: right;\n",
       "    }\n",
       "</style>\n",
       "<table border=\"1\" class=\"dataframe\">\n",
       "  <thead>\n",
       "    <tr style=\"text-align: right;\">\n",
       "      <th></th>\n",
       "      <th>product</th>\n",
       "      <th>price</th>\n",
       "      <th>quantity</th>\n",
       "    </tr>\n",
       "  </thead>\n",
       "  <tbody>\n",
       "    <tr>\n",
       "      <th>0</th>\n",
       "      <td>Tea</td>\n",
       "      <td>100.0</td>\n",
       "      <td>10.0</td>\n",
       "    </tr>\n",
       "    <tr>\n",
       "      <th>1</th>\n",
       "      <td>coffee</td>\n",
       "      <td>200.0</td>\n",
       "      <td>20.0</td>\n",
       "    </tr>\n",
       "    <tr>\n",
       "      <th>2</th>\n",
       "      <td>NaN</td>\n",
       "      <td>NaN</td>\n",
       "      <td>NaN</td>\n",
       "    </tr>\n",
       "    <tr>\n",
       "      <th>3</th>\n",
       "      <td>Rice</td>\n",
       "      <td>NaN</td>\n",
       "      <td>NaN</td>\n",
       "    </tr>\n",
       "    <tr>\n",
       "      <th>4</th>\n",
       "      <td>Beans</td>\n",
       "      <td>450.0</td>\n",
       "      <td>NaN</td>\n",
       "    </tr>\n",
       "    <tr>\n",
       "      <th>5</th>\n",
       "      <td>Almond</td>\n",
       "      <td>NaN</td>\n",
       "      <td>10.0</td>\n",
       "    </tr>\n",
       "    <tr>\n",
       "      <th>6</th>\n",
       "      <td>NaN</td>\n",
       "      <td>700.0</td>\n",
       "      <td>5.0</td>\n",
       "    </tr>\n",
       "    <tr>\n",
       "      <th>7</th>\n",
       "      <td>facewash</td>\n",
       "      <td>300.0</td>\n",
       "      <td>NaN</td>\n",
       "    </tr>\n",
       "    <tr>\n",
       "      <th>8</th>\n",
       "      <td>Shampoo</td>\n",
       "      <td>NaN</td>\n",
       "      <td>60.0</td>\n",
       "    </tr>\n",
       "    <tr>\n",
       "      <th>9</th>\n",
       "      <td>Sugar</td>\n",
       "      <td>200.0</td>\n",
       "      <td>30.0</td>\n",
       "    </tr>\n",
       "  </tbody>\n",
       "</table>\n",
       "</div>"
      ],
      "text/plain": [
       "    product  price  quantity\n",
       "0       Tea  100.0      10.0\n",
       "1    coffee  200.0      20.0\n",
       "2       NaN    NaN       NaN\n",
       "3      Rice    NaN       NaN\n",
       "4     Beans  450.0       NaN\n",
       "5    Almond    NaN      10.0\n",
       "6       NaN  700.0       5.0\n",
       "7  facewash  300.0       NaN\n",
       "8   Shampoo    NaN      60.0\n",
       "9     Sugar  200.0      30.0"
      ]
     },
     "execution_count": 69,
     "metadata": {},
     "output_type": "execute_result"
    }
   ],
   "source": [
    "df"
   ]
  },
  {
   "cell_type": "code",
   "execution_count": 70,
   "id": "a64b7c56",
   "metadata": {},
   "outputs": [
    {
     "data": {
      "text/plain": [
       "product     2\n",
       "price       4\n",
       "quantity    4\n",
       "dtype: int64"
      ]
     },
     "execution_count": 70,
     "metadata": {},
     "output_type": "execute_result"
    }
   ],
   "source": [
    "df.isnull().sum()"
   ]
  },
  {
   "cell_type": "code",
   "execution_count": 71,
   "id": "45668629",
   "metadata": {},
   "outputs": [
    {
     "name": "stdout",
     "output_type": "stream",
     "text": [
      "<class 'pandas.core.frame.DataFrame'>\n",
      "RangeIndex: 10 entries, 0 to 9\n",
      "Data columns (total 3 columns):\n",
      " #   Column    Non-Null Count  Dtype  \n",
      "---  ------    --------------  -----  \n",
      " 0   product   8 non-null      object \n",
      " 1   price     6 non-null      float64\n",
      " 2   quantity  6 non-null      float64\n",
      "dtypes: float64(2), object(1)\n",
      "memory usage: 368.0+ bytes\n"
     ]
    }
   ],
   "source": [
    "df.info()"
   ]
  },
  {
   "cell_type": "code",
   "execution_count": 94,
   "id": "2e019d49",
   "metadata": {},
   "outputs": [],
   "source": [
    "df['product'] = df['product'].fillna(\"Others\")"
   ]
  },
  {
   "cell_type": "code",
   "execution_count": 95,
   "id": "87ef8446",
   "metadata": {},
   "outputs": [
    {
     "data": {
      "text/html": [
       "<div>\n",
       "<style scoped>\n",
       "    .dataframe tbody tr th:only-of-type {\n",
       "        vertical-align: middle;\n",
       "    }\n",
       "\n",
       "    .dataframe tbody tr th {\n",
       "        vertical-align: top;\n",
       "    }\n",
       "\n",
       "    .dataframe thead th {\n",
       "        text-align: right;\n",
       "    }\n",
       "</style>\n",
       "<table border=\"1\" class=\"dataframe\">\n",
       "  <thead>\n",
       "    <tr style=\"text-align: right;\">\n",
       "      <th></th>\n",
       "      <th>product</th>\n",
       "      <th>price</th>\n",
       "      <th>quantity</th>\n",
       "    </tr>\n",
       "  </thead>\n",
       "  <tbody>\n",
       "    <tr>\n",
       "      <th>0</th>\n",
       "      <td>Tea</td>\n",
       "      <td>100.0</td>\n",
       "      <td>10.0</td>\n",
       "    </tr>\n",
       "    <tr>\n",
       "      <th>1</th>\n",
       "      <td>coffee</td>\n",
       "      <td>200.0</td>\n",
       "      <td>20.0</td>\n",
       "    </tr>\n",
       "    <tr>\n",
       "      <th>2</th>\n",
       "      <td>Others</td>\n",
       "      <td>325.0</td>\n",
       "      <td>22.5</td>\n",
       "    </tr>\n",
       "    <tr>\n",
       "      <th>3</th>\n",
       "      <td>Rice</td>\n",
       "      <td>325.0</td>\n",
       "      <td>22.5</td>\n",
       "    </tr>\n",
       "    <tr>\n",
       "      <th>4</th>\n",
       "      <td>Beans</td>\n",
       "      <td>450.0</td>\n",
       "      <td>22.5</td>\n",
       "    </tr>\n",
       "    <tr>\n",
       "      <th>5</th>\n",
       "      <td>Almond</td>\n",
       "      <td>325.0</td>\n",
       "      <td>10.0</td>\n",
       "    </tr>\n",
       "    <tr>\n",
       "      <th>6</th>\n",
       "      <td>Others</td>\n",
       "      <td>700.0</td>\n",
       "      <td>5.0</td>\n",
       "    </tr>\n",
       "    <tr>\n",
       "      <th>7</th>\n",
       "      <td>facewash</td>\n",
       "      <td>300.0</td>\n",
       "      <td>22.5</td>\n",
       "    </tr>\n",
       "    <tr>\n",
       "      <th>8</th>\n",
       "      <td>Shampoo</td>\n",
       "      <td>325.0</td>\n",
       "      <td>60.0</td>\n",
       "    </tr>\n",
       "    <tr>\n",
       "      <th>9</th>\n",
       "      <td>Sugar</td>\n",
       "      <td>200.0</td>\n",
       "      <td>30.0</td>\n",
       "    </tr>\n",
       "  </tbody>\n",
       "</table>\n",
       "</div>"
      ],
      "text/plain": [
       "    product  price  quantity\n",
       "0       Tea  100.0      10.0\n",
       "1    coffee  200.0      20.0\n",
       "2    Others  325.0      22.5\n",
       "3      Rice  325.0      22.5\n",
       "4     Beans  450.0      22.5\n",
       "5    Almond  325.0      10.0\n",
       "6    Others  700.0       5.0\n",
       "7  facewash  300.0      22.5\n",
       "8   Shampoo  325.0      60.0\n",
       "9     Sugar  200.0      30.0"
      ]
     },
     "execution_count": 95,
     "metadata": {},
     "output_type": "execute_result"
    }
   ],
   "source": [
    "df"
   ]
  },
  {
   "cell_type": "code",
   "execution_count": null,
   "id": "1a5acb2c",
   "metadata": {},
   "outputs": [],
   "source": []
  },
  {
   "cell_type": "code",
   "execution_count": 96,
   "id": "19bc68c3",
   "metadata": {},
   "outputs": [
    {
     "data": {
      "text/plain": [
       "0    100.0\n",
       "1    200.0\n",
       "2    325.0\n",
       "3    325.0\n",
       "4    450.0\n",
       "5    325.0\n",
       "6    700.0\n",
       "7    300.0\n",
       "8    325.0\n",
       "9    200.0\n",
       "Name: price, dtype: float64"
      ]
     },
     "execution_count": 96,
     "metadata": {},
     "output_type": "execute_result"
    }
   ],
   "source": [
    "df.price"
   ]
  },
  {
   "cell_type": "code",
   "execution_count": 97,
   "id": "8f955936",
   "metadata": {},
   "outputs": [
    {
     "data": {
      "text/plain": [
       "325.0"
      ]
     },
     "execution_count": 97,
     "metadata": {},
     "output_type": "execute_result"
    }
   ],
   "source": [
    "df.price.mean()   ## avg value"
   ]
  },
  {
   "cell_type": "code",
   "execution_count": 98,
   "id": "90e97028",
   "metadata": {},
   "outputs": [],
   "source": [
    "df.price = df.price.fillna(df.price.mean())"
   ]
  },
  {
   "cell_type": "code",
   "execution_count": 99,
   "id": "adb0e2a5",
   "metadata": {},
   "outputs": [
    {
     "data": {
      "text/html": [
       "<div>\n",
       "<style scoped>\n",
       "    .dataframe tbody tr th:only-of-type {\n",
       "        vertical-align: middle;\n",
       "    }\n",
       "\n",
       "    .dataframe tbody tr th {\n",
       "        vertical-align: top;\n",
       "    }\n",
       "\n",
       "    .dataframe thead th {\n",
       "        text-align: right;\n",
       "    }\n",
       "</style>\n",
       "<table border=\"1\" class=\"dataframe\">\n",
       "  <thead>\n",
       "    <tr style=\"text-align: right;\">\n",
       "      <th></th>\n",
       "      <th>product</th>\n",
       "      <th>price</th>\n",
       "      <th>quantity</th>\n",
       "    </tr>\n",
       "  </thead>\n",
       "  <tbody>\n",
       "    <tr>\n",
       "      <th>0</th>\n",
       "      <td>Tea</td>\n",
       "      <td>100.0</td>\n",
       "      <td>10.0</td>\n",
       "    </tr>\n",
       "    <tr>\n",
       "      <th>1</th>\n",
       "      <td>coffee</td>\n",
       "      <td>200.0</td>\n",
       "      <td>20.0</td>\n",
       "    </tr>\n",
       "    <tr>\n",
       "      <th>2</th>\n",
       "      <td>Others</td>\n",
       "      <td>325.0</td>\n",
       "      <td>22.5</td>\n",
       "    </tr>\n",
       "    <tr>\n",
       "      <th>3</th>\n",
       "      <td>Rice</td>\n",
       "      <td>325.0</td>\n",
       "      <td>22.5</td>\n",
       "    </tr>\n",
       "    <tr>\n",
       "      <th>4</th>\n",
       "      <td>Beans</td>\n",
       "      <td>450.0</td>\n",
       "      <td>22.5</td>\n",
       "    </tr>\n",
       "    <tr>\n",
       "      <th>5</th>\n",
       "      <td>Almond</td>\n",
       "      <td>325.0</td>\n",
       "      <td>10.0</td>\n",
       "    </tr>\n",
       "    <tr>\n",
       "      <th>6</th>\n",
       "      <td>Others</td>\n",
       "      <td>700.0</td>\n",
       "      <td>5.0</td>\n",
       "    </tr>\n",
       "    <tr>\n",
       "      <th>7</th>\n",
       "      <td>facewash</td>\n",
       "      <td>300.0</td>\n",
       "      <td>22.5</td>\n",
       "    </tr>\n",
       "    <tr>\n",
       "      <th>8</th>\n",
       "      <td>Shampoo</td>\n",
       "      <td>325.0</td>\n",
       "      <td>60.0</td>\n",
       "    </tr>\n",
       "    <tr>\n",
       "      <th>9</th>\n",
       "      <td>Sugar</td>\n",
       "      <td>200.0</td>\n",
       "      <td>30.0</td>\n",
       "    </tr>\n",
       "  </tbody>\n",
       "</table>\n",
       "</div>"
      ],
      "text/plain": [
       "    product  price  quantity\n",
       "0       Tea  100.0      10.0\n",
       "1    coffee  200.0      20.0\n",
       "2    Others  325.0      22.5\n",
       "3      Rice  325.0      22.5\n",
       "4     Beans  450.0      22.5\n",
       "5    Almond  325.0      10.0\n",
       "6    Others  700.0       5.0\n",
       "7  facewash  300.0      22.5\n",
       "8   Shampoo  325.0      60.0\n",
       "9     Sugar  200.0      30.0"
      ]
     },
     "execution_count": 99,
     "metadata": {},
     "output_type": "execute_result"
    }
   ],
   "source": [
    "df"
   ]
  },
  {
   "cell_type": "code",
   "execution_count": 100,
   "id": "ae6362d2",
   "metadata": {},
   "outputs": [
    {
     "data": {
      "text/plain": [
       "0    10.0\n",
       "1    20.0\n",
       "2    22.5\n",
       "3    22.5\n",
       "4    22.5\n",
       "5    10.0\n",
       "6     5.0\n",
       "7    22.5\n",
       "8    60.0\n",
       "9    30.0\n",
       "Name: quantity, dtype: float64"
      ]
     },
     "execution_count": 100,
     "metadata": {},
     "output_type": "execute_result"
    }
   ],
   "source": [
    "df.quantity"
   ]
  },
  {
   "cell_type": "code",
   "execution_count": 101,
   "id": "58b9d6c6",
   "metadata": {},
   "outputs": [
    {
     "data": {
      "text/plain": [
       "0    22.5\n",
       "Name: quantity, dtype: float64"
      ]
     },
     "execution_count": 101,
     "metadata": {},
     "output_type": "execute_result"
    }
   ],
   "source": [
    "df.quantity.mode()"
   ]
  },
  {
   "cell_type": "code",
   "execution_count": 102,
   "id": "6a518ab1",
   "metadata": {},
   "outputs": [],
   "source": [
    "df.quantity = df.quantity.fillna(df.quantity.mode())"
   ]
  },
  {
   "cell_type": "code",
   "execution_count": 103,
   "id": "4aa5ceac",
   "metadata": {},
   "outputs": [
    {
     "data": {
      "text/html": [
       "<div>\n",
       "<style scoped>\n",
       "    .dataframe tbody tr th:only-of-type {\n",
       "        vertical-align: middle;\n",
       "    }\n",
       "\n",
       "    .dataframe tbody tr th {\n",
       "        vertical-align: top;\n",
       "    }\n",
       "\n",
       "    .dataframe thead th {\n",
       "        text-align: right;\n",
       "    }\n",
       "</style>\n",
       "<table border=\"1\" class=\"dataframe\">\n",
       "  <thead>\n",
       "    <tr style=\"text-align: right;\">\n",
       "      <th></th>\n",
       "      <th>product</th>\n",
       "      <th>price</th>\n",
       "      <th>quantity</th>\n",
       "    </tr>\n",
       "  </thead>\n",
       "  <tbody>\n",
       "    <tr>\n",
       "      <th>0</th>\n",
       "      <td>Tea</td>\n",
       "      <td>100.0</td>\n",
       "      <td>10.0</td>\n",
       "    </tr>\n",
       "    <tr>\n",
       "      <th>1</th>\n",
       "      <td>coffee</td>\n",
       "      <td>200.0</td>\n",
       "      <td>20.0</td>\n",
       "    </tr>\n",
       "    <tr>\n",
       "      <th>2</th>\n",
       "      <td>Others</td>\n",
       "      <td>325.0</td>\n",
       "      <td>22.5</td>\n",
       "    </tr>\n",
       "    <tr>\n",
       "      <th>3</th>\n",
       "      <td>Rice</td>\n",
       "      <td>325.0</td>\n",
       "      <td>22.5</td>\n",
       "    </tr>\n",
       "    <tr>\n",
       "      <th>4</th>\n",
       "      <td>Beans</td>\n",
       "      <td>450.0</td>\n",
       "      <td>22.5</td>\n",
       "    </tr>\n",
       "    <tr>\n",
       "      <th>5</th>\n",
       "      <td>Almond</td>\n",
       "      <td>325.0</td>\n",
       "      <td>10.0</td>\n",
       "    </tr>\n",
       "    <tr>\n",
       "      <th>6</th>\n",
       "      <td>Others</td>\n",
       "      <td>700.0</td>\n",
       "      <td>5.0</td>\n",
       "    </tr>\n",
       "    <tr>\n",
       "      <th>7</th>\n",
       "      <td>facewash</td>\n",
       "      <td>300.0</td>\n",
       "      <td>22.5</td>\n",
       "    </tr>\n",
       "    <tr>\n",
       "      <th>8</th>\n",
       "      <td>Shampoo</td>\n",
       "      <td>325.0</td>\n",
       "      <td>60.0</td>\n",
       "    </tr>\n",
       "    <tr>\n",
       "      <th>9</th>\n",
       "      <td>Sugar</td>\n",
       "      <td>200.0</td>\n",
       "      <td>30.0</td>\n",
       "    </tr>\n",
       "  </tbody>\n",
       "</table>\n",
       "</div>"
      ],
      "text/plain": [
       "    product  price  quantity\n",
       "0       Tea  100.0      10.0\n",
       "1    coffee  200.0      20.0\n",
       "2    Others  325.0      22.5\n",
       "3      Rice  325.0      22.5\n",
       "4     Beans  450.0      22.5\n",
       "5    Almond  325.0      10.0\n",
       "6    Others  700.0       5.0\n",
       "7  facewash  300.0      22.5\n",
       "8   Shampoo  325.0      60.0\n",
       "9     Sugar  200.0      30.0"
      ]
     },
     "execution_count": 103,
     "metadata": {},
     "output_type": "execute_result"
    }
   ],
   "source": [
    "df"
   ]
  },
  {
   "cell_type": "code",
   "execution_count": 108,
   "id": "54c4e333",
   "metadata": {},
   "outputs": [
    {
     "data": {
      "text/plain": [
       "0    False\n",
       "1    False\n",
       "2     True\n",
       "3     True\n",
       "4     True\n",
       "5     True\n",
       "6     True\n",
       "7    False\n",
       "8     True\n",
       "9    False\n",
       "Name: price, dtype: bool"
      ]
     },
     "execution_count": 108,
     "metadata": {},
     "output_type": "execute_result"
    }
   ],
   "source": [
    "df.price>300"
   ]
  },
  {
   "cell_type": "code",
   "execution_count": 107,
   "id": "a4e5232f",
   "metadata": {},
   "outputs": [
    {
     "data": {
      "text/html": [
       "<div>\n",
       "<style scoped>\n",
       "    .dataframe tbody tr th:only-of-type {\n",
       "        vertical-align: middle;\n",
       "    }\n",
       "\n",
       "    .dataframe tbody tr th {\n",
       "        vertical-align: top;\n",
       "    }\n",
       "\n",
       "    .dataframe thead th {\n",
       "        text-align: right;\n",
       "    }\n",
       "</style>\n",
       "<table border=\"1\" class=\"dataframe\">\n",
       "  <thead>\n",
       "    <tr style=\"text-align: right;\">\n",
       "      <th></th>\n",
       "      <th>product</th>\n",
       "      <th>price</th>\n",
       "      <th>quantity</th>\n",
       "    </tr>\n",
       "  </thead>\n",
       "  <tbody>\n",
       "    <tr>\n",
       "      <th>2</th>\n",
       "      <td>Others</td>\n",
       "      <td>325.0</td>\n",
       "      <td>22.5</td>\n",
       "    </tr>\n",
       "    <tr>\n",
       "      <th>3</th>\n",
       "      <td>Rice</td>\n",
       "      <td>325.0</td>\n",
       "      <td>22.5</td>\n",
       "    </tr>\n",
       "    <tr>\n",
       "      <th>4</th>\n",
       "      <td>Beans</td>\n",
       "      <td>450.0</td>\n",
       "      <td>22.5</td>\n",
       "    </tr>\n",
       "    <tr>\n",
       "      <th>5</th>\n",
       "      <td>Almond</td>\n",
       "      <td>325.0</td>\n",
       "      <td>10.0</td>\n",
       "    </tr>\n",
       "    <tr>\n",
       "      <th>6</th>\n",
       "      <td>Others</td>\n",
       "      <td>700.0</td>\n",
       "      <td>5.0</td>\n",
       "    </tr>\n",
       "    <tr>\n",
       "      <th>8</th>\n",
       "      <td>Shampoo</td>\n",
       "      <td>325.0</td>\n",
       "      <td>60.0</td>\n",
       "    </tr>\n",
       "  </tbody>\n",
       "</table>\n",
       "</div>"
      ],
      "text/plain": [
       "   product  price  quantity\n",
       "2   Others  325.0      22.5\n",
       "3     Rice  325.0      22.5\n",
       "4    Beans  450.0      22.5\n",
       "5   Almond  325.0      10.0\n",
       "6   Others  700.0       5.0\n",
       "8  Shampoo  325.0      60.0"
      ]
     },
     "execution_count": 107,
     "metadata": {},
     "output_type": "execute_result"
    }
   ],
   "source": [
    "df[df.price>300]"
   ]
  },
  {
   "cell_type": "code",
   "execution_count": 109,
   "id": "5e4e32e6",
   "metadata": {},
   "outputs": [
    {
     "data": {
      "text/html": [
       "<div>\n",
       "<style scoped>\n",
       "    .dataframe tbody tr th:only-of-type {\n",
       "        vertical-align: middle;\n",
       "    }\n",
       "\n",
       "    .dataframe tbody tr th {\n",
       "        vertical-align: top;\n",
       "    }\n",
       "\n",
       "    .dataframe thead th {\n",
       "        text-align: right;\n",
       "    }\n",
       "</style>\n",
       "<table border=\"1\" class=\"dataframe\">\n",
       "  <thead>\n",
       "    <tr style=\"text-align: right;\">\n",
       "      <th></th>\n",
       "      <th>product</th>\n",
       "      <th>price</th>\n",
       "      <th>quantity</th>\n",
       "    </tr>\n",
       "  </thead>\n",
       "  <tbody>\n",
       "    <tr>\n",
       "      <th>2</th>\n",
       "      <td>Others</td>\n",
       "      <td>325.0</td>\n",
       "      <td>22.5</td>\n",
       "    </tr>\n",
       "    <tr>\n",
       "      <th>3</th>\n",
       "      <td>Rice</td>\n",
       "      <td>325.0</td>\n",
       "      <td>22.5</td>\n",
       "    </tr>\n",
       "    <tr>\n",
       "      <th>4</th>\n",
       "      <td>Beans</td>\n",
       "      <td>450.0</td>\n",
       "      <td>22.5</td>\n",
       "    </tr>\n",
       "    <tr>\n",
       "      <th>7</th>\n",
       "      <td>facewash</td>\n",
       "      <td>300.0</td>\n",
       "      <td>22.5</td>\n",
       "    </tr>\n",
       "    <tr>\n",
       "      <th>8</th>\n",
       "      <td>Shampoo</td>\n",
       "      <td>325.0</td>\n",
       "      <td>60.0</td>\n",
       "    </tr>\n",
       "    <tr>\n",
       "      <th>9</th>\n",
       "      <td>Sugar</td>\n",
       "      <td>200.0</td>\n",
       "      <td>30.0</td>\n",
       "    </tr>\n",
       "  </tbody>\n",
       "</table>\n",
       "</div>"
      ],
      "text/plain": [
       "    product  price  quantity\n",
       "2    Others  325.0      22.5\n",
       "3      Rice  325.0      22.5\n",
       "4     Beans  450.0      22.5\n",
       "7  facewash  300.0      22.5\n",
       "8   Shampoo  325.0      60.0\n",
       "9     Sugar  200.0      30.0"
      ]
     },
     "execution_count": 109,
     "metadata": {},
     "output_type": "execute_result"
    }
   ],
   "source": [
    "df[df.quantity>20]"
   ]
  },
  {
   "cell_type": "code",
   "execution_count": null,
   "id": "c68033c7",
   "metadata": {},
   "outputs": [],
   "source": []
  },
  {
   "cell_type": "code",
   "execution_count": null,
   "id": "29657529",
   "metadata": {},
   "outputs": [],
   "source": []
  },
  {
   "cell_type": "markdown",
   "id": "6f849296",
   "metadata": {},
   "source": [
    "# 13 feb monday"
   ]
  },
  {
   "cell_type": "code",
   "execution_count": 32,
   "id": "ee7d5b8a",
   "metadata": {},
   "outputs": [],
   "source": [
    "import numpy as np"
   ]
  },
  {
   "cell_type": "code",
   "execution_count": 33,
   "id": "262793a1",
   "metadata": {},
   "outputs": [],
   "source": [
    "import pandas as pd"
   ]
  },
  {
   "cell_type": "code",
   "execution_count": 52,
   "id": "9389269c",
   "metadata": {},
   "outputs": [],
   "source": [
    "city = ['Gujrat', 'delhi', 'Noida', 'Agra','Dehradun', 'Pune', 'chennai','Bangluru']\n",
    "income = [40000,30000,60000, np.nan, 5600000, np.nan, 67000, np.nan]\n"
   ]
  },
  {
   "cell_type": "code",
   "execution_count": 53,
   "id": "c422df25",
   "metadata": {},
   "outputs": [],
   "source": [
    "df = pd.DataFrame()"
   ]
  },
  {
   "cell_type": "code",
   "execution_count": 54,
   "id": "3d580e3a",
   "metadata": {},
   "outputs": [
    {
     "data": {
      "text/html": [
       "<div>\n",
       "<style scoped>\n",
       "    .dataframe tbody tr th:only-of-type {\n",
       "        vertical-align: middle;\n",
       "    }\n",
       "\n",
       "    .dataframe tbody tr th {\n",
       "        vertical-align: top;\n",
       "    }\n",
       "\n",
       "    .dataframe thead th {\n",
       "        text-align: right;\n",
       "    }\n",
       "</style>\n",
       "<table border=\"1\" class=\"dataframe\">\n",
       "  <thead>\n",
       "    <tr style=\"text-align: right;\">\n",
       "      <th></th>\n",
       "    </tr>\n",
       "  </thead>\n",
       "  <tbody>\n",
       "  </tbody>\n",
       "</table>\n",
       "</div>"
      ],
      "text/plain": [
       "Empty DataFrame\n",
       "Columns: []\n",
       "Index: []"
      ]
     },
     "execution_count": 54,
     "metadata": {},
     "output_type": "execute_result"
    }
   ],
   "source": [
    "df"
   ]
  },
  {
   "cell_type": "code",
   "execution_count": 55,
   "id": "9cfa716c",
   "metadata": {},
   "outputs": [],
   "source": [
    "df['City'] = city\n",
    "df['income'] = income"
   ]
  },
  {
   "cell_type": "code",
   "execution_count": 56,
   "id": "94964275",
   "metadata": {},
   "outputs": [
    {
     "data": {
      "text/html": [
       "<div>\n",
       "<style scoped>\n",
       "    .dataframe tbody tr th:only-of-type {\n",
       "        vertical-align: middle;\n",
       "    }\n",
       "\n",
       "    .dataframe tbody tr th {\n",
       "        vertical-align: top;\n",
       "    }\n",
       "\n",
       "    .dataframe thead th {\n",
       "        text-align: right;\n",
       "    }\n",
       "</style>\n",
       "<table border=\"1\" class=\"dataframe\">\n",
       "  <thead>\n",
       "    <tr style=\"text-align: right;\">\n",
       "      <th></th>\n",
       "      <th>City</th>\n",
       "      <th>income</th>\n",
       "    </tr>\n",
       "  </thead>\n",
       "  <tbody>\n",
       "    <tr>\n",
       "      <th>0</th>\n",
       "      <td>Gujrat</td>\n",
       "      <td>40000.0</td>\n",
       "    </tr>\n",
       "    <tr>\n",
       "      <th>1</th>\n",
       "      <td>delhi</td>\n",
       "      <td>30000.0</td>\n",
       "    </tr>\n",
       "    <tr>\n",
       "      <th>2</th>\n",
       "      <td>Noida</td>\n",
       "      <td>60000.0</td>\n",
       "    </tr>\n",
       "    <tr>\n",
       "      <th>3</th>\n",
       "      <td>Agra</td>\n",
       "      <td>NaN</td>\n",
       "    </tr>\n",
       "    <tr>\n",
       "      <th>4</th>\n",
       "      <td>Dehradun</td>\n",
       "      <td>5600000.0</td>\n",
       "    </tr>\n",
       "    <tr>\n",
       "      <th>5</th>\n",
       "      <td>Pune</td>\n",
       "      <td>NaN</td>\n",
       "    </tr>\n",
       "    <tr>\n",
       "      <th>6</th>\n",
       "      <td>chennai</td>\n",
       "      <td>67000.0</td>\n",
       "    </tr>\n",
       "    <tr>\n",
       "      <th>7</th>\n",
       "      <td>Bangluru</td>\n",
       "      <td>NaN</td>\n",
       "    </tr>\n",
       "  </tbody>\n",
       "</table>\n",
       "</div>"
      ],
      "text/plain": [
       "       City     income\n",
       "0    Gujrat    40000.0\n",
       "1     delhi    30000.0\n",
       "2     Noida    60000.0\n",
       "3      Agra        NaN\n",
       "4  Dehradun  5600000.0\n",
       "5      Pune        NaN\n",
       "6   chennai    67000.0\n",
       "7  Bangluru        NaN"
      ]
     },
     "execution_count": 56,
     "metadata": {},
     "output_type": "execute_result"
    }
   ],
   "source": [
    "df"
   ]
  },
  {
   "cell_type": "code",
   "execution_count": 57,
   "id": "c4008ef0",
   "metadata": {},
   "outputs": [
    {
     "data": {
      "text/plain": [
       "City      0\n",
       "income    3\n",
       "dtype: int64"
      ]
     },
     "execution_count": 57,
     "metadata": {},
     "output_type": "execute_result"
    }
   ],
   "source": [
    "df.isnull().sum()"
   ]
  },
  {
   "cell_type": "code",
   "execution_count": 58,
   "id": "d56c6a0c",
   "metadata": {},
   "outputs": [
    {
     "data": {
      "text/plain": [
       "1159400.0"
      ]
     },
     "execution_count": 58,
     "metadata": {},
     "output_type": "execute_result"
    }
   ],
   "source": [
    "df['income'].mean()"
   ]
  },
  {
   "cell_type": "code",
   "execution_count": 59,
   "id": "6f34ccb5",
   "metadata": {},
   "outputs": [],
   "source": [
    "df['income'] = df['income'].fillna(df['income'].mean())"
   ]
  },
  {
   "cell_type": "code",
   "execution_count": 60,
   "id": "f26ead60",
   "metadata": {},
   "outputs": [
    {
     "data": {
      "text/html": [
       "<div>\n",
       "<style scoped>\n",
       "    .dataframe tbody tr th:only-of-type {\n",
       "        vertical-align: middle;\n",
       "    }\n",
       "\n",
       "    .dataframe tbody tr th {\n",
       "        vertical-align: top;\n",
       "    }\n",
       "\n",
       "    .dataframe thead th {\n",
       "        text-align: right;\n",
       "    }\n",
       "</style>\n",
       "<table border=\"1\" class=\"dataframe\">\n",
       "  <thead>\n",
       "    <tr style=\"text-align: right;\">\n",
       "      <th></th>\n",
       "      <th>City</th>\n",
       "      <th>income</th>\n",
       "    </tr>\n",
       "  </thead>\n",
       "  <tbody>\n",
       "    <tr>\n",
       "      <th>0</th>\n",
       "      <td>Gujrat</td>\n",
       "      <td>40000.0</td>\n",
       "    </tr>\n",
       "    <tr>\n",
       "      <th>1</th>\n",
       "      <td>delhi</td>\n",
       "      <td>30000.0</td>\n",
       "    </tr>\n",
       "    <tr>\n",
       "      <th>2</th>\n",
       "      <td>Noida</td>\n",
       "      <td>60000.0</td>\n",
       "    </tr>\n",
       "    <tr>\n",
       "      <th>3</th>\n",
       "      <td>Agra</td>\n",
       "      <td>1159400.0</td>\n",
       "    </tr>\n",
       "    <tr>\n",
       "      <th>4</th>\n",
       "      <td>Dehradun</td>\n",
       "      <td>5600000.0</td>\n",
       "    </tr>\n",
       "    <tr>\n",
       "      <th>5</th>\n",
       "      <td>Pune</td>\n",
       "      <td>1159400.0</td>\n",
       "    </tr>\n",
       "    <tr>\n",
       "      <th>6</th>\n",
       "      <td>chennai</td>\n",
       "      <td>67000.0</td>\n",
       "    </tr>\n",
       "    <tr>\n",
       "      <th>7</th>\n",
       "      <td>Bangluru</td>\n",
       "      <td>1159400.0</td>\n",
       "    </tr>\n",
       "  </tbody>\n",
       "</table>\n",
       "</div>"
      ],
      "text/plain": [
       "       City     income\n",
       "0    Gujrat    40000.0\n",
       "1     delhi    30000.0\n",
       "2     Noida    60000.0\n",
       "3      Agra  1159400.0\n",
       "4  Dehradun  5600000.0\n",
       "5      Pune  1159400.0\n",
       "6   chennai    67000.0\n",
       "7  Bangluru  1159400.0"
      ]
     },
     "execution_count": 60,
     "metadata": {},
     "output_type": "execute_result"
    }
   ],
   "source": [
    "df"
   ]
  },
  {
   "cell_type": "code",
   "execution_count": 61,
   "id": "b3b523be",
   "metadata": {},
   "outputs": [
    {
     "data": {
      "text/plain": [
       "1159400.0"
      ]
     },
     "execution_count": 61,
     "metadata": {},
     "output_type": "execute_result"
    }
   ],
   "source": [
    "df.income.mean()"
   ]
  },
  {
   "cell_type": "code",
   "execution_count": 63,
   "id": "0233d33a",
   "metadata": {},
   "outputs": [
    {
     "data": {
      "text/html": [
       "<div>\n",
       "<style scoped>\n",
       "    .dataframe tbody tr th:only-of-type {\n",
       "        vertical-align: middle;\n",
       "    }\n",
       "\n",
       "    .dataframe tbody tr th {\n",
       "        vertical-align: top;\n",
       "    }\n",
       "\n",
       "    .dataframe thead th {\n",
       "        text-align: right;\n",
       "    }\n",
       "</style>\n",
       "<table border=\"1\" class=\"dataframe\">\n",
       "  <thead>\n",
       "    <tr style=\"text-align: right;\">\n",
       "      <th></th>\n",
       "      <th>City</th>\n",
       "      <th>income</th>\n",
       "    </tr>\n",
       "  </thead>\n",
       "  <tbody>\n",
       "    <tr>\n",
       "      <th>4</th>\n",
       "      <td>Dehradun</td>\n",
       "      <td>5600000.0</td>\n",
       "    </tr>\n",
       "  </tbody>\n",
       "</table>\n",
       "</div>"
      ],
      "text/plain": [
       "       City     income\n",
       "4  Dehradun  5600000.0"
      ]
     },
     "execution_count": 63,
     "metadata": {},
     "output_type": "execute_result"
    }
   ],
   "source": [
    "df[df.income > df.income.mean()]"
   ]
  },
  {
   "cell_type": "code",
   "execution_count": 64,
   "id": "02285974",
   "metadata": {},
   "outputs": [
    {
     "data": {
      "text/html": [
       "<div>\n",
       "<style scoped>\n",
       "    .dataframe tbody tr th:only-of-type {\n",
       "        vertical-align: middle;\n",
       "    }\n",
       "\n",
       "    .dataframe tbody tr th {\n",
       "        vertical-align: top;\n",
       "    }\n",
       "\n",
       "    .dataframe thead th {\n",
       "        text-align: right;\n",
       "    }\n",
       "</style>\n",
       "<table border=\"1\" class=\"dataframe\">\n",
       "  <thead>\n",
       "    <tr style=\"text-align: right;\">\n",
       "      <th></th>\n",
       "      <th>City</th>\n",
       "      <th>income</th>\n",
       "    </tr>\n",
       "  </thead>\n",
       "  <tbody>\n",
       "    <tr>\n",
       "      <th>0</th>\n",
       "      <td>Gujrat</td>\n",
       "      <td>40000.0</td>\n",
       "    </tr>\n",
       "    <tr>\n",
       "      <th>1</th>\n",
       "      <td>delhi</td>\n",
       "      <td>30000.0</td>\n",
       "    </tr>\n",
       "    <tr>\n",
       "      <th>2</th>\n",
       "      <td>Noida</td>\n",
       "      <td>60000.0</td>\n",
       "    </tr>\n",
       "    <tr>\n",
       "      <th>3</th>\n",
       "      <td>Agra</td>\n",
       "      <td>1159400.0</td>\n",
       "    </tr>\n",
       "    <tr>\n",
       "      <th>4</th>\n",
       "      <td>Dehradun</td>\n",
       "      <td>5600000.0</td>\n",
       "    </tr>\n",
       "    <tr>\n",
       "      <th>5</th>\n",
       "      <td>Pune</td>\n",
       "      <td>1159400.0</td>\n",
       "    </tr>\n",
       "    <tr>\n",
       "      <th>6</th>\n",
       "      <td>chennai</td>\n",
       "      <td>67000.0</td>\n",
       "    </tr>\n",
       "    <tr>\n",
       "      <th>7</th>\n",
       "      <td>Bangluru</td>\n",
       "      <td>1159400.0</td>\n",
       "    </tr>\n",
       "  </tbody>\n",
       "</table>\n",
       "</div>"
      ],
      "text/plain": [
       "       City     income\n",
       "0    Gujrat    40000.0\n",
       "1     delhi    30000.0\n",
       "2     Noida    60000.0\n",
       "3      Agra  1159400.0\n",
       "4  Dehradun  5600000.0\n",
       "5      Pune  1159400.0\n",
       "6   chennai    67000.0\n",
       "7  Bangluru  1159400.0"
      ]
     },
     "execution_count": 64,
     "metadata": {},
     "output_type": "execute_result"
    }
   ],
   "source": [
    "df"
   ]
  },
  {
   "cell_type": "code",
   "execution_count": 77,
   "id": "124c20dd",
   "metadata": {},
   "outputs": [],
   "source": [
    "state = ['Hariyana','Delhi','U.P','U.P','Uttarakhand','Maharastra','Tamilnadu','A.P']"
   ]
  },
  {
   "cell_type": "code",
   "execution_count": 78,
   "id": "9fcdae56",
   "metadata": {},
   "outputs": [],
   "source": [
    "df['state'] = state"
   ]
  },
  {
   "cell_type": "code",
   "execution_count": 79,
   "id": "fa03715c",
   "metadata": {},
   "outputs": [],
   "source": [
    "df['Zip code'] = np.random.randint(40000, 49999,8)"
   ]
  },
  {
   "cell_type": "code",
   "execution_count": 80,
   "id": "d5e3697b",
   "metadata": {},
   "outputs": [
    {
     "data": {
      "text/html": [
       "<div>\n",
       "<style scoped>\n",
       "    .dataframe tbody tr th:only-of-type {\n",
       "        vertical-align: middle;\n",
       "    }\n",
       "\n",
       "    .dataframe tbody tr th {\n",
       "        vertical-align: top;\n",
       "    }\n",
       "\n",
       "    .dataframe thead th {\n",
       "        text-align: right;\n",
       "    }\n",
       "</style>\n",
       "<table border=\"1\" class=\"dataframe\">\n",
       "  <thead>\n",
       "    <tr style=\"text-align: right;\">\n",
       "      <th></th>\n",
       "      <th>City</th>\n",
       "      <th>income</th>\n",
       "      <th>state</th>\n",
       "      <th>Zip code</th>\n",
       "      <th>Population</th>\n",
       "    </tr>\n",
       "  </thead>\n",
       "  <tbody>\n",
       "    <tr>\n",
       "      <th>0</th>\n",
       "      <td>Gujrat</td>\n",
       "      <td>40000.0</td>\n",
       "      <td>Hariyana</td>\n",
       "      <td>47341</td>\n",
       "      <td>650139</td>\n",
       "    </tr>\n",
       "    <tr>\n",
       "      <th>1</th>\n",
       "      <td>delhi</td>\n",
       "      <td>30000.0</td>\n",
       "      <td>Delhi</td>\n",
       "      <td>41475</td>\n",
       "      <td>719605</td>\n",
       "    </tr>\n",
       "    <tr>\n",
       "      <th>2</th>\n",
       "      <td>Noida</td>\n",
       "      <td>60000.0</td>\n",
       "      <td>U.P</td>\n",
       "      <td>42039</td>\n",
       "      <td>916232</td>\n",
       "    </tr>\n",
       "    <tr>\n",
       "      <th>3</th>\n",
       "      <td>Agra</td>\n",
       "      <td>1159400.0</td>\n",
       "      <td>U.P</td>\n",
       "      <td>46784</td>\n",
       "      <td>771095</td>\n",
       "    </tr>\n",
       "    <tr>\n",
       "      <th>4</th>\n",
       "      <td>Dehradun</td>\n",
       "      <td>5600000.0</td>\n",
       "      <td>Uttarakhand</td>\n",
       "      <td>41823</td>\n",
       "      <td>916130</td>\n",
       "    </tr>\n",
       "    <tr>\n",
       "      <th>5</th>\n",
       "      <td>Pune</td>\n",
       "      <td>1159400.0</td>\n",
       "      <td>Maharastra</td>\n",
       "      <td>44739</td>\n",
       "      <td>954721</td>\n",
       "    </tr>\n",
       "    <tr>\n",
       "      <th>6</th>\n",
       "      <td>chennai</td>\n",
       "      <td>67000.0</td>\n",
       "      <td>Tamilnadu</td>\n",
       "      <td>44380</td>\n",
       "      <td>642194</td>\n",
       "    </tr>\n",
       "    <tr>\n",
       "      <th>7</th>\n",
       "      <td>Bangluru</td>\n",
       "      <td>1159400.0</td>\n",
       "      <td>A.P</td>\n",
       "      <td>49109</td>\n",
       "      <td>856849</td>\n",
       "    </tr>\n",
       "  </tbody>\n",
       "</table>\n",
       "</div>"
      ],
      "text/plain": [
       "       City     income        state  Zip code  Population\n",
       "0    Gujrat    40000.0     Hariyana     47341      650139\n",
       "1     delhi    30000.0        Delhi     41475      719605\n",
       "2     Noida    60000.0          U.P     42039      916232\n",
       "3      Agra  1159400.0          U.P     46784      771095\n",
       "4  Dehradun  5600000.0  Uttarakhand     41823      916130\n",
       "5      Pune  1159400.0   Maharastra     44739      954721\n",
       "6   chennai    67000.0    Tamilnadu     44380      642194\n",
       "7  Bangluru  1159400.0          A.P     49109      856849"
      ]
     },
     "execution_count": 80,
     "metadata": {},
     "output_type": "execute_result"
    }
   ],
   "source": [
    "df"
   ]
  },
  {
   "cell_type": "code",
   "execution_count": 81,
   "id": "59a5bb1d",
   "metadata": {},
   "outputs": [],
   "source": [
    "df['Population'] = np.random.randint(600000,1000000, 8)"
   ]
  },
  {
   "cell_type": "code",
   "execution_count": 82,
   "id": "1b20301f",
   "metadata": {},
   "outputs": [
    {
     "data": {
      "text/html": [
       "<div>\n",
       "<style scoped>\n",
       "    .dataframe tbody tr th:only-of-type {\n",
       "        vertical-align: middle;\n",
       "    }\n",
       "\n",
       "    .dataframe tbody tr th {\n",
       "        vertical-align: top;\n",
       "    }\n",
       "\n",
       "    .dataframe thead th {\n",
       "        text-align: right;\n",
       "    }\n",
       "</style>\n",
       "<table border=\"1\" class=\"dataframe\">\n",
       "  <thead>\n",
       "    <tr style=\"text-align: right;\">\n",
       "      <th></th>\n",
       "      <th>City</th>\n",
       "      <th>income</th>\n",
       "      <th>state</th>\n",
       "      <th>Zip code</th>\n",
       "      <th>Population</th>\n",
       "    </tr>\n",
       "  </thead>\n",
       "  <tbody>\n",
       "    <tr>\n",
       "      <th>0</th>\n",
       "      <td>Gujrat</td>\n",
       "      <td>40000.0</td>\n",
       "      <td>Hariyana</td>\n",
       "      <td>47341</td>\n",
       "      <td>906399</td>\n",
       "    </tr>\n",
       "    <tr>\n",
       "      <th>1</th>\n",
       "      <td>delhi</td>\n",
       "      <td>30000.0</td>\n",
       "      <td>Delhi</td>\n",
       "      <td>41475</td>\n",
       "      <td>638686</td>\n",
       "    </tr>\n",
       "    <tr>\n",
       "      <th>2</th>\n",
       "      <td>Noida</td>\n",
       "      <td>60000.0</td>\n",
       "      <td>U.P</td>\n",
       "      <td>42039</td>\n",
       "      <td>742384</td>\n",
       "    </tr>\n",
       "    <tr>\n",
       "      <th>3</th>\n",
       "      <td>Agra</td>\n",
       "      <td>1159400.0</td>\n",
       "      <td>U.P</td>\n",
       "      <td>46784</td>\n",
       "      <td>984409</td>\n",
       "    </tr>\n",
       "    <tr>\n",
       "      <th>4</th>\n",
       "      <td>Dehradun</td>\n",
       "      <td>5600000.0</td>\n",
       "      <td>Uttarakhand</td>\n",
       "      <td>41823</td>\n",
       "      <td>941887</td>\n",
       "    </tr>\n",
       "    <tr>\n",
       "      <th>5</th>\n",
       "      <td>Pune</td>\n",
       "      <td>1159400.0</td>\n",
       "      <td>Maharastra</td>\n",
       "      <td>44739</td>\n",
       "      <td>956153</td>\n",
       "    </tr>\n",
       "    <tr>\n",
       "      <th>6</th>\n",
       "      <td>chennai</td>\n",
       "      <td>67000.0</td>\n",
       "      <td>Tamilnadu</td>\n",
       "      <td>44380</td>\n",
       "      <td>829236</td>\n",
       "    </tr>\n",
       "    <tr>\n",
       "      <th>7</th>\n",
       "      <td>Bangluru</td>\n",
       "      <td>1159400.0</td>\n",
       "      <td>A.P</td>\n",
       "      <td>49109</td>\n",
       "      <td>668632</td>\n",
       "    </tr>\n",
       "  </tbody>\n",
       "</table>\n",
       "</div>"
      ],
      "text/plain": [
       "       City     income        state  Zip code  Population\n",
       "0    Gujrat    40000.0     Hariyana     47341      906399\n",
       "1     delhi    30000.0        Delhi     41475      638686\n",
       "2     Noida    60000.0          U.P     42039      742384\n",
       "3      Agra  1159400.0          U.P     46784      984409\n",
       "4  Dehradun  5600000.0  Uttarakhand     41823      941887\n",
       "5      Pune  1159400.0   Maharastra     44739      956153\n",
       "6   chennai    67000.0    Tamilnadu     44380      829236\n",
       "7  Bangluru  1159400.0          A.P     49109      668632"
      ]
     },
     "execution_count": 82,
     "metadata": {},
     "output_type": "execute_result"
    }
   ],
   "source": [
    "df"
   ]
  },
  {
   "cell_type": "code",
   "execution_count": 83,
   "id": "859f7dce",
   "metadata": {},
   "outputs": [
    {
     "data": {
      "text/html": [
       "<div>\n",
       "<style scoped>\n",
       "    .dataframe tbody tr th:only-of-type {\n",
       "        vertical-align: middle;\n",
       "    }\n",
       "\n",
       "    .dataframe tbody tr th {\n",
       "        vertical-align: top;\n",
       "    }\n",
       "\n",
       "    .dataframe thead th {\n",
       "        text-align: right;\n",
       "    }\n",
       "</style>\n",
       "<table border=\"1\" class=\"dataframe\">\n",
       "  <thead>\n",
       "    <tr style=\"text-align: right;\">\n",
       "      <th></th>\n",
       "      <th>City</th>\n",
       "      <th>income</th>\n",
       "      <th>state</th>\n",
       "      <th>Zip code</th>\n",
       "      <th>Population</th>\n",
       "    </tr>\n",
       "  </thead>\n",
       "  <tbody>\n",
       "    <tr>\n",
       "      <th>2</th>\n",
       "      <td>Noida</td>\n",
       "      <td>60000.0</td>\n",
       "      <td>U.P</td>\n",
       "      <td>42039</td>\n",
       "      <td>742384</td>\n",
       "    </tr>\n",
       "    <tr>\n",
       "      <th>3</th>\n",
       "      <td>Agra</td>\n",
       "      <td>1159400.0</td>\n",
       "      <td>U.P</td>\n",
       "      <td>46784</td>\n",
       "      <td>984409</td>\n",
       "    </tr>\n",
       "  </tbody>\n",
       "</table>\n",
       "</div>"
      ],
      "text/plain": [
       "    City     income state  Zip code  Population\n",
       "2  Noida    60000.0   U.P     42039      742384\n",
       "3   Agra  1159400.0   U.P     46784      984409"
      ]
     },
     "execution_count": 83,
     "metadata": {},
     "output_type": "execute_result"
    }
   ],
   "source": [
    "df[df['state'] == 'U.P']"
   ]
  },
  {
   "cell_type": "code",
   "execution_count": null,
   "id": "d9561064",
   "metadata": {},
   "outputs": [],
   "source": []
  },
  {
   "cell_type": "code",
   "execution_count": null,
   "id": "bac533cf",
   "metadata": {},
   "outputs": [],
   "source": []
  },
  {
   "cell_type": "markdown",
   "id": "3fa379e4",
   "metadata": {},
   "source": [
    "## .iloc()"
   ]
  },
  {
   "cell_type": "code",
   "execution_count": 84,
   "id": "913537a2",
   "metadata": {},
   "outputs": [
    {
     "data": {
      "text/html": [
       "<div>\n",
       "<style scoped>\n",
       "    .dataframe tbody tr th:only-of-type {\n",
       "        vertical-align: middle;\n",
       "    }\n",
       "\n",
       "    .dataframe tbody tr th {\n",
       "        vertical-align: top;\n",
       "    }\n",
       "\n",
       "    .dataframe thead th {\n",
       "        text-align: right;\n",
       "    }\n",
       "</style>\n",
       "<table border=\"1\" class=\"dataframe\">\n",
       "  <thead>\n",
       "    <tr style=\"text-align: right;\">\n",
       "      <th></th>\n",
       "      <th>City</th>\n",
       "      <th>income</th>\n",
       "      <th>state</th>\n",
       "      <th>Zip code</th>\n",
       "      <th>Population</th>\n",
       "    </tr>\n",
       "  </thead>\n",
       "  <tbody>\n",
       "    <tr>\n",
       "      <th>0</th>\n",
       "      <td>Gujrat</td>\n",
       "      <td>40000.0</td>\n",
       "      <td>Hariyana</td>\n",
       "      <td>47341</td>\n",
       "      <td>906399</td>\n",
       "    </tr>\n",
       "    <tr>\n",
       "      <th>1</th>\n",
       "      <td>delhi</td>\n",
       "      <td>30000.0</td>\n",
       "      <td>Delhi</td>\n",
       "      <td>41475</td>\n",
       "      <td>638686</td>\n",
       "    </tr>\n",
       "    <tr>\n",
       "      <th>2</th>\n",
       "      <td>Noida</td>\n",
       "      <td>60000.0</td>\n",
       "      <td>U.P</td>\n",
       "      <td>42039</td>\n",
       "      <td>742384</td>\n",
       "    </tr>\n",
       "    <tr>\n",
       "      <th>3</th>\n",
       "      <td>Agra</td>\n",
       "      <td>1159400.0</td>\n",
       "      <td>U.P</td>\n",
       "      <td>46784</td>\n",
       "      <td>984409</td>\n",
       "    </tr>\n",
       "    <tr>\n",
       "      <th>4</th>\n",
       "      <td>Dehradun</td>\n",
       "      <td>5600000.0</td>\n",
       "      <td>Uttarakhand</td>\n",
       "      <td>41823</td>\n",
       "      <td>941887</td>\n",
       "    </tr>\n",
       "    <tr>\n",
       "      <th>5</th>\n",
       "      <td>Pune</td>\n",
       "      <td>1159400.0</td>\n",
       "      <td>Maharastra</td>\n",
       "      <td>44739</td>\n",
       "      <td>956153</td>\n",
       "    </tr>\n",
       "    <tr>\n",
       "      <th>6</th>\n",
       "      <td>chennai</td>\n",
       "      <td>67000.0</td>\n",
       "      <td>Tamilnadu</td>\n",
       "      <td>44380</td>\n",
       "      <td>829236</td>\n",
       "    </tr>\n",
       "    <tr>\n",
       "      <th>7</th>\n",
       "      <td>Bangluru</td>\n",
       "      <td>1159400.0</td>\n",
       "      <td>A.P</td>\n",
       "      <td>49109</td>\n",
       "      <td>668632</td>\n",
       "    </tr>\n",
       "  </tbody>\n",
       "</table>\n",
       "</div>"
      ],
      "text/plain": [
       "       City     income        state  Zip code  Population\n",
       "0    Gujrat    40000.0     Hariyana     47341      906399\n",
       "1     delhi    30000.0        Delhi     41475      638686\n",
       "2     Noida    60000.0          U.P     42039      742384\n",
       "3      Agra  1159400.0          U.P     46784      984409\n",
       "4  Dehradun  5600000.0  Uttarakhand     41823      941887\n",
       "5      Pune  1159400.0   Maharastra     44739      956153\n",
       "6   chennai    67000.0    Tamilnadu     44380      829236\n",
       "7  Bangluru  1159400.0          A.P     49109      668632"
      ]
     },
     "execution_count": 84,
     "metadata": {},
     "output_type": "execute_result"
    }
   ],
   "source": [
    "df"
   ]
  },
  {
   "cell_type": "code",
   "execution_count": 85,
   "id": "15e35474",
   "metadata": {},
   "outputs": [
    {
     "data": {
      "text/plain": [
       "(8, 5)"
      ]
     },
     "execution_count": 85,
     "metadata": {},
     "output_type": "execute_result"
    }
   ],
   "source": [
    "df.shape"
   ]
  },
  {
   "cell_type": "code",
   "execution_count": 86,
   "id": "0193ada5",
   "metadata": {},
   "outputs": [
    {
     "data": {
      "text/html": [
       "<div>\n",
       "<style scoped>\n",
       "    .dataframe tbody tr th:only-of-type {\n",
       "        vertical-align: middle;\n",
       "    }\n",
       "\n",
       "    .dataframe tbody tr th {\n",
       "        vertical-align: top;\n",
       "    }\n",
       "\n",
       "    .dataframe thead th {\n",
       "        text-align: right;\n",
       "    }\n",
       "</style>\n",
       "<table border=\"1\" class=\"dataframe\">\n",
       "  <thead>\n",
       "    <tr style=\"text-align: right;\">\n",
       "      <th></th>\n",
       "      <th>City</th>\n",
       "      <th>income</th>\n",
       "      <th>state</th>\n",
       "      <th>Zip code</th>\n",
       "      <th>Population</th>\n",
       "    </tr>\n",
       "  </thead>\n",
       "  <tbody>\n",
       "    <tr>\n",
       "      <th>1</th>\n",
       "      <td>delhi</td>\n",
       "      <td>30000.0</td>\n",
       "      <td>Delhi</td>\n",
       "      <td>41475</td>\n",
       "      <td>638686</td>\n",
       "    </tr>\n",
       "    <tr>\n",
       "      <th>2</th>\n",
       "      <td>Noida</td>\n",
       "      <td>60000.0</td>\n",
       "      <td>U.P</td>\n",
       "      <td>42039</td>\n",
       "      <td>742384</td>\n",
       "    </tr>\n",
       "    <tr>\n",
       "      <th>3</th>\n",
       "      <td>Agra</td>\n",
       "      <td>1159400.0</td>\n",
       "      <td>U.P</td>\n",
       "      <td>46784</td>\n",
       "      <td>984409</td>\n",
       "    </tr>\n",
       "    <tr>\n",
       "      <th>4</th>\n",
       "      <td>Dehradun</td>\n",
       "      <td>5600000.0</td>\n",
       "      <td>Uttarakhand</td>\n",
       "      <td>41823</td>\n",
       "      <td>941887</td>\n",
       "    </tr>\n",
       "    <tr>\n",
       "      <th>5</th>\n",
       "      <td>Pune</td>\n",
       "      <td>1159400.0</td>\n",
       "      <td>Maharastra</td>\n",
       "      <td>44739</td>\n",
       "      <td>956153</td>\n",
       "    </tr>\n",
       "  </tbody>\n",
       "</table>\n",
       "</div>"
      ],
      "text/plain": [
       "       City     income        state  Zip code  Population\n",
       "1     delhi    30000.0        Delhi     41475      638686\n",
       "2     Noida    60000.0          U.P     42039      742384\n",
       "3      Agra  1159400.0          U.P     46784      984409\n",
       "4  Dehradun  5600000.0  Uttarakhand     41823      941887\n",
       "5      Pune  1159400.0   Maharastra     44739      956153"
      ]
     },
     "execution_count": 86,
     "metadata": {},
     "output_type": "execute_result"
    }
   ],
   "source": [
    "df.iloc[1:6]"
   ]
  },
  {
   "cell_type": "code",
   "execution_count": 87,
   "id": "30251a84",
   "metadata": {},
   "outputs": [
    {
     "data": {
      "text/html": [
       "<div>\n",
       "<style scoped>\n",
       "    .dataframe tbody tr th:only-of-type {\n",
       "        vertical-align: middle;\n",
       "    }\n",
       "\n",
       "    .dataframe tbody tr th {\n",
       "        vertical-align: top;\n",
       "    }\n",
       "\n",
       "    .dataframe thead th {\n",
       "        text-align: right;\n",
       "    }\n",
       "</style>\n",
       "<table border=\"1\" class=\"dataframe\">\n",
       "  <thead>\n",
       "    <tr style=\"text-align: right;\">\n",
       "      <th></th>\n",
       "      <th>City</th>\n",
       "      <th>income</th>\n",
       "      <th>state</th>\n",
       "      <th>Zip code</th>\n",
       "      <th>Population</th>\n",
       "    </tr>\n",
       "  </thead>\n",
       "  <tbody>\n",
       "    <tr>\n",
       "      <th>5</th>\n",
       "      <td>Pune</td>\n",
       "      <td>1159400.0</td>\n",
       "      <td>Maharastra</td>\n",
       "      <td>44739</td>\n",
       "      <td>956153</td>\n",
       "    </tr>\n",
       "    <tr>\n",
       "      <th>6</th>\n",
       "      <td>chennai</td>\n",
       "      <td>67000.0</td>\n",
       "      <td>Tamilnadu</td>\n",
       "      <td>44380</td>\n",
       "      <td>829236</td>\n",
       "    </tr>\n",
       "    <tr>\n",
       "      <th>7</th>\n",
       "      <td>Bangluru</td>\n",
       "      <td>1159400.0</td>\n",
       "      <td>A.P</td>\n",
       "      <td>49109</td>\n",
       "      <td>668632</td>\n",
       "    </tr>\n",
       "  </tbody>\n",
       "</table>\n",
       "</div>"
      ],
      "text/plain": [
       "       City     income       state  Zip code  Population\n",
       "5      Pune  1159400.0  Maharastra     44739      956153\n",
       "6   chennai    67000.0   Tamilnadu     44380      829236\n",
       "7  Bangluru  1159400.0         A.P     49109      668632"
      ]
     },
     "execution_count": 87,
     "metadata": {},
     "output_type": "execute_result"
    }
   ],
   "source": [
    "df.iloc[5:,]"
   ]
  },
  {
   "cell_type": "code",
   "execution_count": 91,
   "id": "c3c3bdda",
   "metadata": {},
   "outputs": [
    {
     "data": {
      "text/html": [
       "<div>\n",
       "<style scoped>\n",
       "    .dataframe tbody tr th:only-of-type {\n",
       "        vertical-align: middle;\n",
       "    }\n",
       "\n",
       "    .dataframe tbody tr th {\n",
       "        vertical-align: top;\n",
       "    }\n",
       "\n",
       "    .dataframe thead th {\n",
       "        text-align: right;\n",
       "    }\n",
       "</style>\n",
       "<table border=\"1\" class=\"dataframe\">\n",
       "  <thead>\n",
       "    <tr style=\"text-align: right;\">\n",
       "      <th></th>\n",
       "      <th>City</th>\n",
       "      <th>income</th>\n",
       "      <th>state</th>\n",
       "      <th>Zip code</th>\n",
       "      <th>Population</th>\n",
       "    </tr>\n",
       "  </thead>\n",
       "  <tbody>\n",
       "    <tr>\n",
       "      <th>0</th>\n",
       "      <td>Gujrat</td>\n",
       "      <td>40000.0</td>\n",
       "      <td>Hariyana</td>\n",
       "      <td>47341</td>\n",
       "      <td>906399</td>\n",
       "    </tr>\n",
       "    <tr>\n",
       "      <th>1</th>\n",
       "      <td>delhi</td>\n",
       "      <td>30000.0</td>\n",
       "      <td>Delhi</td>\n",
       "      <td>41475</td>\n",
       "      <td>638686</td>\n",
       "    </tr>\n",
       "    <tr>\n",
       "      <th>2</th>\n",
       "      <td>Noida</td>\n",
       "      <td>60000.0</td>\n",
       "      <td>U.P</td>\n",
       "      <td>42039</td>\n",
       "      <td>742384</td>\n",
       "    </tr>\n",
       "    <tr>\n",
       "      <th>3</th>\n",
       "      <td>Agra</td>\n",
       "      <td>1159400.0</td>\n",
       "      <td>U.P</td>\n",
       "      <td>46784</td>\n",
       "      <td>984409</td>\n",
       "    </tr>\n",
       "    <tr>\n",
       "      <th>4</th>\n",
       "      <td>Dehradun</td>\n",
       "      <td>5600000.0</td>\n",
       "      <td>Uttarakhand</td>\n",
       "      <td>41823</td>\n",
       "      <td>941887</td>\n",
       "    </tr>\n",
       "  </tbody>\n",
       "</table>\n",
       "</div>"
      ],
      "text/plain": [
       "       City     income        state  Zip code  Population\n",
       "0    Gujrat    40000.0     Hariyana     47341      906399\n",
       "1     delhi    30000.0        Delhi     41475      638686\n",
       "2     Noida    60000.0          U.P     42039      742384\n",
       "3      Agra  1159400.0          U.P     46784      984409\n",
       "4  Dehradun  5600000.0  Uttarakhand     41823      941887"
      ]
     },
     "execution_count": 91,
     "metadata": {},
     "output_type": "execute_result"
    }
   ],
   "source": [
    "df.iloc[:5]"
   ]
  },
  {
   "cell_type": "code",
   "execution_count": 93,
   "id": "3827da27",
   "metadata": {},
   "outputs": [
    {
     "data": {
      "text/html": [
       "<div>\n",
       "<style scoped>\n",
       "    .dataframe tbody tr th:only-of-type {\n",
       "        vertical-align: middle;\n",
       "    }\n",
       "\n",
       "    .dataframe tbody tr th {\n",
       "        vertical-align: top;\n",
       "    }\n",
       "\n",
       "    .dataframe thead th {\n",
       "        text-align: right;\n",
       "    }\n",
       "</style>\n",
       "<table border=\"1\" class=\"dataframe\">\n",
       "  <thead>\n",
       "    <tr style=\"text-align: right;\">\n",
       "      <th></th>\n",
       "      <th>City</th>\n",
       "      <th>income</th>\n",
       "      <th>state</th>\n",
       "    </tr>\n",
       "  </thead>\n",
       "  <tbody>\n",
       "    <tr>\n",
       "      <th>0</th>\n",
       "      <td>Gujrat</td>\n",
       "      <td>40000.0</td>\n",
       "      <td>Hariyana</td>\n",
       "    </tr>\n",
       "    <tr>\n",
       "      <th>1</th>\n",
       "      <td>delhi</td>\n",
       "      <td>30000.0</td>\n",
       "      <td>Delhi</td>\n",
       "    </tr>\n",
       "    <tr>\n",
       "      <th>2</th>\n",
       "      <td>Noida</td>\n",
       "      <td>60000.0</td>\n",
       "      <td>U.P</td>\n",
       "    </tr>\n",
       "    <tr>\n",
       "      <th>3</th>\n",
       "      <td>Agra</td>\n",
       "      <td>1159400.0</td>\n",
       "      <td>U.P</td>\n",
       "    </tr>\n",
       "    <tr>\n",
       "      <th>4</th>\n",
       "      <td>Dehradun</td>\n",
       "      <td>5600000.0</td>\n",
       "      <td>Uttarakhand</td>\n",
       "    </tr>\n",
       "    <tr>\n",
       "      <th>5</th>\n",
       "      <td>Pune</td>\n",
       "      <td>1159400.0</td>\n",
       "      <td>Maharastra</td>\n",
       "    </tr>\n",
       "    <tr>\n",
       "      <th>6</th>\n",
       "      <td>chennai</td>\n",
       "      <td>67000.0</td>\n",
       "      <td>Tamilnadu</td>\n",
       "    </tr>\n",
       "    <tr>\n",
       "      <th>7</th>\n",
       "      <td>Bangluru</td>\n",
       "      <td>1159400.0</td>\n",
       "      <td>A.P</td>\n",
       "    </tr>\n",
       "  </tbody>\n",
       "</table>\n",
       "</div>"
      ],
      "text/plain": [
       "       City     income        state\n",
       "0    Gujrat    40000.0     Hariyana\n",
       "1     delhi    30000.0        Delhi\n",
       "2     Noida    60000.0          U.P\n",
       "3      Agra  1159400.0          U.P\n",
       "4  Dehradun  5600000.0  Uttarakhand\n",
       "5      Pune  1159400.0   Maharastra\n",
       "6   chennai    67000.0    Tamilnadu\n",
       "7  Bangluru  1159400.0          A.P"
      ]
     },
     "execution_count": 93,
     "metadata": {},
     "output_type": "execute_result"
    }
   ],
   "source": [
    "df.iloc[:,0:3]"
   ]
  },
  {
   "cell_type": "code",
   "execution_count": 94,
   "id": "5e71359e",
   "metadata": {},
   "outputs": [
    {
     "data": {
      "text/html": [
       "<div>\n",
       "<style scoped>\n",
       "    .dataframe tbody tr th:only-of-type {\n",
       "        vertical-align: middle;\n",
       "    }\n",
       "\n",
       "    .dataframe tbody tr th {\n",
       "        vertical-align: top;\n",
       "    }\n",
       "\n",
       "    .dataframe thead th {\n",
       "        text-align: right;\n",
       "    }\n",
       "</style>\n",
       "<table border=\"1\" class=\"dataframe\">\n",
       "  <thead>\n",
       "    <tr style=\"text-align: right;\">\n",
       "      <th></th>\n",
       "      <th>income</th>\n",
       "      <th>state</th>\n",
       "      <th>Zip code</th>\n",
       "    </tr>\n",
       "  </thead>\n",
       "  <tbody>\n",
       "    <tr>\n",
       "      <th>0</th>\n",
       "      <td>40000.0</td>\n",
       "      <td>Hariyana</td>\n",
       "      <td>47341</td>\n",
       "    </tr>\n",
       "    <tr>\n",
       "      <th>1</th>\n",
       "      <td>30000.0</td>\n",
       "      <td>Delhi</td>\n",
       "      <td>41475</td>\n",
       "    </tr>\n",
       "    <tr>\n",
       "      <th>2</th>\n",
       "      <td>60000.0</td>\n",
       "      <td>U.P</td>\n",
       "      <td>42039</td>\n",
       "    </tr>\n",
       "    <tr>\n",
       "      <th>3</th>\n",
       "      <td>1159400.0</td>\n",
       "      <td>U.P</td>\n",
       "      <td>46784</td>\n",
       "    </tr>\n",
       "    <tr>\n",
       "      <th>4</th>\n",
       "      <td>5600000.0</td>\n",
       "      <td>Uttarakhand</td>\n",
       "      <td>41823</td>\n",
       "    </tr>\n",
       "    <tr>\n",
       "      <th>5</th>\n",
       "      <td>1159400.0</td>\n",
       "      <td>Maharastra</td>\n",
       "      <td>44739</td>\n",
       "    </tr>\n",
       "    <tr>\n",
       "      <th>6</th>\n",
       "      <td>67000.0</td>\n",
       "      <td>Tamilnadu</td>\n",
       "      <td>44380</td>\n",
       "    </tr>\n",
       "    <tr>\n",
       "      <th>7</th>\n",
       "      <td>1159400.0</td>\n",
       "      <td>A.P</td>\n",
       "      <td>49109</td>\n",
       "    </tr>\n",
       "  </tbody>\n",
       "</table>\n",
       "</div>"
      ],
      "text/plain": [
       "      income        state  Zip code\n",
       "0    40000.0     Hariyana     47341\n",
       "1    30000.0        Delhi     41475\n",
       "2    60000.0          U.P     42039\n",
       "3  1159400.0          U.P     46784\n",
       "4  5600000.0  Uttarakhand     41823\n",
       "5  1159400.0   Maharastra     44739\n",
       "6    67000.0    Tamilnadu     44380\n",
       "7  1159400.0          A.P     49109"
      ]
     },
     "execution_count": 94,
     "metadata": {},
     "output_type": "execute_result"
    }
   ],
   "source": [
    "df.iloc[:, 1:4]"
   ]
  },
  {
   "cell_type": "code",
   "execution_count": 95,
   "id": "b67c1b04",
   "metadata": {},
   "outputs": [
    {
     "data": {
      "text/html": [
       "<div>\n",
       "<style scoped>\n",
       "    .dataframe tbody tr th:only-of-type {\n",
       "        vertical-align: middle;\n",
       "    }\n",
       "\n",
       "    .dataframe tbody tr th {\n",
       "        vertical-align: top;\n",
       "    }\n",
       "\n",
       "    .dataframe thead th {\n",
       "        text-align: right;\n",
       "    }\n",
       "</style>\n",
       "<table border=\"1\" class=\"dataframe\">\n",
       "  <thead>\n",
       "    <tr style=\"text-align: right;\">\n",
       "      <th></th>\n",
       "      <th>income</th>\n",
       "      <th>Population</th>\n",
       "    </tr>\n",
       "  </thead>\n",
       "  <tbody>\n",
       "    <tr>\n",
       "      <th>0</th>\n",
       "      <td>40000.0</td>\n",
       "      <td>906399</td>\n",
       "    </tr>\n",
       "    <tr>\n",
       "      <th>1</th>\n",
       "      <td>30000.0</td>\n",
       "      <td>638686</td>\n",
       "    </tr>\n",
       "    <tr>\n",
       "      <th>2</th>\n",
       "      <td>60000.0</td>\n",
       "      <td>742384</td>\n",
       "    </tr>\n",
       "    <tr>\n",
       "      <th>3</th>\n",
       "      <td>1159400.0</td>\n",
       "      <td>984409</td>\n",
       "    </tr>\n",
       "    <tr>\n",
       "      <th>4</th>\n",
       "      <td>5600000.0</td>\n",
       "      <td>941887</td>\n",
       "    </tr>\n",
       "    <tr>\n",
       "      <th>5</th>\n",
       "      <td>1159400.0</td>\n",
       "      <td>956153</td>\n",
       "    </tr>\n",
       "    <tr>\n",
       "      <th>6</th>\n",
       "      <td>67000.0</td>\n",
       "      <td>829236</td>\n",
       "    </tr>\n",
       "    <tr>\n",
       "      <th>7</th>\n",
       "      <td>1159400.0</td>\n",
       "      <td>668632</td>\n",
       "    </tr>\n",
       "  </tbody>\n",
       "</table>\n",
       "</div>"
      ],
      "text/plain": [
       "      income  Population\n",
       "0    40000.0      906399\n",
       "1    30000.0      638686\n",
       "2    60000.0      742384\n",
       "3  1159400.0      984409\n",
       "4  5600000.0      941887\n",
       "5  1159400.0      956153\n",
       "6    67000.0      829236\n",
       "7  1159400.0      668632"
      ]
     },
     "execution_count": 95,
     "metadata": {},
     "output_type": "execute_result"
    }
   ],
   "source": [
    "df.iloc[:, [1,4]]"
   ]
  },
  {
   "cell_type": "code",
   "execution_count": 96,
   "id": "a8db9072",
   "metadata": {},
   "outputs": [
    {
     "data": {
      "text/html": [
       "<div>\n",
       "<style scoped>\n",
       "    .dataframe tbody tr th:only-of-type {\n",
       "        vertical-align: middle;\n",
       "    }\n",
       "\n",
       "    .dataframe tbody tr th {\n",
       "        vertical-align: top;\n",
       "    }\n",
       "\n",
       "    .dataframe thead th {\n",
       "        text-align: right;\n",
       "    }\n",
       "</style>\n",
       "<table border=\"1\" class=\"dataframe\">\n",
       "  <thead>\n",
       "    <tr style=\"text-align: right;\">\n",
       "      <th></th>\n",
       "      <th>City</th>\n",
       "      <th>state</th>\n",
       "    </tr>\n",
       "  </thead>\n",
       "  <tbody>\n",
       "    <tr>\n",
       "      <th>0</th>\n",
       "      <td>Gujrat</td>\n",
       "      <td>Hariyana</td>\n",
       "    </tr>\n",
       "    <tr>\n",
       "      <th>1</th>\n",
       "      <td>delhi</td>\n",
       "      <td>Delhi</td>\n",
       "    </tr>\n",
       "    <tr>\n",
       "      <th>2</th>\n",
       "      <td>Noida</td>\n",
       "      <td>U.P</td>\n",
       "    </tr>\n",
       "    <tr>\n",
       "      <th>3</th>\n",
       "      <td>Agra</td>\n",
       "      <td>U.P</td>\n",
       "    </tr>\n",
       "    <tr>\n",
       "      <th>4</th>\n",
       "      <td>Dehradun</td>\n",
       "      <td>Uttarakhand</td>\n",
       "    </tr>\n",
       "    <tr>\n",
       "      <th>5</th>\n",
       "      <td>Pune</td>\n",
       "      <td>Maharastra</td>\n",
       "    </tr>\n",
       "    <tr>\n",
       "      <th>6</th>\n",
       "      <td>chennai</td>\n",
       "      <td>Tamilnadu</td>\n",
       "    </tr>\n",
       "    <tr>\n",
       "      <th>7</th>\n",
       "      <td>Bangluru</td>\n",
       "      <td>A.P</td>\n",
       "    </tr>\n",
       "  </tbody>\n",
       "</table>\n",
       "</div>"
      ],
      "text/plain": [
       "       City        state\n",
       "0    Gujrat     Hariyana\n",
       "1     delhi        Delhi\n",
       "2     Noida          U.P\n",
       "3      Agra          U.P\n",
       "4  Dehradun  Uttarakhand\n",
       "5      Pune   Maharastra\n",
       "6   chennai    Tamilnadu\n",
       "7  Bangluru          A.P"
      ]
     },
     "execution_count": 96,
     "metadata": {},
     "output_type": "execute_result"
    }
   ],
   "source": [
    "df.iloc[:, [0,2]]"
   ]
  },
  {
   "cell_type": "code",
   "execution_count": 97,
   "id": "10194335",
   "metadata": {},
   "outputs": [
    {
     "data": {
      "text/html": [
       "<div>\n",
       "<style scoped>\n",
       "    .dataframe tbody tr th:only-of-type {\n",
       "        vertical-align: middle;\n",
       "    }\n",
       "\n",
       "    .dataframe tbody tr th {\n",
       "        vertical-align: top;\n",
       "    }\n",
       "\n",
       "    .dataframe thead th {\n",
       "        text-align: right;\n",
       "    }\n",
       "</style>\n",
       "<table border=\"1\" class=\"dataframe\">\n",
       "  <thead>\n",
       "    <tr style=\"text-align: right;\">\n",
       "      <th></th>\n",
       "      <th>City</th>\n",
       "      <th>state</th>\n",
       "    </tr>\n",
       "  </thead>\n",
       "  <tbody>\n",
       "    <tr>\n",
       "      <th>0</th>\n",
       "      <td>Gujrat</td>\n",
       "      <td>Hariyana</td>\n",
       "    </tr>\n",
       "    <tr>\n",
       "      <th>1</th>\n",
       "      <td>delhi</td>\n",
       "      <td>Delhi</td>\n",
       "    </tr>\n",
       "    <tr>\n",
       "      <th>2</th>\n",
       "      <td>Noida</td>\n",
       "      <td>U.P</td>\n",
       "    </tr>\n",
       "    <tr>\n",
       "      <th>3</th>\n",
       "      <td>Agra</td>\n",
       "      <td>U.P</td>\n",
       "    </tr>\n",
       "  </tbody>\n",
       "</table>\n",
       "</div>"
      ],
      "text/plain": [
       "     City     state\n",
       "0  Gujrat  Hariyana\n",
       "1   delhi     Delhi\n",
       "2   Noida       U.P\n",
       "3    Agra       U.P"
      ]
     },
     "execution_count": 97,
     "metadata": {},
     "output_type": "execute_result"
    }
   ],
   "source": [
    "df.iloc[0:4, [0,2]]"
   ]
  },
  {
   "cell_type": "code",
   "execution_count": 98,
   "id": "7608a50d",
   "metadata": {},
   "outputs": [
    {
     "data": {
      "text/html": [
       "<div>\n",
       "<style scoped>\n",
       "    .dataframe tbody tr th:only-of-type {\n",
       "        vertical-align: middle;\n",
       "    }\n",
       "\n",
       "    .dataframe tbody tr th {\n",
       "        vertical-align: top;\n",
       "    }\n",
       "\n",
       "    .dataframe thead th {\n",
       "        text-align: right;\n",
       "    }\n",
       "</style>\n",
       "<table border=\"1\" class=\"dataframe\">\n",
       "  <thead>\n",
       "    <tr style=\"text-align: right;\">\n",
       "      <th></th>\n",
       "      <th>City</th>\n",
       "      <th>Population</th>\n",
       "    </tr>\n",
       "  </thead>\n",
       "  <tbody>\n",
       "    <tr>\n",
       "      <th>1</th>\n",
       "      <td>delhi</td>\n",
       "      <td>638686</td>\n",
       "    </tr>\n",
       "    <tr>\n",
       "      <th>7</th>\n",
       "      <td>Bangluru</td>\n",
       "      <td>668632</td>\n",
       "    </tr>\n",
       "  </tbody>\n",
       "</table>\n",
       "</div>"
      ],
      "text/plain": [
       "       City  Population\n",
       "1     delhi      638686\n",
       "7  Bangluru      668632"
      ]
     },
     "execution_count": 98,
     "metadata": {},
     "output_type": "execute_result"
    }
   ],
   "source": [
    "df.iloc[[1,7], [0,4]]"
   ]
  },
  {
   "cell_type": "markdown",
   "id": "474d0857",
   "metadata": {},
   "source": []
  },
  {
   "cell_type": "code",
   "execution_count": 100,
   "id": "d00f305b",
   "metadata": {},
   "outputs": [
    {
     "data": {
      "text/html": [
       "<div>\n",
       "<style scoped>\n",
       "    .dataframe tbody tr th:only-of-type {\n",
       "        vertical-align: middle;\n",
       "    }\n",
       "\n",
       "    .dataframe tbody tr th {\n",
       "        vertical-align: top;\n",
       "    }\n",
       "\n",
       "    .dataframe thead th {\n",
       "        text-align: right;\n",
       "    }\n",
       "</style>\n",
       "<table border=\"1\" class=\"dataframe\">\n",
       "  <thead>\n",
       "    <tr style=\"text-align: right;\">\n",
       "      <th></th>\n",
       "      <th>City</th>\n",
       "      <th>income</th>\n",
       "      <th>state</th>\n",
       "      <th>Zip code</th>\n",
       "      <th>Population</th>\n",
       "    </tr>\n",
       "  </thead>\n",
       "  <tbody>\n",
       "    <tr>\n",
       "      <th>0</th>\n",
       "      <td>Gujrat</td>\n",
       "      <td>40000.0</td>\n",
       "      <td>Hariyana</td>\n",
       "      <td>47341</td>\n",
       "      <td>906399</td>\n",
       "    </tr>\n",
       "    <tr>\n",
       "      <th>1</th>\n",
       "      <td>delhi</td>\n",
       "      <td>30000.0</td>\n",
       "      <td>Delhi</td>\n",
       "      <td>41475</td>\n",
       "      <td>638686</td>\n",
       "    </tr>\n",
       "    <tr>\n",
       "      <th>2</th>\n",
       "      <td>Noida</td>\n",
       "      <td>60000.0</td>\n",
       "      <td>U.P</td>\n",
       "      <td>42039</td>\n",
       "      <td>742384</td>\n",
       "    </tr>\n",
       "    <tr>\n",
       "      <th>3</th>\n",
       "      <td>Agra</td>\n",
       "      <td>1159400.0</td>\n",
       "      <td>U.P</td>\n",
       "      <td>46784</td>\n",
       "      <td>984409</td>\n",
       "    </tr>\n",
       "    <tr>\n",
       "      <th>4</th>\n",
       "      <td>Dehradun</td>\n",
       "      <td>5600000.0</td>\n",
       "      <td>Uttarakhand</td>\n",
       "      <td>41823</td>\n",
       "      <td>941887</td>\n",
       "    </tr>\n",
       "    <tr>\n",
       "      <th>5</th>\n",
       "      <td>Pune</td>\n",
       "      <td>1159400.0</td>\n",
       "      <td>Maharastra</td>\n",
       "      <td>44739</td>\n",
       "      <td>956153</td>\n",
       "    </tr>\n",
       "    <tr>\n",
       "      <th>6</th>\n",
       "      <td>chennai</td>\n",
       "      <td>67000.0</td>\n",
       "      <td>Tamilnadu</td>\n",
       "      <td>44380</td>\n",
       "      <td>829236</td>\n",
       "    </tr>\n",
       "    <tr>\n",
       "      <th>7</th>\n",
       "      <td>Bangluru</td>\n",
       "      <td>1159400.0</td>\n",
       "      <td>A.P</td>\n",
       "      <td>49109</td>\n",
       "      <td>668632</td>\n",
       "    </tr>\n",
       "  </tbody>\n",
       "</table>\n",
       "</div>"
      ],
      "text/plain": [
       "       City     income        state  Zip code  Population\n",
       "0    Gujrat    40000.0     Hariyana     47341      906399\n",
       "1     delhi    30000.0        Delhi     41475      638686\n",
       "2     Noida    60000.0          U.P     42039      742384\n",
       "3      Agra  1159400.0          U.P     46784      984409\n",
       "4  Dehradun  5600000.0  Uttarakhand     41823      941887\n",
       "5      Pune  1159400.0   Maharastra     44739      956153\n",
       "6   chennai    67000.0    Tamilnadu     44380      829236\n",
       "7  Bangluru  1159400.0          A.P     49109      668632"
      ]
     },
     "execution_count": 100,
     "metadata": {},
     "output_type": "execute_result"
    }
   ],
   "source": [
    "df"
   ]
  },
  {
   "cell_type": "code",
   "execution_count": 102,
   "id": "d45098b2",
   "metadata": {},
   "outputs": [],
   "source": [
    "df.index = list(\"ABCDEFGH\")"
   ]
  },
  {
   "cell_type": "code",
   "execution_count": 103,
   "id": "f2c51b29",
   "metadata": {},
   "outputs": [
    {
     "data": {
      "text/html": [
       "<div>\n",
       "<style scoped>\n",
       "    .dataframe tbody tr th:only-of-type {\n",
       "        vertical-align: middle;\n",
       "    }\n",
       "\n",
       "    .dataframe tbody tr th {\n",
       "        vertical-align: top;\n",
       "    }\n",
       "\n",
       "    .dataframe thead th {\n",
       "        text-align: right;\n",
       "    }\n",
       "</style>\n",
       "<table border=\"1\" class=\"dataframe\">\n",
       "  <thead>\n",
       "    <tr style=\"text-align: right;\">\n",
       "      <th></th>\n",
       "      <th>City</th>\n",
       "      <th>income</th>\n",
       "      <th>state</th>\n",
       "      <th>Zip code</th>\n",
       "      <th>Population</th>\n",
       "    </tr>\n",
       "  </thead>\n",
       "  <tbody>\n",
       "    <tr>\n",
       "      <th>A</th>\n",
       "      <td>Gujrat</td>\n",
       "      <td>40000.0</td>\n",
       "      <td>Hariyana</td>\n",
       "      <td>47341</td>\n",
       "      <td>906399</td>\n",
       "    </tr>\n",
       "    <tr>\n",
       "      <th>B</th>\n",
       "      <td>delhi</td>\n",
       "      <td>30000.0</td>\n",
       "      <td>Delhi</td>\n",
       "      <td>41475</td>\n",
       "      <td>638686</td>\n",
       "    </tr>\n",
       "    <tr>\n",
       "      <th>C</th>\n",
       "      <td>Noida</td>\n",
       "      <td>60000.0</td>\n",
       "      <td>U.P</td>\n",
       "      <td>42039</td>\n",
       "      <td>742384</td>\n",
       "    </tr>\n",
       "    <tr>\n",
       "      <th>D</th>\n",
       "      <td>Agra</td>\n",
       "      <td>1159400.0</td>\n",
       "      <td>U.P</td>\n",
       "      <td>46784</td>\n",
       "      <td>984409</td>\n",
       "    </tr>\n",
       "    <tr>\n",
       "      <th>E</th>\n",
       "      <td>Dehradun</td>\n",
       "      <td>5600000.0</td>\n",
       "      <td>Uttarakhand</td>\n",
       "      <td>41823</td>\n",
       "      <td>941887</td>\n",
       "    </tr>\n",
       "    <tr>\n",
       "      <th>F</th>\n",
       "      <td>Pune</td>\n",
       "      <td>1159400.0</td>\n",
       "      <td>Maharastra</td>\n",
       "      <td>44739</td>\n",
       "      <td>956153</td>\n",
       "    </tr>\n",
       "    <tr>\n",
       "      <th>G</th>\n",
       "      <td>chennai</td>\n",
       "      <td>67000.0</td>\n",
       "      <td>Tamilnadu</td>\n",
       "      <td>44380</td>\n",
       "      <td>829236</td>\n",
       "    </tr>\n",
       "    <tr>\n",
       "      <th>H</th>\n",
       "      <td>Bangluru</td>\n",
       "      <td>1159400.0</td>\n",
       "      <td>A.P</td>\n",
       "      <td>49109</td>\n",
       "      <td>668632</td>\n",
       "    </tr>\n",
       "  </tbody>\n",
       "</table>\n",
       "</div>"
      ],
      "text/plain": [
       "       City     income        state  Zip code  Population\n",
       "A    Gujrat    40000.0     Hariyana     47341      906399\n",
       "B     delhi    30000.0        Delhi     41475      638686\n",
       "C     Noida    60000.0          U.P     42039      742384\n",
       "D      Agra  1159400.0          U.P     46784      984409\n",
       "E  Dehradun  5600000.0  Uttarakhand     41823      941887\n",
       "F      Pune  1159400.0   Maharastra     44739      956153\n",
       "G   chennai    67000.0    Tamilnadu     44380      829236\n",
       "H  Bangluru  1159400.0          A.P     49109      668632"
      ]
     },
     "execution_count": 103,
     "metadata": {},
     "output_type": "execute_result"
    }
   ],
   "source": [
    "df"
   ]
  },
  {
   "cell_type": "code",
   "execution_count": 104,
   "id": "ff93f850",
   "metadata": {},
   "outputs": [
    {
     "data": {
      "text/plain": [
       "Index(['A', 'B', 'C', 'D', 'E', 'F', 'G', 'H'], dtype='object')"
      ]
     },
     "execution_count": 104,
     "metadata": {},
     "output_type": "execute_result"
    }
   ],
   "source": [
    "df.index"
   ]
  },
  {
   "cell_type": "code",
   "execution_count": 106,
   "id": "811a56aa",
   "metadata": {},
   "outputs": [
    {
     "data": {
      "text/plain": [
       "Index(['City', 'income', 'state', 'Zip code', 'Population'], dtype='object')"
      ]
     },
     "execution_count": 106,
     "metadata": {},
     "output_type": "execute_result"
    }
   ],
   "source": [
    "df.columns"
   ]
  },
  {
   "cell_type": "code",
   "execution_count": 112,
   "id": "8093477c",
   "metadata": {},
   "outputs": [
    {
     "name": "stdout",
     "output_type": "stream",
     "text": [
      "<class 'pandas.core.frame.DataFrame'>\n",
      "Index: 8 entries, A to H\n",
      "Data columns (total 5 columns):\n",
      " #   Column      Non-Null Count  Dtype  \n",
      "---  ------      --------------  -----  \n",
      " 0   City        8 non-null      object \n",
      " 1   income      8 non-null      float64\n",
      " 2   state       8 non-null      object \n",
      " 3   Zip code    8 non-null      object \n",
      " 4   Population  8 non-null      int32  \n",
      "dtypes: float64(1), int32(1), object(3)\n",
      "memory usage: 652.0+ bytes\n"
     ]
    }
   ],
   "source": [
    "df.info()"
   ]
  },
  {
   "cell_type": "code",
   "execution_count": 110,
   "id": "afeed42d",
   "metadata": {},
   "outputs": [],
   "source": [
    "df['Zip code'] = df['Zip code'].astype(\"str\")"
   ]
  },
  {
   "cell_type": "code",
   "execution_count": 111,
   "id": "774832f5",
   "metadata": {},
   "outputs": [
    {
     "data": {
      "text/html": [
       "<div>\n",
       "<style scoped>\n",
       "    .dataframe tbody tr th:only-of-type {\n",
       "        vertical-align: middle;\n",
       "    }\n",
       "\n",
       "    .dataframe tbody tr th {\n",
       "        vertical-align: top;\n",
       "    }\n",
       "\n",
       "    .dataframe thead th {\n",
       "        text-align: right;\n",
       "    }\n",
       "</style>\n",
       "<table border=\"1\" class=\"dataframe\">\n",
       "  <thead>\n",
       "    <tr style=\"text-align: right;\">\n",
       "      <th></th>\n",
       "      <th>income</th>\n",
       "      <th>Population</th>\n",
       "    </tr>\n",
       "  </thead>\n",
       "  <tbody>\n",
       "    <tr>\n",
       "      <th>count</th>\n",
       "      <td>8.000000e+00</td>\n",
       "      <td>8.000000</td>\n",
       "    </tr>\n",
       "    <tr>\n",
       "      <th>mean</th>\n",
       "      <td>1.159400e+06</td>\n",
       "      <td>833473.250000</td>\n",
       "    </tr>\n",
       "    <tr>\n",
       "      <th>std</th>\n",
       "      <td>1.876530e+06</td>\n",
       "      <td>135400.751268</td>\n",
       "    </tr>\n",
       "    <tr>\n",
       "      <th>min</th>\n",
       "      <td>3.000000e+04</td>\n",
       "      <td>638686.000000</td>\n",
       "    </tr>\n",
       "    <tr>\n",
       "      <th>25%</th>\n",
       "      <td>5.500000e+04</td>\n",
       "      <td>723946.000000</td>\n",
       "    </tr>\n",
       "    <tr>\n",
       "      <th>50%</th>\n",
       "      <td>6.132000e+05</td>\n",
       "      <td>867817.500000</td>\n",
       "    </tr>\n",
       "    <tr>\n",
       "      <th>75%</th>\n",
       "      <td>1.159400e+06</td>\n",
       "      <td>945453.500000</td>\n",
       "    </tr>\n",
       "    <tr>\n",
       "      <th>max</th>\n",
       "      <td>5.600000e+06</td>\n",
       "      <td>984409.000000</td>\n",
       "    </tr>\n",
       "  </tbody>\n",
       "</table>\n",
       "</div>"
      ],
      "text/plain": [
       "             income     Population\n",
       "count  8.000000e+00       8.000000\n",
       "mean   1.159400e+06  833473.250000\n",
       "std    1.876530e+06  135400.751268\n",
       "min    3.000000e+04  638686.000000\n",
       "25%    5.500000e+04  723946.000000\n",
       "50%    6.132000e+05  867817.500000\n",
       "75%    1.159400e+06  945453.500000\n",
       "max    5.600000e+06  984409.000000"
      ]
     },
     "execution_count": 111,
     "metadata": {},
     "output_type": "execute_result"
    }
   ],
   "source": [
    "df.describe()"
   ]
  },
  {
   "cell_type": "code",
   "execution_count": 113,
   "id": "95685bb1",
   "metadata": {},
   "outputs": [
    {
     "data": {
      "text/html": [
       "<div>\n",
       "<style scoped>\n",
       "    .dataframe tbody tr th:only-of-type {\n",
       "        vertical-align: middle;\n",
       "    }\n",
       "\n",
       "    .dataframe tbody tr th {\n",
       "        vertical-align: top;\n",
       "    }\n",
       "\n",
       "    .dataframe thead th {\n",
       "        text-align: right;\n",
       "    }\n",
       "</style>\n",
       "<table border=\"1\" class=\"dataframe\">\n",
       "  <thead>\n",
       "    <tr style=\"text-align: right;\">\n",
       "      <th></th>\n",
       "      <th>City</th>\n",
       "      <th>income</th>\n",
       "      <th>state</th>\n",
       "      <th>Zip code</th>\n",
       "      <th>Population</th>\n",
       "    </tr>\n",
       "  </thead>\n",
       "  <tbody>\n",
       "    <tr>\n",
       "      <th>A</th>\n",
       "      <td>Gujrat</td>\n",
       "      <td>40000.0</td>\n",
       "      <td>Hariyana</td>\n",
       "      <td>47341</td>\n",
       "      <td>906399</td>\n",
       "    </tr>\n",
       "    <tr>\n",
       "      <th>B</th>\n",
       "      <td>delhi</td>\n",
       "      <td>30000.0</td>\n",
       "      <td>Delhi</td>\n",
       "      <td>41475</td>\n",
       "      <td>638686</td>\n",
       "    </tr>\n",
       "    <tr>\n",
       "      <th>C</th>\n",
       "      <td>Noida</td>\n",
       "      <td>60000.0</td>\n",
       "      <td>U.P</td>\n",
       "      <td>42039</td>\n",
       "      <td>742384</td>\n",
       "    </tr>\n",
       "    <tr>\n",
       "      <th>D</th>\n",
       "      <td>Agra</td>\n",
       "      <td>1159400.0</td>\n",
       "      <td>U.P</td>\n",
       "      <td>46784</td>\n",
       "      <td>984409</td>\n",
       "    </tr>\n",
       "    <tr>\n",
       "      <th>E</th>\n",
       "      <td>Dehradun</td>\n",
       "      <td>5600000.0</td>\n",
       "      <td>Uttarakhand</td>\n",
       "      <td>41823</td>\n",
       "      <td>941887</td>\n",
       "    </tr>\n",
       "    <tr>\n",
       "      <th>F</th>\n",
       "      <td>Pune</td>\n",
       "      <td>1159400.0</td>\n",
       "      <td>Maharastra</td>\n",
       "      <td>44739</td>\n",
       "      <td>956153</td>\n",
       "    </tr>\n",
       "    <tr>\n",
       "      <th>G</th>\n",
       "      <td>chennai</td>\n",
       "      <td>67000.0</td>\n",
       "      <td>Tamilnadu</td>\n",
       "      <td>44380</td>\n",
       "      <td>829236</td>\n",
       "    </tr>\n",
       "    <tr>\n",
       "      <th>H</th>\n",
       "      <td>Bangluru</td>\n",
       "      <td>1159400.0</td>\n",
       "      <td>A.P</td>\n",
       "      <td>49109</td>\n",
       "      <td>668632</td>\n",
       "    </tr>\n",
       "  </tbody>\n",
       "</table>\n",
       "</div>"
      ],
      "text/plain": [
       "       City     income        state Zip code  Population\n",
       "A    Gujrat    40000.0     Hariyana    47341      906399\n",
       "B     delhi    30000.0        Delhi    41475      638686\n",
       "C     Noida    60000.0          U.P    42039      742384\n",
       "D      Agra  1159400.0          U.P    46784      984409\n",
       "E  Dehradun  5600000.0  Uttarakhand    41823      941887\n",
       "F      Pune  1159400.0   Maharastra    44739      956153\n",
       "G   chennai    67000.0    Tamilnadu    44380      829236\n",
       "H  Bangluru  1159400.0          A.P    49109      668632"
      ]
     },
     "execution_count": 113,
     "metadata": {},
     "output_type": "execute_result"
    }
   ],
   "source": [
    "df"
   ]
  },
  {
   "cell_type": "markdown",
   "id": "3200fcba",
   "metadata": {},
   "source": [
    "### .loc:"
   ]
  },
  {
   "cell_type": "code",
   "execution_count": 114,
   "id": "2757e480",
   "metadata": {
    "scrolled": true
   },
   "outputs": [
    {
     "data": {
      "text/html": [
       "<div>\n",
       "<style scoped>\n",
       "    .dataframe tbody tr th:only-of-type {\n",
       "        vertical-align: middle;\n",
       "    }\n",
       "\n",
       "    .dataframe tbody tr th {\n",
       "        vertical-align: top;\n",
       "    }\n",
       "\n",
       "    .dataframe thead th {\n",
       "        text-align: right;\n",
       "    }\n",
       "</style>\n",
       "<table border=\"1\" class=\"dataframe\">\n",
       "  <thead>\n",
       "    <tr style=\"text-align: right;\">\n",
       "      <th></th>\n",
       "      <th>City</th>\n",
       "      <th>income</th>\n",
       "      <th>state</th>\n",
       "      <th>Zip code</th>\n",
       "      <th>Population</th>\n",
       "    </tr>\n",
       "  </thead>\n",
       "  <tbody>\n",
       "    <tr>\n",
       "      <th>A</th>\n",
       "      <td>Gujrat</td>\n",
       "      <td>40000.0</td>\n",
       "      <td>Hariyana</td>\n",
       "      <td>47341</td>\n",
       "      <td>906399</td>\n",
       "    </tr>\n",
       "    <tr>\n",
       "      <th>B</th>\n",
       "      <td>delhi</td>\n",
       "      <td>30000.0</td>\n",
       "      <td>Delhi</td>\n",
       "      <td>41475</td>\n",
       "      <td>638686</td>\n",
       "    </tr>\n",
       "    <tr>\n",
       "      <th>C</th>\n",
       "      <td>Noida</td>\n",
       "      <td>60000.0</td>\n",
       "      <td>U.P</td>\n",
       "      <td>42039</td>\n",
       "      <td>742384</td>\n",
       "    </tr>\n",
       "    <tr>\n",
       "      <th>D</th>\n",
       "      <td>Agra</td>\n",
       "      <td>1159400.0</td>\n",
       "      <td>U.P</td>\n",
       "      <td>46784</td>\n",
       "      <td>984409</td>\n",
       "    </tr>\n",
       "    <tr>\n",
       "      <th>E</th>\n",
       "      <td>Dehradun</td>\n",
       "      <td>5600000.0</td>\n",
       "      <td>Uttarakhand</td>\n",
       "      <td>41823</td>\n",
       "      <td>941887</td>\n",
       "    </tr>\n",
       "    <tr>\n",
       "      <th>F</th>\n",
       "      <td>Pune</td>\n",
       "      <td>1159400.0</td>\n",
       "      <td>Maharastra</td>\n",
       "      <td>44739</td>\n",
       "      <td>956153</td>\n",
       "    </tr>\n",
       "    <tr>\n",
       "      <th>G</th>\n",
       "      <td>chennai</td>\n",
       "      <td>67000.0</td>\n",
       "      <td>Tamilnadu</td>\n",
       "      <td>44380</td>\n",
       "      <td>829236</td>\n",
       "    </tr>\n",
       "    <tr>\n",
       "      <th>H</th>\n",
       "      <td>Bangluru</td>\n",
       "      <td>1159400.0</td>\n",
       "      <td>A.P</td>\n",
       "      <td>49109</td>\n",
       "      <td>668632</td>\n",
       "    </tr>\n",
       "  </tbody>\n",
       "</table>\n",
       "</div>"
      ],
      "text/plain": [
       "       City     income        state Zip code  Population\n",
       "A    Gujrat    40000.0     Hariyana    47341      906399\n",
       "B     delhi    30000.0        Delhi    41475      638686\n",
       "C     Noida    60000.0          U.P    42039      742384\n",
       "D      Agra  1159400.0          U.P    46784      984409\n",
       "E  Dehradun  5600000.0  Uttarakhand    41823      941887\n",
       "F      Pune  1159400.0   Maharastra    44739      956153\n",
       "G   chennai    67000.0    Tamilnadu    44380      829236\n",
       "H  Bangluru  1159400.0          A.P    49109      668632"
      ]
     },
     "execution_count": 114,
     "metadata": {},
     "output_type": "execute_result"
    }
   ],
   "source": [
    "df"
   ]
  },
  {
   "cell_type": "code",
   "execution_count": 118,
   "id": "659d56c6",
   "metadata": {},
   "outputs": [
    {
     "data": {
      "text/html": [
       "<div>\n",
       "<style scoped>\n",
       "    .dataframe tbody tr th:only-of-type {\n",
       "        vertical-align: middle;\n",
       "    }\n",
       "\n",
       "    .dataframe tbody tr th {\n",
       "        vertical-align: top;\n",
       "    }\n",
       "\n",
       "    .dataframe thead th {\n",
       "        text-align: right;\n",
       "    }\n",
       "</style>\n",
       "<table border=\"1\" class=\"dataframe\">\n",
       "  <thead>\n",
       "    <tr style=\"text-align: right;\">\n",
       "      <th></th>\n",
       "      <th>City</th>\n",
       "      <th>income</th>\n",
       "      <th>state</th>\n",
       "      <th>Zip code</th>\n",
       "      <th>Population</th>\n",
       "    </tr>\n",
       "  </thead>\n",
       "  <tbody>\n",
       "    <tr>\n",
       "      <th>B</th>\n",
       "      <td>delhi</td>\n",
       "      <td>30000.0</td>\n",
       "      <td>Delhi</td>\n",
       "      <td>41475</td>\n",
       "      <td>638686</td>\n",
       "    </tr>\n",
       "    <tr>\n",
       "      <th>C</th>\n",
       "      <td>Noida</td>\n",
       "      <td>60000.0</td>\n",
       "      <td>U.P</td>\n",
       "      <td>42039</td>\n",
       "      <td>742384</td>\n",
       "    </tr>\n",
       "    <tr>\n",
       "      <th>D</th>\n",
       "      <td>Agra</td>\n",
       "      <td>1159400.0</td>\n",
       "      <td>U.P</td>\n",
       "      <td>46784</td>\n",
       "      <td>984409</td>\n",
       "    </tr>\n",
       "    <tr>\n",
       "      <th>E</th>\n",
       "      <td>Dehradun</td>\n",
       "      <td>5600000.0</td>\n",
       "      <td>Uttarakhand</td>\n",
       "      <td>41823</td>\n",
       "      <td>941887</td>\n",
       "    </tr>\n",
       "  </tbody>\n",
       "</table>\n",
       "</div>"
      ],
      "text/plain": [
       "       City     income        state Zip code  Population\n",
       "B     delhi    30000.0        Delhi    41475      638686\n",
       "C     Noida    60000.0          U.P    42039      742384\n",
       "D      Agra  1159400.0          U.P    46784      984409\n",
       "E  Dehradun  5600000.0  Uttarakhand    41823      941887"
      ]
     },
     "execution_count": 118,
     "metadata": {},
     "output_type": "execute_result"
    }
   ],
   "source": [
    "df.loc['B':'E']"
   ]
  },
  {
   "cell_type": "code",
   "execution_count": 119,
   "id": "5b33c5e3",
   "metadata": {},
   "outputs": [
    {
     "data": {
      "text/html": [
       "<div>\n",
       "<style scoped>\n",
       "    .dataframe tbody tr th:only-of-type {\n",
       "        vertical-align: middle;\n",
       "    }\n",
       "\n",
       "    .dataframe tbody tr th {\n",
       "        vertical-align: top;\n",
       "    }\n",
       "\n",
       "    .dataframe thead th {\n",
       "        text-align: right;\n",
       "    }\n",
       "</style>\n",
       "<table border=\"1\" class=\"dataframe\">\n",
       "  <thead>\n",
       "    <tr style=\"text-align: right;\">\n",
       "      <th></th>\n",
       "      <th>City</th>\n",
       "      <th>income</th>\n",
       "      <th>state</th>\n",
       "      <th>Zip code</th>\n",
       "      <th>Population</th>\n",
       "    </tr>\n",
       "  </thead>\n",
       "  <tbody>\n",
       "    <tr>\n",
       "      <th>B</th>\n",
       "      <td>delhi</td>\n",
       "      <td>30000.0</td>\n",
       "      <td>Delhi</td>\n",
       "      <td>41475</td>\n",
       "      <td>638686</td>\n",
       "    </tr>\n",
       "    <tr>\n",
       "      <th>E</th>\n",
       "      <td>Dehradun</td>\n",
       "      <td>5600000.0</td>\n",
       "      <td>Uttarakhand</td>\n",
       "      <td>41823</td>\n",
       "      <td>941887</td>\n",
       "    </tr>\n",
       "  </tbody>\n",
       "</table>\n",
       "</div>"
      ],
      "text/plain": [
       "       City     income        state Zip code  Population\n",
       "B     delhi    30000.0        Delhi    41475      638686\n",
       "E  Dehradun  5600000.0  Uttarakhand    41823      941887"
      ]
     },
     "execution_count": 119,
     "metadata": {},
     "output_type": "execute_result"
    }
   ],
   "source": [
    "df.loc[['B','E']]"
   ]
  },
  {
   "cell_type": "code",
   "execution_count": 120,
   "id": "e6b79339",
   "metadata": {},
   "outputs": [
    {
     "data": {
      "text/html": [
       "<div>\n",
       "<style scoped>\n",
       "    .dataframe tbody tr th:only-of-type {\n",
       "        vertical-align: middle;\n",
       "    }\n",
       "\n",
       "    .dataframe tbody tr th {\n",
       "        vertical-align: top;\n",
       "    }\n",
       "\n",
       "    .dataframe thead th {\n",
       "        text-align: right;\n",
       "    }\n",
       "</style>\n",
       "<table border=\"1\" class=\"dataframe\">\n",
       "  <thead>\n",
       "    <tr style=\"text-align: right;\">\n",
       "      <th></th>\n",
       "      <th>City</th>\n",
       "      <th>income</th>\n",
       "      <th>state</th>\n",
       "      <th>Zip code</th>\n",
       "      <th>Population</th>\n",
       "    </tr>\n",
       "  </thead>\n",
       "  <tbody>\n",
       "    <tr>\n",
       "      <th>A</th>\n",
       "      <td>Gujrat</td>\n",
       "      <td>40000.0</td>\n",
       "      <td>Hariyana</td>\n",
       "      <td>47341</td>\n",
       "      <td>906399</td>\n",
       "    </tr>\n",
       "    <tr>\n",
       "      <th>B</th>\n",
       "      <td>delhi</td>\n",
       "      <td>30000.0</td>\n",
       "      <td>Delhi</td>\n",
       "      <td>41475</td>\n",
       "      <td>638686</td>\n",
       "    </tr>\n",
       "    <tr>\n",
       "      <th>C</th>\n",
       "      <td>Noida</td>\n",
       "      <td>60000.0</td>\n",
       "      <td>U.P</td>\n",
       "      <td>42039</td>\n",
       "      <td>742384</td>\n",
       "    </tr>\n",
       "  </tbody>\n",
       "</table>\n",
       "</div>"
      ],
      "text/plain": [
       "     City   income     state Zip code  Population\n",
       "A  Gujrat  40000.0  Hariyana    47341      906399\n",
       "B   delhi  30000.0     Delhi    41475      638686\n",
       "C   Noida  60000.0       U.P    42039      742384"
      ]
     },
     "execution_count": 120,
     "metadata": {},
     "output_type": "execute_result"
    }
   ],
   "source": [
    "df.loc[['A','B','C']]"
   ]
  },
  {
   "cell_type": "code",
   "execution_count": 124,
   "id": "a83fd06f",
   "metadata": {},
   "outputs": [
    {
     "data": {
      "text/html": [
       "<div>\n",
       "<style scoped>\n",
       "    .dataframe tbody tr th:only-of-type {\n",
       "        vertical-align: middle;\n",
       "    }\n",
       "\n",
       "    .dataframe tbody tr th {\n",
       "        vertical-align: top;\n",
       "    }\n",
       "\n",
       "    .dataframe thead th {\n",
       "        text-align: right;\n",
       "    }\n",
       "</style>\n",
       "<table border=\"1\" class=\"dataframe\">\n",
       "  <thead>\n",
       "    <tr style=\"text-align: right;\">\n",
       "      <th></th>\n",
       "      <th>City</th>\n",
       "      <th>income</th>\n",
       "      <th>state</th>\n",
       "    </tr>\n",
       "  </thead>\n",
       "  <tbody>\n",
       "    <tr>\n",
       "      <th>A</th>\n",
       "      <td>Gujrat</td>\n",
       "      <td>40000.0</td>\n",
       "      <td>Hariyana</td>\n",
       "    </tr>\n",
       "    <tr>\n",
       "      <th>B</th>\n",
       "      <td>delhi</td>\n",
       "      <td>30000.0</td>\n",
       "      <td>Delhi</td>\n",
       "    </tr>\n",
       "    <tr>\n",
       "      <th>C</th>\n",
       "      <td>Noida</td>\n",
       "      <td>60000.0</td>\n",
       "      <td>U.P</td>\n",
       "    </tr>\n",
       "    <tr>\n",
       "      <th>D</th>\n",
       "      <td>Agra</td>\n",
       "      <td>1159400.0</td>\n",
       "      <td>U.P</td>\n",
       "    </tr>\n",
       "    <tr>\n",
       "      <th>E</th>\n",
       "      <td>Dehradun</td>\n",
       "      <td>5600000.0</td>\n",
       "      <td>Uttarakhand</td>\n",
       "    </tr>\n",
       "    <tr>\n",
       "      <th>F</th>\n",
       "      <td>Pune</td>\n",
       "      <td>1159400.0</td>\n",
       "      <td>Maharastra</td>\n",
       "    </tr>\n",
       "    <tr>\n",
       "      <th>G</th>\n",
       "      <td>chennai</td>\n",
       "      <td>67000.0</td>\n",
       "      <td>Tamilnadu</td>\n",
       "    </tr>\n",
       "    <tr>\n",
       "      <th>H</th>\n",
       "      <td>Bangluru</td>\n",
       "      <td>1159400.0</td>\n",
       "      <td>A.P</td>\n",
       "    </tr>\n",
       "  </tbody>\n",
       "</table>\n",
       "</div>"
      ],
      "text/plain": [
       "       City     income        state\n",
       "A    Gujrat    40000.0     Hariyana\n",
       "B     delhi    30000.0        Delhi\n",
       "C     Noida    60000.0          U.P\n",
       "D      Agra  1159400.0          U.P\n",
       "E  Dehradun  5600000.0  Uttarakhand\n",
       "F      Pune  1159400.0   Maharastra\n",
       "G   chennai    67000.0    Tamilnadu\n",
       "H  Bangluru  1159400.0          A.P"
      ]
     },
     "execution_count": 124,
     "metadata": {},
     "output_type": "execute_result"
    }
   ],
   "source": [
    "df.loc[:, 'City': 'state']"
   ]
  },
  {
   "cell_type": "code",
   "execution_count": 125,
   "id": "691757fb",
   "metadata": {},
   "outputs": [
    {
     "data": {
      "text/html": [
       "<div>\n",
       "<style scoped>\n",
       "    .dataframe tbody tr th:only-of-type {\n",
       "        vertical-align: middle;\n",
       "    }\n",
       "\n",
       "    .dataframe tbody tr th {\n",
       "        vertical-align: top;\n",
       "    }\n",
       "\n",
       "    .dataframe thead th {\n",
       "        text-align: right;\n",
       "    }\n",
       "</style>\n",
       "<table border=\"1\" class=\"dataframe\">\n",
       "  <thead>\n",
       "    <tr style=\"text-align: right;\">\n",
       "      <th></th>\n",
       "      <th>City</th>\n",
       "      <th>Zip code</th>\n",
       "    </tr>\n",
       "  </thead>\n",
       "  <tbody>\n",
       "    <tr>\n",
       "      <th>A</th>\n",
       "      <td>Gujrat</td>\n",
       "      <td>47341</td>\n",
       "    </tr>\n",
       "    <tr>\n",
       "      <th>B</th>\n",
       "      <td>delhi</td>\n",
       "      <td>41475</td>\n",
       "    </tr>\n",
       "    <tr>\n",
       "      <th>C</th>\n",
       "      <td>Noida</td>\n",
       "      <td>42039</td>\n",
       "    </tr>\n",
       "    <tr>\n",
       "      <th>D</th>\n",
       "      <td>Agra</td>\n",
       "      <td>46784</td>\n",
       "    </tr>\n",
       "    <tr>\n",
       "      <th>E</th>\n",
       "      <td>Dehradun</td>\n",
       "      <td>41823</td>\n",
       "    </tr>\n",
       "    <tr>\n",
       "      <th>F</th>\n",
       "      <td>Pune</td>\n",
       "      <td>44739</td>\n",
       "    </tr>\n",
       "    <tr>\n",
       "      <th>G</th>\n",
       "      <td>chennai</td>\n",
       "      <td>44380</td>\n",
       "    </tr>\n",
       "    <tr>\n",
       "      <th>H</th>\n",
       "      <td>Bangluru</td>\n",
       "      <td>49109</td>\n",
       "    </tr>\n",
       "  </tbody>\n",
       "</table>\n",
       "</div>"
      ],
      "text/plain": [
       "       City Zip code\n",
       "A    Gujrat    47341\n",
       "B     delhi    41475\n",
       "C     Noida    42039\n",
       "D      Agra    46784\n",
       "E  Dehradun    41823\n",
       "F      Pune    44739\n",
       "G   chennai    44380\n",
       "H  Bangluru    49109"
      ]
     },
     "execution_count": 125,
     "metadata": {},
     "output_type": "execute_result"
    }
   ],
   "source": [
    "df.loc[:, ['City','Zip code']]"
   ]
  },
  {
   "cell_type": "code",
   "execution_count": 127,
   "id": "a136e7f4",
   "metadata": {},
   "outputs": [
    {
     "data": {
      "text/html": [
       "<div>\n",
       "<style scoped>\n",
       "    .dataframe tbody tr th:only-of-type {\n",
       "        vertical-align: middle;\n",
       "    }\n",
       "\n",
       "    .dataframe tbody tr th {\n",
       "        vertical-align: top;\n",
       "    }\n",
       "\n",
       "    .dataframe thead th {\n",
       "        text-align: right;\n",
       "    }\n",
       "</style>\n",
       "<table border=\"1\" class=\"dataframe\">\n",
       "  <thead>\n",
       "    <tr style=\"text-align: right;\">\n",
       "      <th></th>\n",
       "      <th>City</th>\n",
       "      <th>Zip code</th>\n",
       "    </tr>\n",
       "  </thead>\n",
       "  <tbody>\n",
       "    <tr>\n",
       "      <th>A</th>\n",
       "      <td>Gujrat</td>\n",
       "      <td>47341</td>\n",
       "    </tr>\n",
       "    <tr>\n",
       "      <th>B</th>\n",
       "      <td>delhi</td>\n",
       "      <td>41475</td>\n",
       "    </tr>\n",
       "    <tr>\n",
       "      <th>C</th>\n",
       "      <td>Noida</td>\n",
       "      <td>42039</td>\n",
       "    </tr>\n",
       "    <tr>\n",
       "      <th>D</th>\n",
       "      <td>Agra</td>\n",
       "      <td>46784</td>\n",
       "    </tr>\n",
       "    <tr>\n",
       "      <th>E</th>\n",
       "      <td>Dehradun</td>\n",
       "      <td>41823</td>\n",
       "    </tr>\n",
       "  </tbody>\n",
       "</table>\n",
       "</div>"
      ],
      "text/plain": [
       "       City Zip code\n",
       "A    Gujrat    47341\n",
       "B     delhi    41475\n",
       "C     Noida    42039\n",
       "D      Agra    46784\n",
       "E  Dehradun    41823"
      ]
     },
     "execution_count": 127,
     "metadata": {},
     "output_type": "execute_result"
    }
   ],
   "source": [
    "df.loc['A':'E', ['City','Zip code']]"
   ]
  },
  {
   "cell_type": "code",
   "execution_count": 131,
   "id": "c0f45b2a",
   "metadata": {},
   "outputs": [
    {
     "data": {
      "text/html": [
       "<div>\n",
       "<style scoped>\n",
       "    .dataframe tbody tr th:only-of-type {\n",
       "        vertical-align: middle;\n",
       "    }\n",
       "\n",
       "    .dataframe tbody tr th {\n",
       "        vertical-align: top;\n",
       "    }\n",
       "\n",
       "    .dataframe thead th {\n",
       "        text-align: right;\n",
       "    }\n",
       "</style>\n",
       "<table border=\"1\" class=\"dataframe\">\n",
       "  <thead>\n",
       "    <tr style=\"text-align: right;\">\n",
       "      <th></th>\n",
       "      <th>state</th>\n",
       "      <th>Population</th>\n",
       "    </tr>\n",
       "  </thead>\n",
       "  <tbody>\n",
       "    <tr>\n",
       "      <th>A</th>\n",
       "      <td>Hariyana</td>\n",
       "      <td>906399</td>\n",
       "    </tr>\n",
       "    <tr>\n",
       "      <th>H</th>\n",
       "      <td>A.P</td>\n",
       "      <td>668632</td>\n",
       "    </tr>\n",
       "  </tbody>\n",
       "</table>\n",
       "</div>"
      ],
      "text/plain": [
       "      state  Population\n",
       "A  Hariyana      906399\n",
       "H       A.P      668632"
      ]
     },
     "execution_count": 131,
     "metadata": {},
     "output_type": "execute_result"
    }
   ],
   "source": [
    "df.loc[['A','H'], ['state','Population']]"
   ]
  },
  {
   "cell_type": "code",
   "execution_count": 133,
   "id": "03082887",
   "metadata": {},
   "outputs": [
    {
     "data": {
      "text/html": [
       "<div>\n",
       "<style scoped>\n",
       "    .dataframe tbody tr th:only-of-type {\n",
       "        vertical-align: middle;\n",
       "    }\n",
       "\n",
       "    .dataframe tbody tr th {\n",
       "        vertical-align: top;\n",
       "    }\n",
       "\n",
       "    .dataframe thead th {\n",
       "        text-align: right;\n",
       "    }\n",
       "</style>\n",
       "<table border=\"1\" class=\"dataframe\">\n",
       "  <thead>\n",
       "    <tr style=\"text-align: right;\">\n",
       "      <th></th>\n",
       "      <th>state</th>\n",
       "      <th>Population</th>\n",
       "    </tr>\n",
       "  </thead>\n",
       "  <tbody>\n",
       "    <tr>\n",
       "      <th>A</th>\n",
       "      <td>Hariyana</td>\n",
       "      <td>906399</td>\n",
       "    </tr>\n",
       "    <tr>\n",
       "      <th>H</th>\n",
       "      <td>A.P</td>\n",
       "      <td>668632</td>\n",
       "    </tr>\n",
       "  </tbody>\n",
       "</table>\n",
       "</div>"
      ],
      "text/plain": [
       "      state  Population\n",
       "A  Hariyana      906399\n",
       "H       A.P      668632"
      ]
     },
     "execution_count": 133,
     "metadata": {},
     "output_type": "execute_result"
    }
   ],
   "source": [
    "df.iloc[[0,7], [2,4]]     ## using iloc"
   ]
  },
  {
   "cell_type": "code",
   "execution_count": null,
   "id": "aa05c040",
   "metadata": {},
   "outputs": [],
   "source": []
  }
 ],
 "metadata": {
  "kernelspec": {
   "display_name": "Python 3 (ipykernel)",
   "language": "python",
   "name": "python3"
  },
  "language_info": {
   "codemirror_mode": {
    "name": "ipython",
    "version": 3
   },
   "file_extension": ".py",
   "mimetype": "text/x-python",
   "name": "python",
   "nbconvert_exporter": "python",
   "pygments_lexer": "ipython3",
   "version": "3.9.13"
  }
 },
 "nbformat": 4,
 "nbformat_minor": 5
}
